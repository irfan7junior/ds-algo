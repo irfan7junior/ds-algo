{
 "metadata": {
  "language_info": {
   "codemirror_mode": {
    "name": "ipython",
    "version": 3
   },
   "file_extension": ".py",
   "mimetype": "text/x-python",
   "name": "python",
   "nbconvert_exporter": "python",
   "pygments_lexer": "ipython3",
   "version": "3.8.5-final"
  },
  "orig_nbformat": 2,
  "kernelspec": {
   "name": "python3",
   "display_name": "Python 3.8.5 32-bit",
   "metadata": {
    "interpreter": {
     "hash": "b3ddf538fb3a42f9fbfe7f11c6dede3ea7130c83f3ba063cba8ec84a42ce8ea2"
    }
   }
  }
 },
 "nbformat": 4,
 "nbformat_minor": 2,
 "cells": [
  {
   "source": [
    "# Stack and Queues"
   ],
   "cell_type": "markdown",
   "metadata": {}
  },
  {
   "source": [
    "## Stack Implementation"
   ],
   "cell_type": "markdown",
   "metadata": {}
  },
  {
   "cell_type": "code",
   "execution_count": 41,
   "metadata": {},
   "outputs": [],
   "source": [
    "# Array Implementation\n",
    "class Stack(object):\n",
    "    def __init__(self):\n",
    "        self.stack = []\n",
    "    \n",
    "    def push(self, item):\n",
    "        self.stack.append(item)\n",
    "    \n",
    "    def pop(self):\n",
    "        if len(self.stack) == 0:\n",
    "            raise Exception('Stack is already empty')\n",
    "        return self.stack.pop()\n",
    "    \n",
    "    def peek(self):\n",
    "        if len(self.stack) == 0:\n",
    "            raise Exception(\"Stack is empty\")\n",
    "        return self.stack[-1]\n",
    "    \n",
    "    def is_empty(self):\n",
    "        return len(self.stack) == 0\n",
    "    \n",
    "    def __repr__(self):\n",
    "        return str(self.stack)\n",
    "\n",
    "# Linked List implementation        \n",
    "class StackNode(object):\n",
    "    def __init__(self, value):\n",
    "        self.value = value\n",
    "        self.left = None\n",
    "        self.right = None\n",
    "    \n",
    "    def __repr__(self):\n",
    "        result = \"\"\n",
    "        result += f'(Node: {self.value}) <- '\n",
    "        if self.left != None:\n",
    "            result += str(self.left)\n",
    "        else:\n",
    "            result += 'None'\n",
    "        return result\n",
    "\n",
    "class StackLL(object):\n",
    "    def __init__(self):\n",
    "        self.top = None\n",
    "    \n",
    "    def push(self, value):\n",
    "        new_node = StackNode(value)\n",
    "        if self.top == None:\n",
    "            self.top = new_node\n",
    "            return\n",
    "        self.top.right = new_node\n",
    "        new_node.left = self.top\n",
    "        self.top = new_node\n",
    "\n",
    "    def pop(self):\n",
    "        if self.top == None:\n",
    "            raise Exception('Stack is empty')\n",
    "        result = self.top.value\n",
    "        self.top = self.top.left\n",
    "        return result\n",
    "    \n",
    "    def peek(self):\n",
    "        if self.top == None:\n",
    "            raise Exception('Stack is empty')\n",
    "        return self.top.value\n",
    "    \n",
    "    def is_empty(self):\n",
    "        if self.top == None:\n",
    "            return True\n",
    "        return False\n",
    "    \n",
    "    def __repr__(self):\n",
    "        return str(self.top)"
   ]
  }
 ]
}