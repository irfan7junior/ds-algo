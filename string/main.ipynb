{
 "metadata": {
  "language_info": {
   "codemirror_mode": {
    "name": "ipython",
    "version": 3
   },
   "file_extension": ".py",
   "mimetype": "text/x-python",
   "name": "python",
   "nbconvert_exporter": "python",
   "pygments_lexer": "ipython3",
   "version": "3.8.5-final"
  },
  "orig_nbformat": 2,
  "kernelspec": {
   "name": "python3",
   "display_name": "Python 3.8.5 32-bit",
   "metadata": {
    "interpreter": {
     "hash": "b3ddf538fb3a42f9fbfe7f11c6dede3ea7130c83f3ba063cba8ec84a42ce8ea2"
    }
   }
  }
 },
 "nbformat": 4,
 "nbformat_minor": 2,
 "cells": [
  {
   "source": [
    "# String"
   ],
   "cell_type": "markdown",
   "metadata": {}
  },
  {
   "source": [
    "## Reverse a String"
   ],
   "cell_type": "markdown",
   "metadata": {}
  },
  {
   "cell_type": "code",
   "execution_count": 1,
   "metadata": {},
   "outputs": [],
   "source": [
    "def reverse_string(string: str) -> str:\n",
    "    str_array = [char for char in string]\n",
    "    start = 0\n",
    "    end = len(string) - 1\n",
    "    while start < end:\n",
    "        str_array[start], str_array[end] = str_array[end], str_array[start]\n",
    "        start += 1\n",
    "        end -= 1\n",
    "    \n",
    "    return ''.join(str_array)"
   ]
  },
  {
   "cell_type": "code",
   "execution_count": 2,
   "metadata": {},
   "outputs": [
    {
     "output_type": "stream",
     "name": "stdout",
     "text": [
      "All test cases passed\n"
     ]
    }
   ],
   "source": [
    "from nose.tools import assert_equal\n",
    "\n",
    "class Test(object):\n",
    "    def test(self, solution):\n",
    "        assert_equal(solution(\"hello\"), \"hello\"[::-1])\n",
    "        print('All test cases passed')\n",
    "Test().test(reverse_string)"
   ]
  },
  {
   "source": [
    "## Check Palindrome"
   ],
   "cell_type": "markdown",
   "metadata": {}
  },
  {
   "cell_type": "code",
   "execution_count": 3,
   "metadata": {},
   "outputs": [
    {
     "output_type": "execute_result",
     "data": {
      "text/plain": [
       "True"
      ]
     },
     "metadata": {},
     "execution_count": 3
    }
   ],
   "source": [
    "def palindrome(string):\n",
    "    start = 0\n",
    "    end = len(string) - 1\n",
    "    while start < end:\n",
    "        if string[start] != string[end]:\n",
    "            return False\n",
    "        start += 1\n",
    "        end -= 1\n",
    "    return True\n",
    "\n",
    "# testing\n",
    "palindrome('abba')"
   ]
  },
  {
   "source": [
    "## Print all the duplicates in string"
   ],
   "cell_type": "markdown",
   "metadata": {}
  },
  {
   "cell_type": "code",
   "execution_count": 4,
   "metadata": {},
   "outputs": [
    {
     "output_type": "stream",
     "name": "stdout",
     "text": [
      "t s "
     ]
    }
   ],
   "source": [
    "from collections import defaultdict\n",
    "def get_duplicates(string):\n",
    "    _hash = defaultdict(int)\n",
    "    for char in string:\n",
    "        _hash[char] += 1\n",
    "    for char, num in _hash.items():\n",
    "        if num > 1:\n",
    "            print(char, end=' ')\n",
    "\n",
    "# testing\n",
    "get_duplicates('test string')"
   ]
  },
  {
   "source": [
    "## Write a code to check whether one string is a rotation of another"
   ],
   "cell_type": "markdown",
   "metadata": {}
  },
  {
   "cell_type": "code",
   "execution_count": 5,
   "metadata": {},
   "outputs": [
    {
     "output_type": "execute_result",
     "data": {
      "text/plain": [
       "True"
      ]
     },
     "metadata": {},
     "execution_count": 5
    }
   ],
   "source": [
    "def is_rotation(string1, string2):\n",
    "    if len(string1) != len(string2):\n",
    "        return False\n",
    "    string = string1 + string1\n",
    "    if string.count(string2) > 0:\n",
    "        return True\n",
    "    return False\n",
    "\n",
    "# testing\n",
    "is_rotation('aacd', 'acda')"
   ]
  },
  {
   "source": [
    "## Check if a string is a valid shuffle of two other strings"
   ],
   "cell_type": "markdown",
   "metadata": {}
  },
  {
   "cell_type": "code",
   "execution_count": 6,
   "metadata": {},
   "outputs": [
    {
     "output_type": "execute_result",
     "data": {
      "text/plain": [
       "True"
      ]
     },
     "metadata": {},
     "execution_count": 6
    }
   ],
   "source": [
    "def check_shuffle(string1, string2, final):\n",
    "    i = j = k = 0\n",
    "    while k < len(final):\n",
    "        if i < len(string1) and string1[i] == final[k]:\n",
    "            i += 1\n",
    "        elif j < len(string2) and string2[j] == final[k]:\n",
    "            j += 1\n",
    "        else:\n",
    "            return False\n",
    "        k += 1\n",
    "    if i < len(string1) or j < len(string2):\n",
    "        return False\n",
    "    return True\n",
    "\n",
    "# testing\n",
    "check_shuffle('xy', '12', '1xy2')"
   ]
  },
  {
   "source": [
    "## Count and Say"
   ],
   "cell_type": "markdown",
   "metadata": {}
  },
  {
   "cell_type": "code",
   "execution_count": 7,
   "metadata": {},
   "outputs": [
    {
     "output_type": "execute_result",
     "data": {
      "text/plain": [
       "'111233'"
      ]
     },
     "metadata": {},
     "execution_count": 7
    }
   ],
   "source": [
    "def count_say(string):\n",
    "    result = []\n",
    "    count = 1\n",
    "    char = string[0]\n",
    "    for i in range(1, len(string)):\n",
    "        if string[i] != char:\n",
    "            result.append(str(count))\n",
    "            result.append(char)\n",
    "            char = string[i]\n",
    "            count = 1\n",
    "        else:\n",
    "            count += 1\n",
    "    result.append(str(count))\n",
    "    result.append(char)\n",
    "    return ''.join(result)\n",
    "\n",
    "# testing\n",
    "count_say('12333')"
   ]
  },
  {
   "source": [
    "## Longest Palindrome in a String"
   ],
   "cell_type": "markdown",
   "metadata": {}
  },
  {
   "cell_type": "code",
   "execution_count": 8,
   "metadata": {},
   "outputs": [
    {
     "output_type": "execute_result",
     "data": {
      "text/plain": [
       "(3, 12, 10)"
      ]
     },
     "metadata": {},
     "execution_count": 8
    }
   ],
   "source": [
    "def longest_palindrome(string):\n",
    "    memo = [[False for i in range(len(string))] for j in range(len(string))]\n",
    "\n",
    "    start, end = None, None\n",
    "    for i in range(len(string)):\n",
    "        memo[i][i] = True\n",
    "        start, end = i, i\n",
    "    max_length = 1\n",
    "    \n",
    "    for i in range(1, len(string)):\n",
    "        if string[i] == string[i - 1]:\n",
    "            memo[i-1][i] = True\n",
    "            max_length = 2\n",
    "            start, end = i - 1, i\n",
    "    \n",
    "\n",
    "    for k in range(2, len(string)):\n",
    "        i = 0\n",
    "        while i < len(string) - k:\n",
    "            j = i + k\n",
    "\n",
    "            if memo[i+1][j-1] == True and string[i] == string[j]:\n",
    "                memo[i][j] = True\n",
    "                if k + 1 > max_length:\n",
    "                    max_length = k + 1\n",
    "                    start, end = i, j\n",
    "            i += 1\n",
    "    return (start, end, max_length)\n",
    "\n",
    "# testing\n",
    "longest_palindrome('forgeeksskeegfor')"
   ]
  },
  {
   "source": [
    "## Longest Common Subsequence"
   ],
   "cell_type": "markdown",
   "metadata": {}
  },
  {
   "cell_type": "code",
   "execution_count": 9,
   "metadata": {},
   "outputs": [
    {
     "output_type": "execute_result",
     "data": {
      "text/plain": [
       "4"
      ]
     },
     "metadata": {},
     "execution_count": 9
    }
   ],
   "source": [
    "def longest_common_sub(string1, string2):\n",
    "    memo = [[0 for i in range(len(string2) + 1)] for j in range(len(string1) + 1)]\n",
    "    for i in range(1, len(string1) + 1):\n",
    "        for j in range(1, len(string2) + 1):\n",
    "            if string1[i-1] == string2[j-1]:\n",
    "                memo[i][j] = memo[i-1][j-1] + 1\n",
    "            else:\n",
    "                memo[i][j] = max(memo[i-1][j], memo[i][j-1])\n",
    "    return memo[-1][-1]\n",
    "\n",
    "# testing\n",
    "longest_common_sub('aggtab', 'gxtxayb')"
   ]
  },
  {
   "source": [
    "## Longest Recurring Subsequence"
   ],
   "cell_type": "markdown",
   "metadata": {}
  },
  {
   "cell_type": "code",
   "execution_count": 10,
   "metadata": {},
   "outputs": [
    {
     "output_type": "execute_result",
     "data": {
      "text/plain": [
       "2"
      ]
     },
     "metadata": {},
     "execution_count": 10
    }
   ],
   "source": [
    "def longest_recur_sub(string):\n",
    "    memo = [[0 for i in range(len(string) + 1)] for j in range(len(string) + 1)]\n",
    "    for i in range(1, len(string) + 1):\n",
    "        for j in range(1, len(string) + 1):\n",
    "            if string[i - 1] == string[j - 1] and i != j:\n",
    "                memo[i][j] = 1 + memo[i-1][j-1]\n",
    "            else:\n",
    "                memo[i][j] = max(memo[i-1][j], memo[i][j-1])\n",
    "    return memo[-1][-1]\n",
    "\n",
    "# testing\n",
    "longest_recur_sub('aabb')"
   ]
  },
  {
   "source": [
    "## Print all Substrings"
   ],
   "cell_type": "markdown",
   "metadata": {}
  },
  {
   "cell_type": "code",
   "execution_count": 11,
   "metadata": {},
   "outputs": [
    {
     "output_type": "stream",
     "name": "stdout",
     "text": [
      "abc ab ac a bc b c  "
     ]
    }
   ],
   "source": [
    "def print_all_sub(input, output):\n",
    "    if len(input) == 0:\n",
    "        print(output, end=' ')\n",
    "        return\n",
    "    \n",
    "    print_all_sub(input[1:], output + input[0])\n",
    "    print_all_sub(input[1:], output)\n",
    "\n",
    "# testing\n",
    "print_all_sub('abc', '')"
   ]
  },
  {
   "source": [
    "## Print all Permutations"
   ],
   "cell_type": "markdown",
   "metadata": {}
  },
  {
   "cell_type": "code",
   "execution_count": 1,
   "metadata": {},
   "outputs": [
    {
     "output_type": "stream",
     "name": "stdout",
     "text": [
      "abc\nacb\nbac\nbca\ncba\ncab\n"
     ]
    }
   ],
   "source": [
    "def print_all_perm(string, start, end):\n",
    "    if start == end:\n",
    "        print(''.join(string))\n",
    "        return\n",
    "    \n",
    "    for i in range(start, end + 1):\n",
    "        string[i], string[start] = string[start], string[i]\n",
    "        print_all_perm(string, start + 1, end)\n",
    "        string[i], string[start] = string[start], string[i]\n",
    "\n",
    "# testing\n",
    "print_all_perm(list('abc'), 0, 2)"
   ]
  },
  {
   "source": [
    "## Count the Binary strings into two substring with equal 0's and 1's"
   ],
   "cell_type": "markdown",
   "metadata": {}
  },
  {
   "cell_type": "code",
   "execution_count": 2,
   "metadata": {},
   "outputs": [
    {
     "output_type": "execute_result",
     "data": {
      "text/plain": [
       "4"
      ]
     },
     "metadata": {},
     "execution_count": 2
    }
   ],
   "source": [
    "def count_equal_sub(string):\n",
    "    count_0 = count_1 = count = 0\n",
    "    for char in string:\n",
    "        if char == '0':\n",
    "            count_0 += 1\n",
    "        elif char == '1':\n",
    "            count_1 += 1\n",
    "        if count_0 == count_1:\n",
    "            count += 1\n",
    "    return count\n",
    "\n",
    "# testing\n",
    "count_equal_sub('0100110101')"
   ]
  },
  {
   "source": [
    "## Word Wrap Problem"
   ],
   "cell_type": "markdown",
   "metadata": {}
  },
  {
   "cell_type": "code",
   "execution_count": 2,
   "metadata": {},
   "outputs": [
    {
     "output_type": "stream",
     "name": "stdout",
     "text": [
      "MD Irfan \nlikes \nto code "
     ]
    }
   ],
   "source": [
    "def word_wrap(words, line_size):\n",
    "    size = len(words)\n",
    "    cost_matrix = [[float('inf') for i in range(size)] for j in range(size)]\n",
    "\n",
    "    for i in range(size):\n",
    "        length = len(words[i])\n",
    "        cost_matrix[i][i] = (line_size - length)**2\n",
    "        for j in range(i + 1, size):\n",
    "            length += (len(words[j]) + 1)\n",
    "            diff = (line_size - length)\n",
    "            cost_matrix[i][j] = diff**2 if diff >= 0 else float('inf')\n",
    "    \n",
    "    cost = [float('inf') for i in range(size)]\n",
    "    lines = [None for i in range(size)]\n",
    "\n",
    "    i = size - 1\n",
    "\n",
    "    while i >= 0:\n",
    "        j = size - 1\n",
    "        while j >= i:\n",
    "            total = cost_matrix[i][j] + (cost[j+1] if j < size - 1 else 0)\n",
    "            if total < cost[i]:\n",
    "                cost[i] = total\n",
    "                lines[i] = j + 1\n",
    "            j -= 1\n",
    "\n",
    "        i -= 1\n",
    "    \n",
    "    prevLine = None\n",
    "    for (i, word) in enumerate(words):\n",
    "        current = lines[i]\n",
    "        if current == prevLine or prevLine == None:\n",
    "            pass\n",
    "        else:\n",
    "            print()\n",
    "        print(word, end = ' ')\n",
    "        prevLine = current\n",
    "\n",
    "# testing\n",
    "word_wrap(['MD', 'Irfan', 'likes', 'to', 'code'], 10)"
   ]
  },
  {
   "source": [
    "## Edit Distance"
   ],
   "cell_type": "markdown",
   "metadata": {}
  },
  {
   "cell_type": "code",
   "execution_count": 22,
   "metadata": {},
   "outputs": [
    {
     "output_type": "execute_result",
     "data": {
      "text/plain": [
       "1"
      ]
     },
     "metadata": {},
     "execution_count": 22
    }
   ],
   "source": [
    "def edit_distance(string1, string2):\n",
    "    size1 = len(string1)\n",
    "    size2 = len(string2)\n",
    "    cost_matrix = [[float('inf') for i in range(size1 + 1)] for j in range(size2 + 1)]\n",
    "    \n",
    "    for i in range(size1 + 1):\n",
    "        cost_matrix[0][i] = i\n",
    "    \n",
    "    for i in range(size2 + 1):\n",
    "        cost_matrix[i][0] = i\n",
    "    \n",
    "    for i in range(1, size2 + 1):\n",
    "        for j in range(1, size1 + 1):\n",
    "            if string1[j-1] == string2[i-1]:\n",
    "                cost_matrix[i][j] = cost_matrix[i-1][j-1]\n",
    "            else:\n",
    "                cost_matrix[i][j] = min(cost_matrix[i-1][j-1], \n",
    "                                        cost_matrix[i-1][j],\n",
    "                                        cost_matrix[i][j-1]) + 1\n",
    "\n",
    "    return cost_matrix[size2][size1]\n",
    "\n",
    "# testing\n",
    "edit_distance('geek', 'gesek')"
   ]
  },
  {
   "source": [
    "## Next Permutation"
   ],
   "cell_type": "markdown",
   "metadata": {}
  },
  {
   "cell_type": "code",
   "execution_count": 39,
   "metadata": {},
   "outputs": [
    {
     "output_type": "execute_result",
     "data": {
      "text/plain": [
       "'5 3 6 4 7 9'"
      ]
     },
     "metadata": {},
     "execution_count": 39
    }
   ],
   "source": [
    "def next_permutation(nums):\n",
    "    prev = None\n",
    "    left = None\n",
    "    for i in range(len(nums) - 1, -1, -1):\n",
    "        if prev == None or nums[i] > prev:\n",
    "            prev = nums[i]\n",
    "        else:\n",
    "            left = i\n",
    "            break\n",
    "    \n",
    "    nums[left], nums[-1] = nums[-1], nums[left]\n",
    "    \n",
    "    i = left + 1\n",
    "    j = len(nums) - 1\n",
    "    while i < j:\n",
    "        nums[i], nums[j] = nums[j], nums[i]\n",
    "        i += 1\n",
    "        j -= 1\n",
    "    return ' '.join(map(str, nums))\n",
    "\n",
    "# testing\n",
    "next_permutation([5, 3, 4, 9, 7, 6])"
   ]
  },
  {
   "source": [
    "## Balance Parenthesis"
   ],
   "cell_type": "markdown",
   "metadata": {}
  },
  {
   "cell_type": "code",
   "execution_count": 70,
   "metadata": {},
   "outputs": [
    {
     "output_type": "execute_result",
     "data": {
      "text/plain": [
       "True"
      ]
     },
     "metadata": {},
     "execution_count": 70
    }
   ],
   "source": [
    "from collections import deque\n",
    "\n",
    "def balance_paren(string):\n",
    "    stack = deque()\n",
    "    mapping = {\n",
    "        '(': ')',\n",
    "        '{': '}',\n",
    "        '[': ']'\n",
    "    }\n",
    "    open_p = set(mapping.keys())\n",
    "    close_p = set(mapping.values())\n",
    "\n",
    "    for char in string:\n",
    "        if char in open_p:\n",
    "            stack.append(char)\n",
    "        elif char in close_p:\n",
    "            if len(stack) == 0:\n",
    "                return False\n",
    "            top_open = stack.pop()\n",
    "            if mapping[top_open] != char:\n",
    "                return False\n",
    "    return len(stack) == 0\n",
    "\n",
    "# testing\n",
    "balance_paren('({}[]{}{})')"
   ]
  },
  {
   "source": [
    "## Word Bank"
   ],
   "cell_type": "markdown",
   "metadata": {}
  },
  {
   "cell_type": "code",
   "execution_count": 130,
   "metadata": {},
   "outputs": [
    {
     "output_type": "execute_result",
     "data": {
      "text/plain": [
       "True"
      ]
     },
     "metadata": {},
     "execution_count": 130
    }
   ],
   "source": [
    "def word_back_rec(word, words, memo=dict()):\n",
    "    if word == '':\n",
    "        return True\n",
    "    \n",
    "    if word in memo:\n",
    "        return memo[word]\n",
    "\n",
    "    for i in range(1, len(words) + 1):\n",
    "        if word[:i] in words and word_back_rec(word[i:], words):\n",
    "            memo[word] = True\n",
    "            return True\n",
    "\n",
    "    memo[word] = False\n",
    "    return False\n",
    "\n",
    "def word_back(target, words):\n",
    "    memo = [False for i in range(len(target) + 1)]\n",
    "    memo[0] = True\n",
    "\n",
    "    for i in range(len(target) + 1):\n",
    "        if memo[i] == True:\n",
    "            for word in words:\n",
    "                if target[i:].startswith(word):\n",
    "                    memo[i + len(word)] = True\n",
    "    return memo[len(target)]\n",
    "\n",
    "# testing\n",
    "words = {word: True for word in ['i', 'like', 'sam', 'sung']}\n",
    "word_back('ilikesamsung', list(words.keys()))\n",
    "word_back_rec('ilikesamsung', words)"
   ]
  },
  {
   "source": [
    "## bRain Karp"
   ],
   "cell_type": "markdown",
   "metadata": {}
  },
  {
   "cell_type": "code",
   "execution_count": 23,
   "metadata": {},
   "outputs": [
    {
     "output_type": "stream",
     "name": "stdout",
     "text": [
      "2 12 "
     ]
    }
   ],
   "source": [
    "def check_string(text, pattern, i):\n",
    "    for cur in range(len(pattern)):\n",
    "        if pattern[cur] != text[i+cur]:\n",
    "            return False\n",
    "    return True\n",
    "\n",
    "def rabin_karp(text, pattern):\n",
    "    pat_hash = 0\n",
    "    cur_hash = 0\n",
    "    prime = 3\n",
    "    for (i, char) in enumerate(pattern):\n",
    "        pat_hash += ord(char) * (prime ** i)\n",
    "        cur_hash += ord(text[i]) * (prime ** i)\n",
    "\n",
    "    for i in range(len(text) - len(pattern) - 1):\n",
    "        if pat_hash == cur_hash:\n",
    "            if check_string(text, pattern, i):\n",
    "                print(i, end=' ')\n",
    "        cur_hash -= ord(text[i])\n",
    "        cur_hash //= prime\n",
    "        cur_hash += ord(text[i + len(pattern)]) * (prime ** (len(pattern) - 1))\n",
    "    \n",
    "# testing\n",
    "string = 'a test is a test text'\n",
    "pattern = 'test'\n",
    "rabin_karp(string, pattern)"
   ]
  },
  {
   "source": [
    "## KMP Substring Search"
   ],
   "cell_type": "markdown",
   "metadata": {}
  },
  {
   "cell_type": "code",
   "execution_count": 19,
   "metadata": {},
   "outputs": [
    {
     "output_type": "stream",
     "name": "stdout",
     "text": [
      "10 "
     ]
    }
   ],
   "source": [
    "def kmp(text, pattern):\n",
    "    sub_array = [0 for _ in range(len(pattern))]\n",
    "\n",
    "    # fill the sub_array with correct values\n",
    "    j = 0\n",
    "    for i in range(1, len(sub_array)):\n",
    "        if pattern[i] == pattern[j]:\n",
    "            sub_array[i] = j + 1\n",
    "            j += 1\n",
    "        else:\n",
    "            while j >= 0 and pattern[j] != pattern[i]:\n",
    "                if j == 0:\n",
    "                    break\n",
    "                j -= 1\n",
    "            if pattern[j] == pattern[i]:\n",
    "                sub_array[i] = j + 1\n",
    "                j += 1\n",
    "            else:\n",
    "                sub_array[i] = j\n",
    "\n",
    "    j = 0\n",
    "    i = 0\n",
    "    while i < len(text):\n",
    "        if pattern[j] == text[i]:\n",
    "            j += 1\n",
    "            i += 1\n",
    "        \n",
    "        if j == len(pattern):\n",
    "            print(i - j, end=' ')\n",
    "            j = sub_array[j-1]\n",
    "\n",
    "        elif i < len(text) and pattern[j] != text[i]:\n",
    "            if j != 0:\n",
    "                j = sub_array[j-1]\n",
    "            else:\n",
    "                i += 1\n",
    "\n",
    "# testing\n",
    "kmp('ABABDABACDABABCABAB', 'ABABCABAB')"
   ]
  },
  {
   "source": [
    "## Convert a sentence into its equivalent mobile numerical keypad sequence"
   ],
   "cell_type": "markdown",
   "metadata": {}
  },
  {
   "cell_type": "code",
   "execution_count": 32,
   "metadata": {},
   "outputs": [
    {
     "output_type": "stream",
     "name": "stdout",
     "text": [
      "4433555555666096667775553"
     ]
    }
   ],
   "source": [
    "def convert_keypad(text):\n",
    "    keypad_arr = [\"2\", \"22\", \"222\", \n",
    "        \"3\", \"33\", \"333\", \n",
    "        \"4\", \"44\", \"444\", \n",
    "        \"5\", \"55\", \"555\", \n",
    "        \"6\", \"66\", \"666\", \n",
    "        \"7\", \"77\", \"777\", \"7777\", \n",
    "        \"8\", \"88\", \"888\", \n",
    "        \"9\", \"99\", \"999\", \"9999\" ]\n",
    "    \n",
    "    for char in text:\n",
    "        if char == ' ':\n",
    "            print('0', end='')\n",
    "        else:\n",
    "            print(keypad_arr[ord(char) - ord('a')], end='')\n",
    "\n",
    "# testing\n",
    "convert_keypad('hello world')"
   ]
  },
  {
   "source": [
    "## Minimum Bracket Reversals"
   ],
   "cell_type": "markdown",
   "metadata": {}
  },
  {
   "cell_type": "code",
   "execution_count": 40,
   "metadata": {},
   "outputs": [
    {
     "output_type": "execute_result",
     "data": {
      "text/plain": [
       "2"
      ]
     },
     "metadata": {},
     "execution_count": 40
    }
   ],
   "source": [
    "from collections import deque\n",
    "from math import ceil\n",
    "def min_brack_rev(expression):\n",
    "    if len(expression) % 2 != 0:\n",
    "        return False\n",
    "    stack = deque()\n",
    "    for char in expression:\n",
    "        if char == '{' or len(stack) == 0:\n",
    "            stack.append(char)\n",
    "        else:\n",
    "            cur_paren = stack[-1]\n",
    "            if cur_paren == '{':\n",
    "                stack.pop()\n",
    "            else:\n",
    "                stack.append(cur_paren)\n",
    "    l_op = l_cp = 0\n",
    "    for paren in stack:\n",
    "        if paren == '{':\n",
    "            l_op += 1\n",
    "        else:\n",
    "            l_cp += 1\n",
    "    \n",
    "    return  ceil(l_op / 2) + ceil(l_cp / 2)\n",
    "\n",
    "# testing\n",
    "min_brack_rev('}{')"
   ]
  },
  {
   "source": [
    "## Count Palindromic Subsequences"
   ],
   "cell_type": "markdown",
   "metadata": {}
  },
  {
   "cell_type": "code",
   "execution_count": 91,
   "metadata": {},
   "outputs": [
    {
     "output_type": "execute_result",
     "data": {
      "text/plain": [
       "15"
      ]
     },
     "metadata": {},
     "execution_count": 91
    }
   ],
   "source": [
    "def count_palindromes(text):\n",
    "    size = len(text)\n",
    "    matrix = [[0 for _ in range(size + 2)] for _ in range(size + 2)]\n",
    "\n",
    "    for i in range(size):\n",
    "        matrix[i][i] = 1\n",
    "    \n",
    "    for l in range(2, size + 1):\n",
    "        for i in range(size):\n",
    "            k = l + i - 1\n",
    "            if k < size:\n",
    "                if text[i] == text[k]:\n",
    "                    matrix[i][k] = (matrix[i][k-1] + matrix[i+1][k] + 1)\n",
    "                else:\n",
    "                    matrix[i][k] = (matrix[i][k-1] + matrix[i+1][k] - matrix[i+1][k-1])\n",
    "\n",
    "    return matrix[0][size-1]\n",
    "\n",
    "# testing\n",
    "count_palindromes('aaaa')"
   ]
  },
  {
   "source": [
    "## Search a Word in a 2d grid of characters"
   ],
   "cell_type": "markdown",
   "metadata": {}
  },
  {
   "cell_type": "code",
   "execution_count": 34,
   "metadata": {},
   "outputs": [
    {
     "output_type": "stream",
     "name": "stdout",
     "text": [
      "(0, 0) (0, 8) (1, 0) "
     ]
    }
   ],
   "source": [
    "def search_word(matrix, word):\n",
    "    rows = len(matrix)\n",
    "    cols = len(matrix[0])\n",
    "\n",
    "    for i in range(rows):\n",
    "        for j in range(cols):\n",
    "            found = search_cell(matrix, rows, cols, word, i, j)\n",
    "            if found:\n",
    "                print(f'({i}, {j})', end=' ')\n",
    "\n",
    "def search_cell(matrix, rows, cols, word, row, col):\n",
    "    directions = [\n",
    "        [0, 1], [1, 1], [1, 0], [1, -1], [0, -1], [-1, -1], [-1, 0], [-1, 1]\n",
    "    ]\n",
    "    \n",
    "    found = False\n",
    "    for (r_move, c_move) in directions:\n",
    "        i = row\n",
    "        j = col\n",
    "        for l in range(len(word)):\n",
    "            if 0 <= i < rows and 0 <= j < cols and matrix[i][j] == word[l]:\n",
    "                found = True\n",
    "                i += r_move\n",
    "                j += c_move\n",
    "            else:\n",
    "                found = False\n",
    "                break\n",
    "        if found:\n",
    "            return True\n",
    "\n",
    "    return False\n",
    "\n",
    "# testing\n",
    "grid = [\n",
    "    \"GEEKSFORGEEKS\",\n",
    "    \"GEEKSQUIZGEEK\",\n",
    "    \"IDEQAPRACTICE\"\n",
    "]\n",
    "search_word(grid, 'GEEKS')"
   ]
  },
  {
   "source": [
    "## Count of Word in a Matrix"
   ],
   "cell_type": "markdown",
   "metadata": {}
  },
  {
   "cell_type": "code",
   "execution_count": 41,
   "metadata": {},
   "outputs": [
    {
     "output_type": "execute_result",
     "data": {
      "text/plain": [
       "3"
      ]
     },
     "metadata": {},
     "execution_count": 41
    }
   ],
   "source": [
    "def count_word(matrix, word):\n",
    "    rows = len(matrix)\n",
    "    cols = len(matrix)\n",
    "\n",
    "    found = 0\n",
    "    for i in range(rows):\n",
    "        for j in range(cols):\n",
    "            found += count_word_func(matrix, rows, cols, i, j, 0, word)\n",
    "    return found\n",
    "\n",
    "def count_word_func(matrix, rows, cols, row, col, ii, word):\n",
    "    found = 0\n",
    "    if 0 <= row < rows and 0 <= col < cols and word[ii] == matrix[row][col]:\n",
    "        match = word[ii]\n",
    "        ii += 1\n",
    "        matrix[row][col] = None\n",
    "        if ii == len(word):\n",
    "            found = 1\n",
    "        else:\n",
    "            found += count_word_func(matrix, rows, cols, row, col + 1, ii, word)\n",
    "            found += count_word_func(matrix, rows, cols, row - 1, col, ii, word)\n",
    "            found += count_word_func(matrix, rows, cols, row, col - 1, ii, word)\n",
    "            found += count_word_func(matrix, rows, cols, row + 1, col, ii, word)\n",
    "\n",
    "        matrix[row][col] = match\n",
    "    return found\n",
    "\n",
    "# testing\n",
    "grid = [[el for el in array] for array in \n",
    "    [\"BBABBM\", \"CBMBBA\", \"IBABBG\", \"GOZBBI\", \"ABBBBC\", \"MCIGAM\"]]\n",
    "count_word(grid, \"MAGIC\")"
   ]
  },
  {
   "source": [
    "## Roman to Decimal"
   ],
   "cell_type": "markdown",
   "metadata": {}
  },
  {
   "cell_type": "code",
   "execution_count": 61,
   "metadata": {},
   "outputs": [
    {
     "output_type": "execute_result",
     "data": {
      "text/plain": [
       "1904"
      ]
     },
     "metadata": {},
     "execution_count": 61
    }
   ],
   "source": [
    "def roman_decimal(roman):\n",
    "    map_ = { 'I': 1, 'V': 5, 'X': 10, 'L': 50, 'C': 100, 'D': 500, 'M': 1000 }\n",
    "    sum_ = 0\n",
    "    i = 0\n",
    "    while i < len(roman):\n",
    "        cur = map_[roman[i]]\n",
    "        next_ = float('-inf')\n",
    "        if i + 1 < len(roman):\n",
    "            next_ = map_[roman[i+1]]\n",
    "        if cur >= next_:\n",
    "            sum_ += cur\n",
    "        else:\n",
    "            sum_ += (next_ - cur)\n",
    "            i += 1\n",
    "        i += 1\n",
    "    return sum_\n",
    "\n",
    "# testing\n",
    "roman_decimal('MCMIV')"
   ]
  },
  {
   "source": [
    "## Longest Common Prefix"
   ],
   "cell_type": "markdown",
   "metadata": {}
  },
  {
   "cell_type": "code",
   "execution_count": 16,
   "metadata": {},
   "outputs": [
    {
     "output_type": "execute_result",
     "data": {
      "text/plain": [
       "'ar'"
      ]
     },
     "metadata": {},
     "execution_count": 16
    }
   ],
   "source": [
    "def long_com_pref(strings):\n",
    "    min_length = min([len(string) for string in strings])\n",
    "    cur = -1\n",
    "    for i in range(min_length):\n",
    "        prev = None\n",
    "        for string in strings:\n",
    "            if prev == None:\n",
    "                prev = string[cur+1]\n",
    "            elif string[cur+1] == prev:\n",
    "                pass\n",
    "            else:\n",
    "                return string[:cur + 1]\n",
    "        cur += 1\n",
    "    strings[0][:cur+1]\n",
    "\n",
    "# testing\n",
    "long_com_pref([\"ardog\",\"aracecar\",\"arcar\"])"
   ]
  },
  {
   "source": [
    "## Minimum Flips to Alternate in Binary String"
   ],
   "cell_type": "markdown",
   "metadata": {}
  },
  {
   "cell_type": "code",
   "execution_count": 17,
   "metadata": {},
   "outputs": [
    {
     "output_type": "execute_result",
     "data": {
      "text/plain": [
       "2"
      ]
     },
     "metadata": {},
     "execution_count": 17
    }
   ],
   "source": [
    "def min_flips(string):\n",
    "    return min(find_flips(string, '0'), find_flips(string, '1'))\n",
    "\n",
    "def find_flips(string, expected):\n",
    "    count = 0\n",
    "    for char in string:\n",
    "        if char != expected:\n",
    "            count += 1\n",
    "        expected = flip(expected)\n",
    "    return count\n",
    "\n",
    "def flip(expected):\n",
    "    return '0' if expected == '1' else '1'\n",
    "\n",
    "# testing\n",
    "min_flips('0001010111')"
   ]
  },
  {
   "source": [
    "## Second Most Repeated Word"
   ],
   "cell_type": "markdown",
   "metadata": {}
  },
  {
   "cell_type": "code",
   "execution_count": 19,
   "metadata": {},
   "outputs": [
    {
     "output_type": "execute_result",
     "data": {
      "text/plain": [
       "'bbb'"
      ]
     },
     "metadata": {},
     "execution_count": 19
    }
   ],
   "source": [
    "from collections import defaultdict\n",
    "def sec_repeat(words):\n",
    "    hash_map = defaultdict(int)\n",
    "    for word in words:\n",
    "        hash_map[word] += 1\n",
    "    \n",
    "    second_word = None\n",
    "    max_len = float('-inf')\n",
    "    sec_max_len = float('-inf')\n",
    "\n",
    "    for (word, count) in hash_map.items():\n",
    "        cur_len = len(word)\n",
    "        if cur_len > max_len:\n",
    "            max_len, sec_max_len = cur_len, max_len\n",
    "            second_word = word\n",
    "        elif cur_len > sec_max_len:\n",
    "            sec_max_len = cur_len\n",
    "            second_word = word\n",
    "    return second_word\n",
    "\n",
    "# testing\n",
    "sec_repeat(['aaa', 'bbb', 'ccc', 'bbb', 'aaa', 'aaa'])"
   ]
  },
  {
   "cell_type": "code",
   "execution_count": 25,
   "metadata": {},
   "outputs": [
    {
     "output_type": "execute_result",
     "data": {
      "text/plain": [
       "2"
      ]
     },
     "metadata": {},
     "execution_count": 25
    }
   ],
   "source": [
    "from math import ceil\n",
    "from collections import deque\n",
    "def min_brack_balance(brackets):\n",
    "    stack = deque()\n",
    "    for bracket in brackets:\n",
    "        if bracket == '[' or len(stack) == 0:\n",
    "            stack.append(bracket)\n",
    "            \n",
    "        else:\n",
    "            if stack[-1] == '[':\n",
    "                stack.pop()\n",
    "            else:\n",
    "                stack.append(bracket)\n",
    "    count_l = count_r = 0\n",
    "    for bracket in stack:\n",
    "        count_l += 1 if bracket == '[' else 0\n",
    "        count_r += 1 if bracket == ']' else 0\n",
    "    return ceil(count_l / 2) + ceil(count_r / 2)\n",
    "\n",
    "# testing\n",
    "min_brack_balance('][][][][')"
   ]
  },
  {
   "source": [
    "## Longest Common Subsequence"
   ],
   "cell_type": "markdown",
   "metadata": {}
  },
  {
   "cell_type": "code",
   "execution_count": 31,
   "metadata": {},
   "outputs": [
    {
     "output_type": "execute_result",
     "data": {
      "text/plain": [
       "4"
      ]
     },
     "metadata": {},
     "execution_count": 31
    }
   ],
   "source": [
    "def lcs(string1, string2):\n",
    "    size1 = len(string1)\n",
    "    size2 = len(string2)\n",
    "    cost_matrix = [[0 for _ in range(size1 + 1)] for _ in range(size2 + 1)]\n",
    "    for i in range(1, size2+1):\n",
    "        for j in range(1, size1+1):\n",
    "            if string1[j-1] == string2[i-1]:\n",
    "                cost_matrix[i][j] = 1 + cost_matrix[i-1][j-1]\n",
    "            else:\n",
    "                cost_matrix[i][j] = max(cost_matrix[i-1][j], cost_matrix[i][j-1])\n",
    "    return cost_matrix[size2][size1]\n",
    "\n",
    "# testing\n",
    "lcs('AGGTAB', 'GXTXAYB')"
   ]
  },
  {
   "source": [
    "## Generate all possible valid IP address"
   ],
   "cell_type": "markdown",
   "metadata": {}
  },
  {
   "cell_type": "code",
   "execution_count": 64,
   "metadata": {},
   "outputs": [
    {
     "output_type": "execute_result",
     "data": {
      "text/plain": [
       "['255.255.11.135', '255.255.111.35']"
      ]
     },
     "metadata": {},
     "execution_count": 64
    }
   ],
   "source": [
    "def check_ip(ip):\n",
    "    split_ip = ip.split('.')\n",
    "    for group in split_ip:\n",
    "        if len(group) > 1 and int(group) == 0:\n",
    "            return False\n",
    "        if len(group) > 3 or int(group) < 0 or int(group) > 255:\n",
    "            return False\n",
    "        if len(group) > 1 and int(group) != 0 and group[0] == '0':\n",
    "            return False\n",
    "        \n",
    "    return True\n",
    "\n",
    "def all_possible_ip(string):\n",
    "    length = len(string)\n",
    "    result = []\n",
    "\n",
    "    if length > 12:\n",
    "        return result\n",
    "    \n",
    "    string_new = string\n",
    "    for i in range(1, length - 2):\n",
    "        for j in range(i + 1, length - 1):\n",
    "            for k in range(j + 1, length):\n",
    "                string_new = string_new[: k] + '.' + string_new[k: ]\n",
    "                string_new = string_new[: j] + '.' + string_new[j: ]\n",
    "                string_new = string_new[: i] + '.' + string_new[i: ]\n",
    "                if check_ip(string_new):\n",
    "                    result.append(string_new)\n",
    "                string_new = string\n",
    "\n",
    "    return result\n",
    "\n",
    "# testing\n",
    "all_possible_ip('25525511135')"
   ]
  },
  {
   "cell_type": "code",
   "execution_count": null,
   "metadata": {},
   "outputs": [],
   "source": []
  }
 ]
}