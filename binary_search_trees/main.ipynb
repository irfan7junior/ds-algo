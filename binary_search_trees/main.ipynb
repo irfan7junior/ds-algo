{
 "metadata": {
  "language_info": {
   "codemirror_mode": {
    "name": "ipython",
    "version": 3
   },
   "file_extension": ".py",
   "mimetype": "text/x-python",
   "name": "python",
   "nbconvert_exporter": "python",
   "pygments_lexer": "ipython3",
   "version": "3.8.5"
  },
  "orig_nbformat": 2,
  "kernelspec": {
   "name": "python3",
   "display_name": "Python 3.8.5 32-bit",
   "metadata": {
    "interpreter": {
     "hash": "1738e4b2df14406e777cb374aa4ff4d67db1fae8c505445415a9d20f0fc29def"
    }
   }
  }
 },
 "nbformat": 4,
 "nbformat_minor": 2,
 "cells": [
  {
   "source": [
    "# Binary Search Tree"
   ],
   "cell_type": "markdown",
   "metadata": {}
  },
  {
   "cell_type": "code",
   "execution_count": 2,
   "metadata": {},
   "outputs": [],
   "source": [
    "class BSTNode(object):\n",
    "    def __init__(self, value, left = None, right = None, parent = None):\n",
    "        self.value = value\n",
    "        if isinstance(left, BSTNode) or left is None:\n",
    "            self.left = left\n",
    "        if isinstance(right, BSTNode) or right is None:\n",
    "            self.right = right\n",
    "        if isinstance(parent, BSTNode) or parent is None:\n",
    "            self.parent = parent\n",
    "    \n",
    "    def __repr__(self):\n",
    "        return f'Value: {self.value}'\n",
    "\n",
    "class BST(object):\n",
    "    def __init__(self, items = None):\n",
    "        self.head = None\n",
    "        if items != None:\n",
    "            self.insert_many(items)\n",
    "    \n",
    "    def insert(self, value):\n",
    "        new_node = BSTNode(value)\n",
    "        if self.head == None:\n",
    "            self.head = new_node\n",
    "            return\n",
    "        current = self.head\n",
    "        parent = None\n",
    "        while current != None:\n",
    "            parent = current\n",
    "            if value < current.value:\n",
    "                current = current.left\n",
    "            else:\n",
    "                current = current.right\n",
    "        if value < parent.value:\n",
    "            parent.left = new_node\n",
    "            new_node.parent = parent\n",
    "        else:\n",
    "            parent.right = new_node\n",
    "            new_node.parent = new_node\n",
    "\n",
    "    def insert_many(self, items):\n",
    "        for item in items:\n",
    "            self.insert(item)\n",
    "    \n",
    "    @staticmethod\n",
    "    def pretty_print(node, level = 0):\n",
    "        if node is None:\n",
    "            return\n",
    "        BST.pretty_print(node.left, level + 1)\n",
    "        print(' ' * 4 * level + '->', node.value)\n",
    "        BST.pretty_print(node.right, level + 1)"
   ]
  },
  {
   "cell_type": "code",
   "execution_count": 3,
   "metadata": {},
   "outputs": [
    {
     "output_type": "stream",
     "name": "stdout",
     "text": [
      "    -> 1\n        -> 2\n-> 3\n    -> 4\n        -> 5\n"
     ]
    },
    {
     "output_type": "execute_result",
     "data": {
      "text/plain": [
       "Value: 5"
      ]
     },
     "metadata": {},
     "execution_count": 3
    }
   ],
   "source": [
    "import random\n",
    "def find_value(bst, value):\n",
    "    current = bst.head\n",
    "    while current is not None and current.value != value:\n",
    "        if value < current.value:\n",
    "            current = current.left\n",
    "        else:\n",
    "            current = current.right\n",
    "    return current\n",
    "\n",
    "\n",
    "# testing\n",
    "import random\n",
    "tree_nodes = [el for el in range(1, 6)]\n",
    "random.shuffle(tree_nodes)\n",
    "bst = BST(tree_nodes)\n",
    "bst.pretty_print(bst.head)\n",
    "find_value(bst, 5)"
   ]
  },
  {
   "source": [
    "## Delete a node in the Binary Search Tree"
   ],
   "cell_type": "markdown",
   "metadata": {}
  },
  {
   "cell_type": "code",
   "execution_count": 4,
   "metadata": {},
   "outputs": [
    {
     "output_type": "stream",
     "name": "stdout",
     "text": [
      "        -> 1\n    -> 2\n-> 3\n        -> 4\n    -> 5\n-----------------\n        -> 1\n    -> 2\n-> 4\n    -> 5\n"
     ]
    }
   ],
   "source": [
    "def transplant(bst, node_u, node_v):\n",
    "    if node_u.parent == None:\n",
    "        bst.head = node_v\n",
    "    elif node_u.parent.left == node_u:\n",
    "        node_u.parent.left = node_v\n",
    "    else:\n",
    "        node_u.parent.right = node_v\n",
    "    if node_v:\n",
    "        node_v.parent = node_u.parent\n",
    "\n",
    "def minimum(node):\n",
    "    while node.left:\n",
    "        node = node.left\n",
    "    return node\n",
    "\n",
    "def delete_node(bst, value):\n",
    "    node = find_value(bst, value)\n",
    "    if node == None:\n",
    "        return\n",
    "\n",
    "    ## if node has no children, simply transplant node with None\n",
    "    elif node.left == None and node.right == None:\n",
    "        transplant(bst, node, None)\n",
    "    \n",
    "    ## if node has either left or right child, transplant node with present child\n",
    "    elif (node.left and not node.right) or (node.right and not node.left):\n",
    "        if node.left:\n",
    "            transplant(bst, node, node.left)\n",
    "        else:\n",
    "            transplant(bst, node, node.right)\n",
    "    \n",
    "    ## if node has both child\n",
    "    else:\n",
    "        successor = minimum(node.right)\n",
    "        ## if successor is not right child\n",
    "        if successor != node.right:\n",
    "            transplant(bst, successor, successor.right)\n",
    "            successor.right = node.right\n",
    "            node.right.parent = successor\n",
    "\n",
    "        ## if successor has become the right child\n",
    "        transplant(bst, node, successor)\n",
    "        successor.left = node.left\n",
    "        node.left.parent = successor\n",
    "\n",
    "# testing\n",
    "tree_nodes = [el for el in range(1, 6)]\n",
    "random.shuffle(tree_nodes)\n",
    "bst = BST(tree_nodes)\n",
    "bst.pretty_print(bst.head)\n",
    "delete_node(bst, 3)\n",
    "print('-----------------')\n",
    "bst.pretty_print(bst.head)"
   ]
  },
  {
   "source": [
    "## Find min and max in a BST"
   ],
   "cell_type": "markdown",
   "metadata": {}
  },
  {
   "cell_type": "code",
   "execution_count": 5,
   "metadata": {},
   "outputs": [
    {
     "output_type": "stream",
     "name": "stdout",
     "text": [
      "            -> 1\n                -> 2\n        -> 3\n    -> 4\n-> 5\nValue: 1\nValue: 5\n"
     ]
    }
   ],
   "source": [
    "def minimum(node):\n",
    "    while node.left:\n",
    "        node = node.left\n",
    "    return node\n",
    "\n",
    "def maximum(node):\n",
    "    while node.right:\n",
    "        node = node.right\n",
    "    return node\n",
    "\n",
    "# testing\n",
    "tree_nodes = [el for el in range(1, 6)]\n",
    "random.shuffle(tree_nodes)\n",
    "bst = BST(tree_nodes)\n",
    "bst.pretty_print(bst.head)\n",
    "print(minimum(bst.head))\n",
    "print(maximum(bst.head))"
   ]
  },
  {
   "source": [
    "## Inorder successor and inorder predecessor in BST"
   ],
   "cell_type": "markdown",
   "metadata": {}
  },
  {
   "cell_type": "code",
   "execution_count": 6,
   "metadata": {},
   "outputs": [
    {
     "output_type": "stream",
     "name": "stdout",
     "text": [
      "            -> 1\n                -> 2\n        -> 3\n    -> 4\n-> 5\nValue: 4\nValue: 2\n"
     ]
    }
   ],
   "source": [
    "def inorder_suc_pre(root, value):\n",
    "    if root == None:\n",
    "        return\n",
    "    if root.value == value:\n",
    "        current = root.right\n",
    "        if current:\n",
    "            while current.left:\n",
    "                current = current.left\n",
    "            inorder_suc_pre.successor = current\n",
    "        current = root.left\n",
    "        if current:\n",
    "            while current.right:\n",
    "                current = current.right\n",
    "            inorder_suc_pre.predecessor = current\n",
    "    else:\n",
    "        if value < root.value:\n",
    "            inorder_suc_pre.successor = root\n",
    "            inorder_suc_pre(root.left, value)\n",
    "        else:\n",
    "            inorder_suc_pre.predecessor = root\n",
    "            inorder_suc_pre(root.right, value)\n",
    "        \n",
    "# testing\n",
    "bst.pretty_print(bst.head)\n",
    "inorder_suc_pre(bst.head, 3)\n",
    "print(inorder_suc_pre.successor)\n",
    "print(inorder_suc_pre.predecessor)"
   ]
  },
  {
   "source": [
    "## Check for BST"
   ],
   "cell_type": "markdown",
   "metadata": {}
  },
  {
   "cell_type": "code",
   "execution_count": 7,
   "metadata": {},
   "outputs": [
    {
     "output_type": "execute_result",
     "data": {
      "text/plain": [
       "True"
      ]
     },
     "metadata": {},
     "execution_count": 7
    }
   ],
   "source": [
    "from collections import deque\n",
    "\n",
    "def check_bst(root):\n",
    "    prev = float('-inf')\n",
    "    stack = deque()\n",
    "    current = root\n",
    "\n",
    "    while current or len(stack):\n",
    "        if current:\n",
    "            stack.append(current)\n",
    "            current = current.left\n",
    "        else:\n",
    "            current = stack.pop()\n",
    "            if prev <= current.value:\n",
    "                prev = current.value\n",
    "            else:\n",
    "                return False\n",
    "            current = current.right\n",
    "    return True\n",
    "\n",
    "# testing\n",
    "check_bst(bst.head)"
   ]
  },
  {
   "source": [
    "## Populate inorder successor for all nodes"
   ],
   "cell_type": "markdown",
   "metadata": {}
  },
  {
   "cell_type": "code",
   "execution_count": 46,
   "metadata": {
    "tags": []
   },
   "outputs": [
    {
     "output_type": "stream",
     "name": "stdout",
     "text": [
      "3 5 8 "
     ]
    }
   ],
   "source": [
    "class BSTSNode(BSTNode):\n",
    "    def __init__(self, value, left = None, right = None, parent = None):\n",
    "        super().__init__(value, left, right, parent)\n",
    "        self.next = None\n",
    "    \n",
    "class BSTS(BST):\n",
    "    def __init__(self, items = None):\n",
    "        super().__init__(items)\n",
    "        self.in_head = None\n",
    "\n",
    "def change_pointers(bst: BSTS, node: BSTS):\n",
    "    if node == None:\n",
    "        return\n",
    "    change_pointers(bst, node.left)\n",
    "    if change_pointers.prev == None:\n",
    "        change_pointers.prev = node\n",
    "        bst.in_head = node\n",
    "    else:\n",
    "        change_pointers.prev.next = node\n",
    "        change_pointers.prev = node\n",
    "    change_pointers(bst, node.right)\n",
    "\n",
    "def print_inorder(bst: BSTS):\n",
    "    current = bst.in_head\n",
    "    while current:\n",
    "        print(current.value, end = ' ')\n",
    "        current = current.next\n",
    "\n",
    "# testing\n",
    "bst = BSTS()\n",
    "bst.head = BSTSNode(5)\n",
    "bst.head.left = BSTSNode(3)\n",
    "bst.head.right = BSTSNode(8)\n",
    "change_pointers.prev = None\n",
    "change_pointers(bst, bst.head)\n",
    "print_inorder(bst)"
   ]
  },
  {
   "cell_type": "code",
   "execution_count": 50,
   "metadata": {},
   "outputs": [
    {
     "output_type": "stream",
     "name": "stdout",
     "text": [
      "    -> 1\n        -> 2\n            -> 3\n-> 4\n    -> 5\n"
     ]
    },
    {
     "output_type": "execute_result",
     "data": {
      "text/plain": [
       "Value: 4"
      ]
     },
     "metadata": {},
     "execution_count": 50
    }
   ],
   "source": [
    "def lowest_common_ancestor(bst, value1, value2):\n",
    "    root = bst.head\n",
    "    while root:\n",
    "        if root.value < value1 and root.value < value2:\n",
    "            root = root.right\n",
    "        elif root.value > value1 and root.value > value2:\n",
    "            root = root.left\n",
    "        else:\n",
    "            return root\n",
    "# testing\n",
    "tree_nodes = [el for el in range(1, 6)]\n",
    "random.shuffle(tree_nodes)\n",
    "bst = BST(tree_nodes)\n",
    "bst.pretty_print(bst.head)\n",
    "lowest_common_ancestor(bst, 5, 3)"
   ]
  },
  {
   "source": [
    "## Construct BST from given preorder traversal"
   ],
   "cell_type": "markdown",
   "metadata": {}
  },
  {
   "cell_type": "code",
   "execution_count": 97,
   "metadata": {},
   "outputs": [
    {
     "output_type": "stream",
     "name": "stdout",
     "text": [
      "        -> 1\n    -> 5\n        -> 7\n-> 10\n    -> 40\n        -> 50\n"
     ]
    }
   ],
   "source": [
    "def construct_preorder(pre, key, mini, maxi, size):\n",
    "    if construct_preorder.pre_index >= size:\n",
    "        return None\n",
    "    root = None\n",
    "    if key > mini and key < maxi:\n",
    "        root = BSTNode(key)\n",
    "        construct_preorder.pre_index += 1\n",
    "\n",
    "        if construct_preorder.pre_index < size:\n",
    "            next_key = pre[construct_preorder.pre_index]\n",
    "            root.left = construct_preorder(pre, next_key, mini, key, size)\n",
    "        if construct_preorder.pre_index < size:\n",
    "            next_key = pre[construct_preorder.pre_index]\n",
    "            root.right = construct_preorder(pre, next_key, key, maxi, size)\n",
    "\n",
    "    return root\n",
    "\n",
    "# testing\n",
    "bst = BST()\n",
    "construct_preorder.pre_index = 0\n",
    "mini = float('-inf')\n",
    "maxi = float('inf')\n",
    "bst.head = construct_preorder([10, 5, 1, 7, 40, 50], 10, mini, maxi, 6)\n",
    "bst.pretty_print(bst.head)"
   ]
  },
  {
   "source": [
    "## Convert Binary Tree to Binary Search Tree"
   ],
   "cell_type": "markdown",
   "metadata": {}
  },
  {
   "cell_type": "code",
   "execution_count": 102,
   "metadata": {},
   "outputs": [
    {
     "output_type": "stream",
     "name": "stdout",
     "text": [
      "        -> 20\n    -> 30\n-> 10\n    -> 15\n        -> 5\n-------------\n        -> 5\n    -> 10\n-> 15\n    -> 20\n        -> 30\n"
     ]
    }
   ],
   "source": [
    "from collections import deque\n",
    "def convert_to_bst(bst):\n",
    "    array = []\n",
    "    current = bst.head\n",
    "    stack = deque()\n",
    "    while current or len(stack):\n",
    "        if current:\n",
    "            stack.append(current)\n",
    "            current = current.left\n",
    "        else:\n",
    "            current = stack.pop()\n",
    "            array.append(current.value)\n",
    "            current = current.right\n",
    "\n",
    "    array.sort()\n",
    "    index = 0\n",
    "    current = bst.head\n",
    "    stack = deque()\n",
    "    while current or len(stack):\n",
    "        if current:\n",
    "            stack.append(current)\n",
    "            current = current.left\n",
    "        else:\n",
    "            current = stack.pop()\n",
    "            current.value = array[index]\n",
    "            index += 1\n",
    "            current = current.right\n",
    "\n",
    "# testing\n",
    "root = BSTNode(10)\n",
    "root.left = BSTNode(30)\n",
    "root.right = BSTNode(15)\n",
    "root.left.left = BSTNode(20)\n",
    "root.right.right = BSTNode(5)\n",
    "bst = BST()\n",
    "bst.head = root\n",
    "BST.pretty_print(bst.head)\n",
    "convert_to_bst(bst)\n",
    "print('-------------')\n",
    "BST.pretty_print(bst.head)"
   ]
  },
  {
   "source": [
    "## BST to Balanced BST"
   ],
   "cell_type": "markdown",
   "metadata": {}
  },
  {
   "cell_type": "code",
   "execution_count": 104,
   "metadata": {},
   "outputs": [
    {
     "output_type": "stream",
     "name": "stdout",
     "text": [
      "-> 1\n    -> 2\n        -> 3\n            -> 4\n                -> 5\n    -> 1\n        -> 2\n-> 3\n    -> 4\n        -> 5\n"
     ]
    }
   ],
   "source": [
    "def bst_balanced(bst):\n",
    "    bst.pretty_print(bst.head)\n",
    "    array = []\n",
    "    stack = deque()\n",
    "    current = bst.head\n",
    "    while current or len(stack):\n",
    "        if current:\n",
    "            stack.append(current)\n",
    "            current = current.left\n",
    "        else:\n",
    "            current = stack.pop()\n",
    "            array.append(current.value)\n",
    "            current = current.right\n",
    "    left = 0\n",
    "    right = len(array) - 1\n",
    "    bst = BST()\n",
    "    bst.head = bst_balanced_helper(array, left, right)\n",
    "    bst.pretty_print(bst.head)\n",
    "\n",
    "def bst_balanced_helper(array, left, right):\n",
    "    if left > right:\n",
    "        return None\n",
    "    mid = (left + right) // 2\n",
    "    root = BSTNode(array[mid])\n",
    "    root.left = bst_balanced_helper(array, left, mid - 1)\n",
    "    root.right = bst_balanced_helper(array, mid + 1, right)\n",
    "    return root\n",
    "\n",
    "# testing\n",
    "bst = BST([1, 2, 3, 4, 5])\n",
    "bst_balanced(bst)"
   ]
  },
  {
   "source": [
    "## Find Kth largest element in a BST"
   ],
   "cell_type": "markdown",
   "metadata": {}
  },
  {
   "cell_type": "code",
   "execution_count": 107,
   "metadata": {},
   "outputs": [
    {
     "output_type": "execute_result",
     "data": {
      "text/plain": [
       "Value: 5"
      ]
     },
     "metadata": {},
     "execution_count": 107
    }
   ],
   "source": [
    "def k_largest(bst, k):\n",
    "    stack = deque()\n",
    "    current = bst.head\n",
    "\n",
    "    i = 1\n",
    "    while current or len(stack):\n",
    "        if current:\n",
    "            stack.append(current)\n",
    "            current = current.right\n",
    "        else:\n",
    "            current = stack.pop()\n",
    "            if i == k:\n",
    "                return current\n",
    "            else:\n",
    "                i += 1\n",
    "                current = current.left\n",
    "\n",
    "# testing\n",
    "bst = BST([1, 2, 3, 4, 5, 6])\n",
    "k_largest(bst, 2)"
   ]
  },
  {
   "source": [
    "## Find Kth smallest element in a BST"
   ],
   "cell_type": "markdown",
   "metadata": {}
  },
  {
   "cell_type": "code",
   "execution_count": 112,
   "metadata": {},
   "outputs": [
    {
     "output_type": "execute_result",
     "data": {
      "text/plain": [
       "Value: 3"
      ]
     },
     "metadata": {},
     "execution_count": 112
    }
   ],
   "source": [
    "def k_smallest(bst, k):\n",
    "    stack = deque()\n",
    "    current = bst.head\n",
    "    i = 1\n",
    "    while current or len(stack):\n",
    "        if current:\n",
    "            stack.append(current)\n",
    "            current = current.left\n",
    "        else:\n",
    "            current = stack.pop()\n",
    "            if i == k:\n",
    "                return current\n",
    "            else:\n",
    "                i += 1\n",
    "                current = current.right\n",
    "    return None\n",
    "\n",
    "# testing\n",
    "k_smallest(bst, 3)"
   ]
  },
  {
   "cell_type": "code",
   "execution_count": null,
   "metadata": {},
   "outputs": [],
   "source": []
  }
 ]
}