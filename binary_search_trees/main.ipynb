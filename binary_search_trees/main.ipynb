{
 "metadata": {
  "language_info": {
   "codemirror_mode": {
    "name": "ipython",
    "version": 3
   },
   "file_extension": ".py",
   "mimetype": "text/x-python",
   "name": "python",
   "nbconvert_exporter": "python",
   "pygments_lexer": "ipython3",
   "version": "3.8.5-final"
  },
  "orig_nbformat": 2,
  "kernelspec": {
   "name": "python3",
   "display_name": "Python 3.8.5 32-bit",
   "metadata": {
    "interpreter": {
     "hash": "b3ddf538fb3a42f9fbfe7f11c6dede3ea7130c83f3ba063cba8ec84a42ce8ea2"
    }
   }
  }
 },
 "nbformat": 4,
 "nbformat_minor": 2,
 "cells": [
  {
   "source": [
    "# Binary Search Tree"
   ],
   "cell_type": "markdown",
   "metadata": {}
  },
  {
   "cell_type": "code",
   "execution_count": 15,
   "metadata": {},
   "outputs": [],
   "source": [
    "class BSTNode(object):\n",
    "    def __init__(self, value, left = None, right = None):\n",
    "        self.value = value\n",
    "        if isinstance(left, BSTNode) or left is None:\n",
    "            self.left = left\n",
    "        if isinstance(right, BSTNode) or right is None:\n",
    "            self.right = right\n",
    "    \n",
    "    def __repr__(self):\n",
    "        return f'Value: {self.value}'\n",
    "\n",
    "class BST(object):\n",
    "    def __init__(self):\n",
    "        self.head = None\n",
    "    \n",
    "    def insert(self, value):\n",
    "        new_node = BSTNode(value)\n",
    "        if self.head == None:\n",
    "            self.head = new_node\n",
    "            return\n",
    "        current = self.head\n",
    "        parent = None\n",
    "        while current != None:\n",
    "            parent = current\n",
    "            if value < current.value:\n",
    "                current = current.left\n",
    "            else:\n",
    "                current = current.right\n",
    "        if value < parent.value:\n",
    "            parent.left = new_node\n",
    "        else:\n",
    "            parent.right = new_node\n",
    "\n",
    "    def insert_many(self, items):\n",
    "        for item in items:\n",
    "            self.insert(item)\n",
    "    \n",
    "    def pretty_print(self, node, level = 0):\n",
    "        if node is None:\n",
    "            return\n",
    "        self.pretty_print(node.left, level + 1)\n",
    "        print(' ' * 4 * level + '->', node.value)\n",
    "        self.pretty_print(node.right, level + 1)"
   ]
  },
  {
   "cell_type": "code",
   "execution_count": 25,
   "metadata": {},
   "outputs": [
    {
     "output_type": "stream",
     "name": "stdout",
     "text": [
      "            -> 1\n                -> 2\n        -> 3\n    -> 4\n-> 5\n            -> 6\n        -> 7\n    -> 8\n            -> 9\n        -> 10\n"
     ]
    }
   ],
   "source": [
    "import random\n",
    "def find_value(value):\n",
    "    bt = BST()\n",
    "    array = [el for el in range(1, 11)]\n",
    "    random.shuffle(array)\n",
    "    bt.insert_many(array)\n",
    "    bt.pretty_print(bt.head)\n",
    "    current = bt.head\n",
    "    while current is not None and current.value != value:\n",
    "        if value < current.value:\n",
    "            current = current.left\n",
    "        else:\n",
    "            current = current.right\n",
    "    return current\n",
    "\n",
    "find_value(20)"
   ]
  },
  {
   "cell_type": "code",
   "execution_count": 24,
   "metadata": {},
   "outputs": [
    {
     "output_type": "stream",
     "name": "stdout",
     "text": [
      "        -> 1\n                -> 2\n                    -> 3\n            -> 4\n                -> 5\n                    -> 6\n    -> 7\n-> 8\n        -> 9\n    -> 10\n"
     ]
    }
   ],
   "source": []
  },
  {
   "cell_type": "code",
   "execution_count": 9,
   "metadata": {},
   "outputs": [],
   "source": [
    "from random import shuffle"
   ]
  },
  {
   "cell_type": "code",
   "execution_count": null,
   "metadata": {},
   "outputs": [],
   "source": []
  }
 ]
}