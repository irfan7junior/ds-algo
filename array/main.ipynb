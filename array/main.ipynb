{
 "metadata": {
  "language_info": {
   "codemirror_mode": {
    "name": "ipython",
    "version": 3
   },
   "file_extension": ".py",
   "mimetype": "text/x-python",
   "name": "python",
   "nbconvert_exporter": "python",
   "pygments_lexer": "ipython3",
   "version": "3.8.5-final"
  },
  "orig_nbformat": 2,
  "kernelspec": {
   "name": "python3",
   "display_name": "Python 3.8.5 32-bit",
   "metadata": {
    "interpreter": {
     "hash": "b3ddf538fb3a42f9fbfe7f11c6dede3ea7130c83f3ba063cba8ec84a42ce8ea2"
    }
   }
  }
 },
 "nbformat": 4,
 "nbformat_minor": 2,
 "cells": [
  {
   "source": [
    "## Reverse the Array"
   ],
   "cell_type": "markdown",
   "metadata": {}
  },
  {
   "cell_type": "code",
   "execution_count": 15,
   "metadata": {},
   "outputs": [],
   "source": [
    "from typing import List\n",
    "def reverse_array(items: List[int]):\n",
    "    start = 0\n",
    "    end = len(items) - 1\n",
    "    while start < end:\n",
    "        items[start], items[end] = items[end], items[start]\n",
    "        start += 1\n",
    "        end -= 1\n",
    "    return items\n",
    "\n",
    "def reverse_array_rec(items: List[int], start: int = None, end: int = None):\n",
    "    if start == None and end == None:\n",
    "        start = 0\n",
    "        end = len(items) - 1\n",
    "\n",
    "    if start > end:\n",
    "        return items\n",
    "\n",
    "    items[start], items[end] = items[end], items[start]\n",
    "    return reverse_array_rec(items, start + 1, end - 1)\n",
    "\n",
    "def reverse_array_py(items: List[int]):\n",
    "    return items[::-1]"
   ]
  },
  {
   "cell_type": "code",
   "execution_count": 16,
   "metadata": {},
   "outputs": [
    {
     "output_type": "stream",
     "name": "stdout",
     "text": [
      "Passed all tests!\nPassed all tests!\nPassed all tests!\n"
     ]
    }
   ],
   "source": [
    "from nose.tools import assert_equal\n",
    "class Test(object):\n",
    "    def test(self, sol):\n",
    "        assert_equal(sol([1, 2, 3]), [3, 2, 1])\n",
    "        assert_equal(sol([4, 5, 1, 2]), [2, 1, 5, 4])\n",
    "        print('Passed all tests!')\n",
    "Test().test(reverse_array)\n",
    "Test().test(reverse_array_py)\n",
    "Test().test(reverse_array_rec)"
   ]
  },
  {
   "source": [
    "## Find the maximum and minimum elements in an array"
   ],
   "cell_type": "markdown",
   "metadata": {}
  },
  {
   "cell_type": "code",
   "execution_count": 35,
   "metadata": {},
   "outputs": [],
   "source": [
    "from typing import List\n",
    "class Pair(object):\n",
    "    def __init__(self):\n",
    "        self.min = float('inf')\n",
    "        self.max = float('-inf')\n",
    "    def __repr__(self):\n",
    "        return f'min: {self.min}, max: {self.max}'\n",
    "\n",
    "def min_max_linear(items: List[int]):\n",
    "    pair = Pair()\n",
    "    length = len(items)\n",
    "\n",
    "    if length == 1:\n",
    "        pair.min = items[0]\n",
    "        pair.max = items[0]\n",
    "        return (pair.min, pair.max)\n",
    "    \n",
    "    if items[0] > items[1]:\n",
    "        pair.max = items[0]\n",
    "        pair.min = items[1]\n",
    "    else:\n",
    "        pair.max = items[1]\n",
    "        pair.min = items[0]\n",
    "    \n",
    "    for i in range(2, length):\n",
    "        if items[i] > pair.max:\n",
    "            pair.max = items[i]\n",
    "        elif items[i] < pair.min:\n",
    "            pair.min = items[i]\n",
    "    \n",
    "    return (pair.min, pair.max)\n",
    "\n",
    "def min_max_divide(items: List[int], low: int = None, high: int = None):\n",
    "    if low is None and high is None:\n",
    "        low = 0\n",
    "        high = len(items) - 1\n",
    "\n",
    "    pair = Pair()\n",
    "    pair.min = items[low]\n",
    "    pair.max = items[low]\n",
    "\n",
    "    if low == high:\n",
    "        return (pair.min, pair.max)\n",
    "    \n",
    "    if high == low + 1:\n",
    "        if items[low] < items[high]:\n",
    "            pair.max = items[high]\n",
    "        else:\n",
    "            pair.min = items[high]\n",
    "        return (pair.min, pair.max)\n",
    "    \n",
    "    mid = (low + high) // 2\n",
    "    items_1_pair = Pair()\n",
    "    items_2_pair = Pair()\n",
    "    items_1_pair.min, items_1_pair.max = min_max_divide(items, low, mid)\n",
    "    items_2_pair.min, items_2_pair.max = min_max_divide(items, mid + 1, high)\n",
    "    return (min(items_1_pair.min, items_2_pair.min), max(items_1_pair.max, items_2_pair.max))\n",
    "\n",
    "def min_max_pair(items: List[int]) -> (int, int):\n",
    "    pair = Pair()\n",
    "    start_index = None\n",
    "\n",
    "    if len(items) % 2 != 0:\n",
    "        pair.min = items[0]\n",
    "        pair.max = items[0]\n",
    "        start_index = 1\n",
    "    else:\n",
    "        if items[0] < items[1]:\n",
    "            pair.min = items[0]\n",
    "            pair.max = items[1]\n",
    "        else:\n",
    "            pair.min = items[1]\n",
    "            pair.max = items[0]\n",
    "        start_index = 2\n",
    "    for i in range(start_index, len(items), 2):\n",
    "        if items[i] < items[i + 1]:\n",
    "            pair.min = min(pair.min, items[i])\n",
    "            pair.max = max(pair.max, items[i + 1])\n",
    "        else:\n",
    "            pair.min = min(pair.min, items[i + 1])\n",
    "            pair.max = max(pair.max, items[i])\n",
    "    return (pair.min, pair.max)"
   ]
  },
  {
   "cell_type": "code",
   "execution_count": 36,
   "metadata": {},
   "outputs": [
    {
     "output_type": "stream",
     "name": "stdout",
     "text": [
      "Passed all tests!\nPassed all tests!\nPassed all tests!\n"
     ]
    }
   ],
   "source": [
    "from nose.tools import assert_equal\n",
    "class Test(object):\n",
    "    def test(self, sol):\n",
    "        assert_equal(sol([1, 2, 3]), (1, 3))\n",
    "        assert_equal(sol([4, 5, 1, 2]), (1, 5))\n",
    "        print('Passed all tests!')\n",
    "Test().test(min_max_linear)\n",
    "Test().test(min_max_divide)\n",
    "Test().test(min_max_pair)"
   ]
  },
  {
   "source": [
    "Kth max and min element of an Array"
   ],
   "cell_type": "markdown",
   "metadata": {}
  },
  {
   "cell_type": "code",
   "execution_count": 96,
   "metadata": {},
   "outputs": [
    {
     "output_type": "execute_result",
     "data": {
      "text/plain": [
       "-1"
      ]
     },
     "metadata": {},
     "execution_count": 96
    }
   ],
   "source": [
    "def partition(items, left, right):\n",
    "    x = items[right]\n",
    "    # range [left, i] would be of values less than x\n",
    "    i = left - 1\n",
    "    # range [i + 1, j] would be of values greater than x\n",
    "    for j in range(left, right):\n",
    "        if items[j] <= x:\n",
    "            i += 1\n",
    "            items[i], items[j] = items[j], items[i]\n",
    "    items[i + 1], items[right] = items[right], items[i + 1]\n",
    "    return i + 1\n",
    "\n",
    "def quick_select(items, left, right, k):\n",
    "    if left == right:\n",
    "        return items[left]\n",
    "    position = partition(items, left, right)\n",
    "    # index relative to left\n",
    "    rel_pos = position - left\n",
    "    if rel_pos == k:\n",
    "        return items[position]\n",
    "    elif k < rel_pos:\n",
    "        return quick_select(items, left, position - 1, k)\n",
    "    else:\n",
    "        return quick_select(items, position + 1, right, k - rel_pos - 1)\n",
    "\n",
    "# Testig\n",
    "quick_select([0, 2, 3, 9, 5, 7, -1], 0, 6, 0)"
   ]
  },
  {
   "source": [
    "## Given an array which consists of only 0, 1, and 2. Sort without using sorting algo"
   ],
   "cell_type": "markdown",
   "metadata": {}
  },
  {
   "cell_type": "code",
   "execution_count": 103,
   "metadata": {},
   "outputs": [],
   "source": [
    "def sort_012s(items):\n",
    "    start = 0\n",
    "    end = len(items)\n",
    "\n",
    "    low = start\n",
    "    mid = start\n",
    "    high = end - 1\n",
    "    while mid <= high:\n",
    "        if items[mid] == 0:\n",
    "            items[low], items[mid] = items[mid], items[low]\n",
    "            low += 1\n",
    "            mid += 1\n",
    "        elif items[mid] == 1:\n",
    "            mid += 1\n",
    "        elif items[mid] == 2:\n",
    "            items[mid], items[high] = items[high], items[mid]\n",
    "            high -= 1\n",
    "    print(items)\n",
    "    \n",
    "sort_012s([0, 1, 2, 0, 1, 2, 0, 0, 1])"
   ]
  },
  {
   "source": [
    "## Move all the negative elements to one side of the array"
   ],
   "cell_type": "markdown",
   "metadata": {}
  },
  {
   "cell_type": "code",
   "execution_count": 112,
   "metadata": {},
   "outputs": [
    {
     "output_type": "execute_result",
     "data": {
      "text/plain": [
       "[-3, -1, -2, -8, 4, 2, 3, 1]"
      ]
     },
     "metadata": {},
     "execution_count": 112
    }
   ],
   "source": [
    "def move_negative_partition(items):\n",
    "    start = 0\n",
    "    i = start - 1\n",
    "    for cur in range(len(items)):\n",
    "        if items[cur] < 0:\n",
    "            i += 1\n",
    "            items[i], items[cur] = items[cur], items[i]\n",
    "    return items\n",
    "\n",
    "# testing\n",
    "move_negative_partition([1, 2, 3, -3, 4, -1, -2, -8])"
   ]
  },
  {
   "cell_type": "code",
   "execution_count": 113,
   "metadata": {},
   "outputs": [
    {
     "output_type": "execute_result",
     "data": {
      "text/plain": [
       "[-8, -2, -1, -3, 4, 3, 2, 1]"
      ]
     },
     "metadata": {},
     "execution_count": 113
    }
   ],
   "source": [
    "def move_negative_pointers(items):\n",
    "    start = 0\n",
    "    end = len(items) - 1\n",
    "    while start <= end:\n",
    "        if items[start] > 0 and items[end] < 0:\n",
    "            items[start], items[end] = items[end], items[start]\n",
    "            start += 1\n",
    "            end -= 1\n",
    "        elif items[start] > 0:\n",
    "            end -= 1\n",
    "        elif items[end] < 0:\n",
    "            start += 1\n",
    "        else:\n",
    "            start += 1\n",
    "            end -= 1\n",
    "    return items\n",
    "\n",
    "# testing\n",
    "move_negative_pointers([1, 2, 3, -3, 4, -1, -2, -8])"
   ]
  },
  {
   "source": [
    "## Find the Union and Intersection of the two sorted arrays"
   ],
   "cell_type": "markdown",
   "metadata": {}
  },
  {
   "cell_type": "code",
   "execution_count": 159,
   "metadata": {},
   "outputs": [
    {
     "output_type": "execute_result",
     "data": {
      "text/plain": [
       "{'intersection': [3, 6, 8, 16, 20],\n",
       " 'union': [1, 2, 3, 4, 6, 8, 10, 10, 14, 14, 15, 16, 20]}"
      ]
     },
     "metadata": {},
     "execution_count": 159
    }
   ],
   "source": [
    "import random\n",
    "array1 = [random.randint(1, 20) for _ in range(10)]\n",
    "# print(array1)\n",
    "array2 = [random.randint(1, 20) for _ in range(10)]\n",
    "# print(array2)\n",
    "def unionsection_merge(array1, array2):\n",
    "    array1.sort()\n",
    "    array2.sort()\n",
    "    i = 0\n",
    "    j = 0\n",
    "    union = []\n",
    "    intersection = []\n",
    "    while i < len(array1) and j < len(array2):\n",
    "        if array1[i] == array2[j]:\n",
    "            current = array1[i]\n",
    "            union.append(current)\n",
    "            intersection.append(current)\n",
    "            while i < len(array1) and array1[i] == current:\n",
    "                i += 1\n",
    "            while j < len(array2) and array2[j] == current :\n",
    "                j += 1\n",
    "        elif array1[i] < array2[j]:\n",
    "            union.append(array1[i])\n",
    "            i += 1\n",
    "        else:\n",
    "            union.append(array2[j])\n",
    "            j += 1\n",
    "\n",
    "    while i < len(array1):\n",
    "        current = array1[i]\n",
    "        union.append(current)\n",
    "        i += 1\n",
    "        while i < len(array1) and array1[i] == current:\n",
    "            i += 1\n",
    "\n",
    "    while j < len(array2):\n",
    "        current = array2[j]\n",
    "        union.append(array2[j])\n",
    "        j += 1\n",
    "        while j < len(array2) and array2[j] == current:\n",
    "            j += 1\n",
    "    return {\n",
    "        'intersection': intersection,\n",
    "        'union': union\n",
    "    }\n",
    "    \n",
    "# testing\n",
    "unionsection_merge(array1, array2)"
   ]
  },
  {
   "source": [
    "## Write a program to cyclically rotate an array by one."
   ],
   "cell_type": "markdown",
   "metadata": {}
  },
  {
   "cell_type": "code",
   "execution_count": 166,
   "metadata": {},
   "outputs": [
    {
     "output_type": "execute_result",
     "data": {
      "text/plain": [
       "[5, 12, 11, 10, 8]"
      ]
     },
     "metadata": {},
     "execution_count": 166
    }
   ],
   "source": [
    "def rotate_right(array):\n",
    "    last = array[len(array) - 1]\n",
    "    for index in range(len(array) - 1, 0, -1):\n",
    "        array[index] = array[index - 1]\n",
    "    array[0] = last\n",
    "    return array\n",
    "    \n",
    "# testing\n",
    "rotate_right([12, 11, 10, 8, 5])"
   ]
  },
  {
   "source": [
    "## Find largest contiguous sum"
   ],
   "cell_type": "markdown",
   "metadata": {}
  },
  {
   "cell_type": "code",
   "execution_count": 167,
   "metadata": {},
   "outputs": [],
   "source": [
    "def max_crossing_array(array, low, mid, high):\n",
    "    left_sum = float('-inf')\n",
    "    left_index = None\n",
    "    _sum = 0\n",
    "    for i in range(mid, low - 1, -1):\n",
    "        _sum += array[i]\n",
    "        if _sum > left_sum:\n",
    "            left_sum = _sum\n",
    "            left_index = i\n",
    "    right_sum = float('-inf')\n",
    "    right_index = None\n",
    "    _sum = 0\n",
    "    for i in range(mid + 1, high + 1):\n",
    "        _sum += array[i]\n",
    "        if _sum > right_sum:\n",
    "            right_sum = _sum\n",
    "            right_index = i\n",
    "    return (left_index, right_index, left_sum + right_sum)"
   ]
  },
  {
   "cell_type": "code",
   "execution_count": 184,
   "metadata": {},
   "outputs": [
    {
     "output_type": "execute_result",
     "data": {
      "text/plain": [
       "(2, 6, 7)"
      ]
     },
     "metadata": {},
     "execution_count": 184
    }
   ],
   "source": [
    "def max_contiguous_subarray(array, low, high):\n",
    "    if low == high:\n",
    "        return (low, high, array[low])\n",
    "    mid = (low + high) // 2\n",
    "    lli, lri, ls = max_contiguous_subarray(array, low, mid)\n",
    "    rli, rri, rs = max_contiguous_subarray(array, mid + 1, high)\n",
    "    cli, cri, cs = max_crossing_array(array, low, mid, high)\n",
    "    if cs >= rs >= ls:\n",
    "        return (cli, cri, cs)\n",
    "    elif rs >= ls:\n",
    "        return (rli, rri, rs)\n",
    "    else:\n",
    "        return (lli, lri, ls)\n",
    "\n",
    "# testing\n",
    "max_contiguous_subarray([-2, -3, 4, -1, -2, 1, 5, -3], 0, 7)"
   ]
  },
  {
   "cell_type": "code",
   "execution_count": 222,
   "metadata": {},
   "outputs": [
    {
     "output_type": "execute_result",
     "data": {
      "text/plain": [
       "-inf"
      ]
     },
     "metadata": {},
     "execution_count": 222
    }
   ],
   "source": [
    "def kadane_algo(array):\n",
    "    max_so_far = float('-inf')\n",
    "    max_ending_here = 0\n",
    "    for (i, el) in enumerate(array):\n",
    "        max_ending_here = max_ending_here + el\n",
    "        if max_ending_here < 0:\n",
    "            max_ending_here = 0\n",
    "        elif max_ending_here > max_so_far:\n",
    "            max_so_far = max_ending_here\n",
    "    return max_so_far\n",
    "\n",
    "# testing\n",
    "kadane_algo([-1, -2, -3, -4])"
   ]
  },
  {
   "source": [
    "## Minimize the max difference b/w two heights"
   ],
   "cell_type": "markdown",
   "metadata": {}
  },
  {
   "cell_type": "code",
   "execution_count": 223,
   "metadata": {},
   "outputs": [
    {
     "output_type": "execute_result",
     "data": {
      "text/plain": [
       "11"
      ]
     },
     "metadata": {},
     "execution_count": 223
    }
   ],
   "source": [
    "def min_the_max_diff(towers, k):\n",
    "    all_towers = []\n",
    "    for (pos, tower) in enumerate(towers):\n",
    "        if tower - k >= 0:\n",
    "            all_towers.append((tower - k, pos))\n",
    "        all_towers.append((tower + k, pos))\n",
    "    all_towers.sort(key=lambda el: el[0])\n",
    "    size = len(towers)\n",
    "    towers_no = [0 for _ in range(size)]\n",
    "    el_count = 0\n",
    "    start_pointer = 0\n",
    "    end_pointer = None\n",
    "    i = 0\n",
    "    while el_count != size:\n",
    "        cur = all_towers[i]\n",
    "        if towers_no[cur[1]] == 0:\n",
    "            towers_no[cur[1]] = 1\n",
    "            el_count += 1\n",
    "        else:\n",
    "            towers_no[cur[1]] += 1\n",
    "        end_pointer = i\n",
    "        i += 1\n",
    "    min_difference = all_towers[end_pointer][0] - all_towers[start_pointer][0]\n",
    "\n",
    "    while end_pointer < len(all_towers):\n",
    "        tower_pos = all_towers[start_pointer][1]\n",
    "        towers_no[tower_pos] -= 1\n",
    "        start_pointer += 1\n",
    "        if towers_no[tower_pos] == 0:\n",
    "            el_count -= 1\n",
    "        while end_pointer < len(all_towers) and el_count != size:\n",
    "            cur = all_towers[end_pointer]\n",
    "            if towers_no[cur[1]] == 0:\n",
    "                towers_no[cur[1]] = 1\n",
    "                el_count += 1\n",
    "            else:\n",
    "                towers_no[cur[1]] += 1\n",
    "            end_pointer += 1\n",
    "        if end_pointer < len(all_towers):\n",
    "            cur_difference = all_towers[end_pointer][0] - all_towers[start_pointer][0]\n",
    "            if cur_difference < min_difference:\n",
    "                min_difference = cur_difference\n",
    "\n",
    "    return min_difference\n",
    "\n",
    "# testing\n",
    "min_the_max_diff([3, 9, 12, 16, 20], 3)"
   ]
  },
  {
   "source": [
    "## Min. number of jumps to reach the array end"
   ],
   "cell_type": "markdown",
   "metadata": {}
  },
  {
   "cell_type": "code",
   "execution_count": 225,
   "metadata": {},
   "outputs": [
    {
     "output_type": "execute_result",
     "data": {
      "text/plain": [
       "3"
      ]
     },
     "metadata": {},
     "execution_count": 225
    }
   ],
   "source": [
    "def min_jumps(array):\n",
    "    memo = [float('inf') for _ in range(len(array))]\n",
    "    memo[0] = 0\n",
    "    for (pos, jumps) in enumerate(array):\n",
    "        for jump in range(1, jumps + 1):\n",
    "            cur = memo[pos] + 1\n",
    "            if pos + jump < len(array) and memo[pos+jump] > cur:\n",
    "                memo[pos+jump] = cur\n",
    "    return memo[-1]\n",
    "\n",
    "# testing\n",
    "min_jumps([1, 3, 5, 8, 9, 2, 6, 7, 6, 8, 9])"
   ]
  },
  {
   "cell_type": "code",
   "execution_count": null,
   "metadata": {},
   "outputs": [],
   "source": []
  }
 ]
}