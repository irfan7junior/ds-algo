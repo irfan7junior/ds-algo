{
 "metadata": {
  "language_info": {
   "codemirror_mode": {
    "name": "ipython",
    "version": 3
   },
   "file_extension": ".py",
   "mimetype": "text/x-python",
   "name": "python",
   "nbconvert_exporter": "python",
   "pygments_lexer": "ipython3",
   "version": "3.8.5-final"
  },
  "orig_nbformat": 2,
  "kernelspec": {
   "name": "python3",
   "display_name": "Python 3.8.5 32-bit",
   "metadata": {
    "interpreter": {
     "hash": "b3ddf538fb3a42f9fbfe7f11c6dede3ea7130c83f3ba063cba8ec84a42ce8ea2"
    }
   }
  }
 },
 "nbformat": 4,
 "nbformat_minor": 2,
 "cells": [
  {
   "source": [
    "## Reverse the Array"
   ],
   "cell_type": "markdown",
   "metadata": {}
  },
  {
   "cell_type": "code",
   "execution_count": 15,
   "metadata": {},
   "outputs": [],
   "source": [
    "from typing import List\n",
    "def reverse_array(items: List[int]):\n",
    "    start = 0\n",
    "    end = len(items) - 1\n",
    "    while start < end:\n",
    "        items[start], items[end] = items[end], items[start]\n",
    "        start += 1\n",
    "        end -= 1\n",
    "    return items\n",
    "\n",
    "def reverse_array_rec(items: List[int], start: int = None, end: int = None):\n",
    "    if start == None and end == None:\n",
    "        start = 0\n",
    "        end = len(items) - 1\n",
    "\n",
    "    if start > end:\n",
    "        return items\n",
    "\n",
    "    items[start], items[end] = items[end], items[start]\n",
    "    return reverse_array_rec(items, start + 1, end - 1)\n",
    "\n",
    "def reverse_array_py(items: List[int]):\n",
    "    return items[::-1]"
   ]
  },
  {
   "cell_type": "code",
   "execution_count": 16,
   "metadata": {},
   "outputs": [
    {
     "output_type": "stream",
     "name": "stdout",
     "text": [
      "Passed all tests!\nPassed all tests!\nPassed all tests!\n"
     ]
    }
   ],
   "source": [
    "from nose.tools import assert_equal\n",
    "class Test(object):\n",
    "    def test(self, sol):\n",
    "        assert_equal(sol([1, 2, 3]), [3, 2, 1])\n",
    "        assert_equal(sol([4, 5, 1, 2]), [2, 1, 5, 4])\n",
    "        print('Passed all tests!')\n",
    "Test().test(reverse_array)\n",
    "Test().test(reverse_array_py)\n",
    "Test().test(reverse_array_rec)"
   ]
  },
  {
   "source": [
    "## Find the maximum and minimum elements in an array"
   ],
   "cell_type": "markdown",
   "metadata": {}
  },
  {
   "cell_type": "code",
   "execution_count": 35,
   "metadata": {},
   "outputs": [],
   "source": [
    "from typing import List\n",
    "class Pair(object):\n",
    "    def __init__(self):\n",
    "        self.min = float('inf')\n",
    "        self.max = float('-inf')\n",
    "    def __repr__(self):\n",
    "        return f'min: {self.min}, max: {self.max}'\n",
    "\n",
    "def min_max_linear(items: List[int]):\n",
    "    pair = Pair()\n",
    "    length = len(items)\n",
    "\n",
    "    if length == 1:\n",
    "        pair.min = items[0]\n",
    "        pair.max = items[0]\n",
    "        return (pair.min, pair.max)\n",
    "    \n",
    "    if items[0] > items[1]:\n",
    "        pair.max = items[0]\n",
    "        pair.min = items[1]\n",
    "    else:\n",
    "        pair.max = items[1]\n",
    "        pair.min = items[0]\n",
    "    \n",
    "    for i in range(2, length):\n",
    "        if items[i] > pair.max:\n",
    "            pair.max = items[i]\n",
    "        elif items[i] < pair.min:\n",
    "            pair.min = items[i]\n",
    "    \n",
    "    return (pair.min, pair.max)\n",
    "\n",
    "def min_max_divide(items: List[int], low: int = None, high: int = None):\n",
    "    if low is None and high is None:\n",
    "        low = 0\n",
    "        high = len(items) - 1\n",
    "\n",
    "    pair = Pair()\n",
    "    pair.min = items[low]\n",
    "    pair.max = items[low]\n",
    "\n",
    "    if low == high:\n",
    "        return (pair.min, pair.max)\n",
    "    \n",
    "    if high == low + 1:\n",
    "        if items[low] < items[high]:\n",
    "            pair.max = items[high]\n",
    "        else:\n",
    "            pair.min = items[high]\n",
    "        return (pair.min, pair.max)\n",
    "    \n",
    "    mid = (low + high) // 2\n",
    "    items_1_pair = Pair()\n",
    "    items_2_pair = Pair()\n",
    "    items_1_pair.min, items_1_pair.max = min_max_divide(items, low, mid)\n",
    "    items_2_pair.min, items_2_pair.max = min_max_divide(items, mid + 1, high)\n",
    "    return (min(items_1_pair.min, items_2_pair.min), max(items_1_pair.max, items_2_pair.max))\n",
    "\n",
    "def min_max_pair(items: List[int]) -> (int, int):\n",
    "    pair = Pair()\n",
    "    start_index = None\n",
    "\n",
    "    if len(items) % 2 != 0:\n",
    "        pair.min = items[0]\n",
    "        pair.max = items[0]\n",
    "        start_index = 1\n",
    "    else:\n",
    "        if items[0] < items[1]:\n",
    "            pair.min = items[0]\n",
    "            pair.max = items[1]\n",
    "        else:\n",
    "            pair.min = items[1]\n",
    "            pair.max = items[0]\n",
    "        start_index = 2\n",
    "    for i in range(start_index, len(items), 2):\n",
    "        if items[i] < items[i + 1]:\n",
    "            pair.min = min(pair.min, items[i])\n",
    "            pair.max = max(pair.max, items[i + 1])\n",
    "        else:\n",
    "            pair.min = min(pair.min, items[i + 1])\n",
    "            pair.max = max(pair.max, items[i])\n",
    "    return (pair.min, pair.max)"
   ]
  },
  {
   "cell_type": "code",
   "execution_count": 36,
   "metadata": {},
   "outputs": [
    {
     "output_type": "stream",
     "name": "stdout",
     "text": [
      "Passed all tests!\nPassed all tests!\nPassed all tests!\n"
     ]
    }
   ],
   "source": [
    "from nose.tools import assert_equal\n",
    "class Test(object):\n",
    "    def test(self, sol):\n",
    "        assert_equal(sol([1, 2, 3]), (1, 3))\n",
    "        assert_equal(sol([4, 5, 1, 2]), (1, 5))\n",
    "        print('Passed all tests!')\n",
    "Test().test(min_max_linear)\n",
    "Test().test(min_max_divide)\n",
    "Test().test(min_max_pair)"
   ]
  },
  {
   "source": [
    "Kth max and min element of an Array"
   ],
   "cell_type": "markdown",
   "metadata": {}
  },
  {
   "cell_type": "code",
   "execution_count": 96,
   "metadata": {},
   "outputs": [
    {
     "output_type": "execute_result",
     "data": {
      "text/plain": [
       "-1"
      ]
     },
     "metadata": {},
     "execution_count": 96
    }
   ],
   "source": [
    "def partition(items, left, right):\n",
    "    x = items[right]\n",
    "    # range [left, i] would be of values less than x\n",
    "    i = left - 1\n",
    "    # range [i + 1, j] would be of values greater than x\n",
    "    for j in range(left, right):\n",
    "        if items[j] <= x:\n",
    "            i += 1\n",
    "            items[i], items[j] = items[j], items[i]\n",
    "    items[i + 1], items[right] = items[right], items[i + 1]\n",
    "    return i + 1\n",
    "\n",
    "def quick_select(items, left, right, k):\n",
    "    if left == right:\n",
    "        return items[left]\n",
    "    position = partition(items, left, right)\n",
    "    # index relative to left\n",
    "    rel_pos = position - left\n",
    "    if rel_pos == k:\n",
    "        return items[position]\n",
    "    elif k < rel_pos:\n",
    "        return quick_select(items, left, position - 1, k)\n",
    "    else:\n",
    "        return quick_select(items, position + 1, right, k - rel_pos - 1)\n",
    "\n",
    "# Testig\n",
    "quick_select([0, 2, 3, 9, 5, 7, -1], 0, 6, 0)"
   ]
  },
  {
   "source": [
    "## Given an array which consists of only 0, 1, and 2. Sort without using sorting algo"
   ],
   "cell_type": "markdown",
   "metadata": {}
  },
  {
   "cell_type": "code",
   "execution_count": 103,
   "metadata": {},
   "outputs": [],
   "source": [
    "def sort_012s(items):\n",
    "    start = 0\n",
    "    end = len(items)\n",
    "\n",
    "    low = start\n",
    "    mid = start\n",
    "    high = end - 1\n",
    "    while mid <= high:\n",
    "        if items[mid] == 0:\n",
    "            items[low], items[mid] = items[mid], items[low]\n",
    "            low += 1\n",
    "            mid += 1\n",
    "        elif items[mid] == 1:\n",
    "            mid += 1\n",
    "        elif items[mid] == 2:\n",
    "            items[mid], items[high] = items[high], items[mid]\n",
    "            high -= 1\n",
    "    print(items)\n",
    "    \n",
    "sort_012s([0, 1, 2, 0, 1, 2, 0, 0, 1])"
   ]
  },
  {
   "source": [
    "## Move all the negative elements to one side of the array"
   ],
   "cell_type": "markdown",
   "metadata": {}
  },
  {
   "cell_type": "code",
   "execution_count": 112,
   "metadata": {},
   "outputs": [
    {
     "output_type": "execute_result",
     "data": {
      "text/plain": [
       "[-3, -1, -2, -8, 4, 2, 3, 1]"
      ]
     },
     "metadata": {},
     "execution_count": 112
    }
   ],
   "source": [
    "def move_negative_partition(items):\n",
    "    start = 0\n",
    "    i = start - 1\n",
    "    for cur in range(len(items)):\n",
    "        if items[cur] < 0:\n",
    "            i += 1\n",
    "            items[i], items[cur] = items[cur], items[i]\n",
    "    return items\n",
    "\n",
    "# testing\n",
    "move_negative_partition([1, 2, 3, -3, 4, -1, -2, -8])"
   ]
  },
  {
   "cell_type": "code",
   "execution_count": 113,
   "metadata": {},
   "outputs": [
    {
     "output_type": "execute_result",
     "data": {
      "text/plain": [
       "[-8, -2, -1, -3, 4, 3, 2, 1]"
      ]
     },
     "metadata": {},
     "execution_count": 113
    }
   ],
   "source": [
    "def move_negative_pointers(items):\n",
    "    start = 0\n",
    "    end = len(items) - 1\n",
    "    while start <= end:\n",
    "        if items[start] > 0 and items[end] < 0:\n",
    "            items[start], items[end] = items[end], items[start]\n",
    "            start += 1\n",
    "            end -= 1\n",
    "        elif items[start] > 0:\n",
    "            end -= 1\n",
    "        elif items[end] < 0:\n",
    "            start += 1\n",
    "        else:\n",
    "            start += 1\n",
    "            end -= 1\n",
    "    return items\n",
    "\n",
    "# testing\n",
    "move_negative_pointers([1, 2, 3, -3, 4, -1, -2, -8])"
   ]
  },
  {
   "source": [
    "## Find the Union and Intersection of the two sorted arrays"
   ],
   "cell_type": "markdown",
   "metadata": {}
  },
  {
   "cell_type": "code",
   "execution_count": 159,
   "metadata": {},
   "outputs": [
    {
     "output_type": "execute_result",
     "data": {
      "text/plain": [
       "{'intersection': [3, 6, 8, 16, 20],\n",
       " 'union': [1, 2, 3, 4, 6, 8, 10, 10, 14, 14, 15, 16, 20]}"
      ]
     },
     "metadata": {},
     "execution_count": 159
    }
   ],
   "source": [
    "import random\n",
    "array1 = [random.randint(1, 20) for _ in range(10)]\n",
    "# print(array1)\n",
    "array2 = [random.randint(1, 20) for _ in range(10)]\n",
    "# print(array2)\n",
    "def unionsection_merge(array1, array2):\n",
    "    array1.sort()\n",
    "    array2.sort()\n",
    "    i = 0\n",
    "    j = 0\n",
    "    union = []\n",
    "    intersection = []\n",
    "    while i < len(array1) and j < len(array2):\n",
    "        if array1[i] == array2[j]:\n",
    "            current = array1[i]\n",
    "            union.append(current)\n",
    "            intersection.append(current)\n",
    "            while i < len(array1) and array1[i] == current:\n",
    "                i += 1\n",
    "            while j < len(array2) and array2[j] == current :\n",
    "                j += 1\n",
    "        elif array1[i] < array2[j]:\n",
    "            union.append(array1[i])\n",
    "            i += 1\n",
    "        else:\n",
    "            union.append(array2[j])\n",
    "            j += 1\n",
    "\n",
    "    while i < len(array1):\n",
    "        current = array1[i]\n",
    "        union.append(current)\n",
    "        i += 1\n",
    "        while i < len(array1) and array1[i] == current:\n",
    "            i += 1\n",
    "\n",
    "    while j < len(array2):\n",
    "        current = array2[j]\n",
    "        union.append(array2[j])\n",
    "        j += 1\n",
    "        while j < len(array2) and array2[j] == current:\n",
    "            j += 1\n",
    "    return {\n",
    "        'intersection': intersection,\n",
    "        'union': union\n",
    "    }\n",
    "    \n",
    "# testing\n",
    "unionsection_merge(array1, array2)"
   ]
  },
  {
   "source": [
    "## Write a program to cyclically rotate an array by one."
   ],
   "cell_type": "markdown",
   "metadata": {}
  },
  {
   "cell_type": "code",
   "execution_count": 166,
   "metadata": {},
   "outputs": [
    {
     "output_type": "execute_result",
     "data": {
      "text/plain": [
       "[5, 12, 11, 10, 8]"
      ]
     },
     "metadata": {},
     "execution_count": 166
    }
   ],
   "source": [
    "def rotate_right(array):\n",
    "    last = array[len(array) - 1]\n",
    "    for index in range(len(array) - 1, 0, -1):\n",
    "        array[index] = array[index - 1]\n",
    "    array[0] = last\n",
    "    return array\n",
    "    \n",
    "# testing\n",
    "rotate_right([12, 11, 10, 8, 5])"
   ]
  },
  {
   "source": [
    "## Find largest contiguous sum"
   ],
   "cell_type": "markdown",
   "metadata": {}
  },
  {
   "cell_type": "code",
   "execution_count": 167,
   "metadata": {},
   "outputs": [],
   "source": [
    "def max_crossing_array(array, low, mid, high):\n",
    "    left_sum = float('-inf')\n",
    "    left_index = None\n",
    "    _sum = 0\n",
    "    for i in range(mid, low - 1, -1):\n",
    "        _sum += array[i]\n",
    "        if _sum > left_sum:\n",
    "            left_sum = _sum\n",
    "            left_index = i\n",
    "    right_sum = float('-inf')\n",
    "    right_index = None\n",
    "    _sum = 0\n",
    "    for i in range(mid + 1, high + 1):\n",
    "        _sum += array[i]\n",
    "        if _sum > right_sum:\n",
    "            right_sum = _sum\n",
    "            right_index = i\n",
    "    return (left_index, right_index, left_sum + right_sum)"
   ]
  },
  {
   "cell_type": "code",
   "execution_count": 184,
   "metadata": {},
   "outputs": [
    {
     "output_type": "execute_result",
     "data": {
      "text/plain": [
       "(2, 6, 7)"
      ]
     },
     "metadata": {},
     "execution_count": 184
    }
   ],
   "source": [
    "def max_contiguous_subarray(array, low, high):\n",
    "    if low == high:\n",
    "        return (low, high, array[low])\n",
    "    mid = (low + high) // 2\n",
    "    lli, lri, ls = max_contiguous_subarray(array, low, mid)\n",
    "    rli, rri, rs = max_contiguous_subarray(array, mid + 1, high)\n",
    "    cli, cri, cs = max_crossing_array(array, low, mid, high)\n",
    "    if cs >= rs >= ls:\n",
    "        return (cli, cri, cs)\n",
    "    elif rs >= ls:\n",
    "        return (rli, rri, rs)\n",
    "    else:\n",
    "        return (lli, lri, ls)\n",
    "\n",
    "# testing\n",
    "max_contiguous_subarray([-2, -3, 4, -1, -2, 1, 5, -3], 0, 7)"
   ]
  },
  {
   "cell_type": "code",
   "execution_count": 228,
   "metadata": {},
   "outputs": [
    {
     "output_type": "execute_result",
     "data": {
      "text/plain": [
       "3"
      ]
     },
     "metadata": {},
     "execution_count": 228
    }
   ],
   "source": [
    "def kadane_algo(array):\n",
    "    max_so_far = float('-inf')\n",
    "    max_ending_here = float('-inf')\n",
    "    for (i, el) in enumerate(array):\n",
    "        max_ending_here = max_ending_here + el\n",
    "        if max_ending_here < el:\n",
    "            max_ending_here = el\n",
    "        if max_ending_here > max_so_far:\n",
    "            max_so_far = max_ending_here\n",
    "    return max_so_far\n",
    "\n",
    "# testing\n",
    "kadane_algo([-1, -2, -3, 3, -4])"
   ]
  },
  {
   "source": [
    "## Minimize the max difference b/w two heights"
   ],
   "cell_type": "markdown",
   "metadata": {}
  },
  {
   "cell_type": "code",
   "execution_count": 223,
   "metadata": {},
   "outputs": [
    {
     "output_type": "execute_result",
     "data": {
      "text/plain": [
       "11"
      ]
     },
     "metadata": {},
     "execution_count": 223
    }
   ],
   "source": [
    "def min_the_max_diff(towers, k):\n",
    "    all_towers = []\n",
    "    for (pos, tower) in enumerate(towers):\n",
    "        if tower - k >= 0:\n",
    "            all_towers.append((tower - k, pos))\n",
    "        all_towers.append((tower + k, pos))\n",
    "    all_towers.sort(key=lambda el: el[0])\n",
    "    size = len(towers)\n",
    "    towers_no = [0 for _ in range(size)]\n",
    "    el_count = 0\n",
    "    start_pointer = 0\n",
    "    end_pointer = None\n",
    "    i = 0\n",
    "    while el_count != size:\n",
    "        cur = all_towers[i]\n",
    "        if towers_no[cur[1]] == 0:\n",
    "            towers_no[cur[1]] = 1\n",
    "            el_count += 1\n",
    "        else:\n",
    "            towers_no[cur[1]] += 1\n",
    "        end_pointer = i\n",
    "        i += 1\n",
    "    min_difference = all_towers[end_pointer][0] - all_towers[start_pointer][0]\n",
    "\n",
    "    while end_pointer < len(all_towers):\n",
    "        tower_pos = all_towers[start_pointer][1]\n",
    "        towers_no[tower_pos] -= 1\n",
    "        start_pointer += 1\n",
    "        if towers_no[tower_pos] == 0:\n",
    "            el_count -= 1\n",
    "        while end_pointer < len(all_towers) and el_count != size:\n",
    "            cur = all_towers[end_pointer]\n",
    "            if towers_no[cur[1]] == 0:\n",
    "                towers_no[cur[1]] = 1\n",
    "                el_count += 1\n",
    "            else:\n",
    "                towers_no[cur[1]] += 1\n",
    "            end_pointer += 1\n",
    "        if end_pointer < len(all_towers):\n",
    "            cur_difference = all_towers[end_pointer][0] - all_towers[start_pointer][0]\n",
    "            if cur_difference < min_difference:\n",
    "                min_difference = cur_difference\n",
    "\n",
    "    return min_difference\n",
    "\n",
    "# testing\n",
    "min_the_max_diff([3, 9, 12, 16, 20], 3)"
   ]
  },
  {
   "source": [
    "## Min. number of jumps to reach the array end"
   ],
   "cell_type": "markdown",
   "metadata": {}
  },
  {
   "cell_type": "code",
   "execution_count": 225,
   "metadata": {},
   "outputs": [
    {
     "output_type": "execute_result",
     "data": {
      "text/plain": [
       "3"
      ]
     },
     "metadata": {},
     "execution_count": 225
    }
   ],
   "source": [
    "def min_jumps(array):\n",
    "    memo = [float('inf') for _ in range(len(array))]\n",
    "    memo[0] = 0\n",
    "    for (pos, jumps) in enumerate(array):\n",
    "        for jump in range(1, jumps + 1):\n",
    "            cur = memo[pos] + 1\n",
    "            if pos + jump < len(array) and memo[pos+jump] > cur:\n",
    "                memo[pos+jump] = cur\n",
    "    return memo[-1]\n",
    "\n",
    "# testing\n",
    "min_jumps([1, 3, 5, 8, 9, 2, 6, 7, 6, 8, 9])"
   ]
  },
  {
   "source": [
    "## Find duplicate in an array of N + 1 integers"
   ],
   "cell_type": "markdown",
   "metadata": {}
  },
  {
   "cell_type": "code",
   "execution_count": 231,
   "metadata": {},
   "outputs": [
    {
     "output_type": "execute_result",
     "data": {
      "text/plain": [
       "2"
      ]
     },
     "metadata": {},
     "execution_count": 231
    }
   ],
   "source": [
    "def find_duplicate(nums):\n",
    "    tortoise = hare = nums[0]\n",
    "    while True:\n",
    "        tortoise = nums[tortoise]\n",
    "        hare = nums[nums[hare]]\n",
    "        if tortoise == hare:\n",
    "            break\n",
    "    tortoise = nums[0]\n",
    "    while tortoise != hare:\n",
    "        tortoise = nums[tortoise]\n",
    "        hare = nums[hare]\n",
    "\n",
    "    return hare\n",
    "\n",
    "# testing\n",
    "find_duplicate([1, 3, 4, 2, 2])"
   ]
  },
  {
   "source": [
    "## Best time to buy and sell stock"
   ],
   "cell_type": "markdown",
   "metadata": {}
  },
  {
   "cell_type": "code",
   "execution_count": 13,
   "metadata": {},
   "outputs": [
    {
     "output_type": "stream",
     "name": "stdout",
     "text": [
      "[None, -6, 4, -2, 3, -2]\n"
     ]
    },
    {
     "output_type": "execute_result",
     "data": {
      "text/plain": [
       "5"
      ]
     },
     "metadata": {},
     "execution_count": 13
    }
   ],
   "source": [
    "def max_buy_sell(prices):\n",
    "    max_price_here = float('-inf')\n",
    "    max_so_far = float('-inf')\n",
    "    changes = [None] * len(prices)\n",
    "    for i in range(1, len(prices)):\n",
    "        changes[i] = prices[i] - prices[i - 1]\n",
    "    print(changes)\n",
    "\n",
    "    for price in changes[1:]:\n",
    "        max_price_here += price\n",
    "        if max_price_here < price:\n",
    "            max_price_here = price\n",
    "        if max_price_here > max_so_far:\n",
    "            max_so_far = max_price_here\n",
    "    return max_so_far\n",
    "\n",
    "# testing\n",
    "max_buy_sell([7, 1, 5, 3, 6, 4])"
   ]
  },
  {
   "source": [
    "## Find all pairs on integer array whose sum is equal to given number"
   ],
   "cell_type": "markdown",
   "metadata": {}
  },
  {
   "cell_type": "code",
   "execution_count": 26,
   "metadata": {},
   "outputs": [
    {
     "output_type": "execute_result",
     "data": {
      "text/plain": [
       "6"
      ]
     },
     "metadata": {},
     "execution_count": 26
    }
   ],
   "source": [
    "from collections import defaultdict\n",
    "def count_sum_pairs(nums, sum_val):\n",
    "    freq = defaultdict(int)\n",
    "    for num in nums:\n",
    "        freq[num] += 1\n",
    "    \n",
    "    double_count = 0\n",
    "    for num in nums:\n",
    "        double_count += freq[sum_val - num]\n",
    "\n",
    "        if sum_val - num == num:\n",
    "            double_count -= 1\n",
    "    return double_count // 2\n",
    "\n",
    "# testing\n",
    "count_sum_pairs([1, 1, 1, 1], 2)"
   ]
  },
  {
   "source": [
    "## Count Inversions"
   ],
   "cell_type": "markdown",
   "metadata": {}
  },
  {
   "cell_type": "code",
   "execution_count": 57,
   "metadata": {},
   "outputs": [
    {
     "output_type": "execute_result",
     "data": {
      "text/plain": [
       "5"
      ]
     },
     "metadata": {},
     "execution_count": 57
    }
   ],
   "source": [
    "def count_inversions(nums, left, right):\n",
    "    if right <= left:\n",
    "        return 0\n",
    "    inverse_count = 0\n",
    "    mid = (left + right) // 2\n",
    "    left_count = count_inversions(nums, left, mid)\n",
    "    right_count = count_inversions(nums, mid + 1, right)\n",
    "    merge_count = _merge(nums, left, mid, right)\n",
    "\n",
    "    return (left_count + merge_count + right_count)\n",
    "\n",
    "def _merge(nums, left, mid, right):\n",
    "    count_inversions = 0\n",
    "    l_array = [el for el in nums[left: mid + 1]]\n",
    "    r_array = [el for el in nums[mid + 1:right + 1]]\n",
    "    i = j = 0\n",
    "    k = left\n",
    "\n",
    "    while i < len(l_array) and j < len(r_array):\n",
    "        if l_array[i] > r_array[j]:\n",
    "            nums[k] = r_array[j]\n",
    "            k += 1\n",
    "            j += 1\n",
    "            count_inversions += (mid - i + 1)\n",
    "        else:\n",
    "            nums[k] = l_array[i]\n",
    "            i += 1\n",
    "            k += 1\n",
    "    \n",
    "    while i < len(l_array):\n",
    "        nums[k] = l_array[i]\n",
    "        k += 1\n",
    "        i += 1\n",
    "    \n",
    "    while j < len(r_array):\n",
    "        nums[k] = r_array[j]\n",
    "        k += 1\n",
    "        j += 1\n",
    "    \n",
    "    return count_inversions\n",
    "\n",
    "# testing\n",
    "nums = [1, 20, 6, 4, 5]\n",
    "count_inversions(nums, 0, len(nums) - 1)"
   ]
  },
  {
   "source": [
    "## Find common elements in 3 sorted arrays"
   ],
   "cell_type": "markdown",
   "metadata": {}
  },
  {
   "cell_type": "code",
   "execution_count": 66,
   "metadata": {},
   "outputs": [
    {
     "output_type": "execute_result",
     "data": {
      "text/plain": [
       "[20, 80]"
      ]
     },
     "metadata": {},
     "execution_count": 66
    }
   ],
   "source": [
    "def find_common_three(nums1, nums2, nums3):\n",
    "    i = j = k = 0\n",
    "    intersection = []\n",
    "    while i < len(nums1) and j < len(nums2) and k < len(nums3):\n",
    "        if nums1[i] == nums2[j] == nums3[k]:\n",
    "            intersection.append(nums1[i])\n",
    "            i += 1\n",
    "            j += 1\n",
    "            k += 1\n",
    "        elif nums1[i] < nums2[j]:\n",
    "            i += 1\n",
    "        elif nums2[j] < nums3[k]:\n",
    "            j += 1\n",
    "        else:\n",
    "            k += 1\n",
    "    return intersection\n",
    "\n",
    "# testing\n",
    "find_common_three([1, 5, 10, 20, 40, 80], [6, 7, 20, 80, 100], [3, 4, 15, 20, 30, 70, 80, 120])"
   ]
  },
  {
   "source": [
    "## Rearrange the array in alternating positive and negative items with O(1) extra space"
   ],
   "cell_type": "markdown",
   "metadata": {}
  },
  {
   "cell_type": "code",
   "execution_count": 104,
   "metadata": {},
   "outputs": [],
   "source": [
    "def rotate_right(nums, start, end):\n",
    "    x = nums[end]\n",
    "    for i in range(end, start, -1):\n",
    "        nums[i] = nums[i - 1]\n",
    "    nums[start] = x\n",
    "\n",
    "def alternate_nums(nums):\n",
    "    neg = None\n",
    "    for (i, el) in enumerate(nums):\n",
    "        neg = True if el < 0 else False\n",
    "        cond_rot = (i % 2 != 0 and el > 0) or (i % 2 == 0 and el < 0)\n",
    "        if cond_rot:\n",
    "            starting = i\n",
    "            ending = i + 1\n",
    "            while ending < len(nums) and neg == (nums[ending] < 0):\n",
    "                ending += 1\n",
    "            if ending < len(nums):\n",
    "                rotate_right(nums, starting, ending)\n",
    "\n",
    "# testing\n",
    "nums = [-5, -2, 5, 2, 4, 7, 1, 8, 0, -8]"
   ]
  },
  {
   "source": [
    "## Subarray with 0 sum"
   ],
   "cell_type": "markdown",
   "metadata": {}
  },
  {
   "cell_type": "code",
   "execution_count": 116,
   "metadata": {},
   "outputs": [
    {
     "output_type": "execute_result",
     "data": {
      "text/plain": [
       "(1, 3)"
      ]
     },
     "metadata": {},
     "execution_count": 116
    }
   ],
   "source": [
    "def subarray_zero(nums):\n",
    "    # make prefix of nums array\n",
    "    prefix_array = [None] * len(nums)\n",
    "    prefix_array[0] = nums[0]\n",
    "    for i in range(1, len(nums)):\n",
    "        prefix_array[i] = prefix_array[i - 1] + nums[i]   \n",
    "    hash_map = dict()\n",
    "    for (i, num) in enumerate(prefix_array):\n",
    "        if num not in hash_map:\n",
    "            hash_map[num] = i\n",
    "        else:\n",
    "            return (hash_map[num] + 1, i)\n",
    "    return None\n",
    "\n",
    "# testing\n",
    "nums = [1, 4, -2, -2, 5, -4, 3]\n",
    "subarray_zero(nums)"
   ]
  },
  {
   "cell_type": "code",
   "execution_count": 25,
   "metadata": {},
   "outputs": [
    {
     "output_type": "execute_result",
     "data": {
      "text/plain": [
       "'3628800'"
      ]
     },
     "metadata": {},
     "execution_count": 25
    }
   ],
   "source": [
    "def large_factorial(num):\n",
    "    nums_arr = []\n",
    "    # initialize nums_arr with 1\n",
    "    nums_arr.append(1)\n",
    "    for i in range(2, num + 1):\n",
    "        fact_mul(nums_arr, i)\n",
    "    \n",
    "    # print it\n",
    "    return ''.join(map(str, nums_arr[::-1]))\n",
    "\n",
    "def fact_mul(nums_arr, multiplier):\n",
    "    carry = 0\n",
    "    for i in range(len(nums_arr)):\n",
    "        current = nums_arr[i] * multiplier + carry\n",
    "        nums_arr[i] = current % 10\n",
    "        carry = current // 10\n",
    "    while carry != 0:\n",
    "        nums_arr.append(carry % 10)\n",
    "        carry //= 10      \n",
    "\n",
    "# testing\n",
    "large_factorial(10) "
   ]
  },
  {
   "source": [
    "## Find the maximum product subarray"
   ],
   "cell_type": "markdown",
   "metadata": {}
  },
  {
   "cell_type": "code",
   "execution_count": 46,
   "metadata": {},
   "outputs": [
    {
     "output_type": "execute_result",
     "data": {
      "text/plain": [
       "180"
      ]
     },
     "metadata": {},
     "execution_count": 46
    }
   ],
   "source": [
    "def find_maximum_sub_product(nums):\n",
    "    min_here = nums[0]\n",
    "    max_here = nums[0]\n",
    "\n",
    "    max_entire = nums[0]\n",
    "    for num in nums[1:]:\n",
    "        if num < 0:\n",
    "            min_here, max_here = max_here, min_here\n",
    "        max_here = max(num, max_here * num)\n",
    "        min_here = min(num, min_here * num)\n",
    "\n",
    "        max_entire = max(max_entire, max_here)\n",
    "\n",
    "    return max_entire\n",
    "\n",
    "# testing\n",
    "find_maximum_sub_product([6, -3, -10, 0, 2])"
   ]
  },
  {
   "source": [
    "## Longest consecutive subsequence"
   ],
   "cell_type": "markdown",
   "metadata": {}
  },
  {
   "cell_type": "code",
   "execution_count": 58,
   "metadata": {},
   "outputs": [
    {
     "output_type": "execute_result",
     "data": {
      "text/plain": [
       "5"
      ]
     },
     "metadata": {},
     "execution_count": 58
    }
   ],
   "source": [
    "def consecutive_subsequence(nums):\n",
    "    _set = {num: True for num in nums}\n",
    "    max_sub = 0\n",
    "    for num in nums:\n",
    "        cur_sub = 0\n",
    "        if num - 1 not in _set:\n",
    "            cur_sub = 1\n",
    "            next_el = num + 1\n",
    "            while True:\n",
    "                if next_el not in _set:\n",
    "                    break\n",
    "                next_el += 1\n",
    "                cur_sub += 1\n",
    "        max_sub = max(max_sub, cur_sub)\n",
    "    return max_sub\n",
    "\n",
    "# testing\n",
    "consecutive_subsequence([1, 9, 3, 10, 4, 20, 2])\n",
    "consecutive_subsequence([36, 41, 56, 35, 44, 33, 34, 92, 43, 32, 42])"
   ]
  },
  {
   "source": [
    "## Given an array of size n and a number k, find all elements that appear more than 'n/k' times"
   ],
   "cell_type": "markdown",
   "metadata": {}
  },
  {
   "cell_type": "code",
   "execution_count": 75,
   "metadata": {},
   "outputs": [
    {
     "output_type": "execute_result",
     "data": {
      "text/plain": [
       "[3, 2]"
      ]
     },
     "metadata": {},
     "execution_count": 75
    }
   ],
   "source": [
    "def n_by_k_nums(nums, k):\n",
    "    # 0th -> element, 1th count\n",
    "    k_arr = [[0, 0] for _ in range(k - 1)]\n",
    "    for num in nums:\n",
    "        i = 0\n",
    "        # check if num is present in k_arr\n",
    "        while i < len(k_arr):\n",
    "            if k_arr[i][0] == num:\n",
    "                k_arr[i][1] += 1\n",
    "                break\n",
    "            i += 1\n",
    "        \n",
    "        # check if the num is not present in k_arr\n",
    "        if i == len(k_arr):\n",
    "            # check if there is an empty slot\n",
    "            i = 0\n",
    "            while i < len(k_arr):\n",
    "                if k_arr[i][1] == 0:\n",
    "                    k_arr[i][0] = num\n",
    "                    k_arr[i][1] += 1\n",
    "                    break\n",
    "                i += 1\n",
    "            \n",
    "            # check if there's not an empty slot\n",
    "            if i == len(k_arr):\n",
    "                for _set in k_arr:\n",
    "                    _set[1] -= 1\n",
    "    \n",
    "    result = []\n",
    "    # check the num in k_arr has size > n // k\n",
    "    for _set in k_arr:\n",
    "        count = 0\n",
    "        for num in nums:\n",
    "            if num == _set[0]:\n",
    "                count += 1\n",
    "        if count > (len(nums) // k):\n",
    "            result.append(_set[0])\n",
    "    return result\n",
    "\n",
    "# testing\n",
    "n_by_k_nums([3, 1, 2, 2, 2, 1, 4, 3, 3], 4)"
   ]
  },
  {
   "source": [
    "## Find whether an array is a subset of another array"
   ],
   "cell_type": "markdown",
   "metadata": {}
  },
  {
   "cell_type": "code",
   "execution_count": 2,
   "metadata": {},
   "outputs": [
    {
     "output_type": "execute_result",
     "data": {
      "text/plain": [
       "True"
      ]
     },
     "metadata": {},
     "execution_count": 2
    }
   ],
   "source": [
    "def is_subset(nums1, nums2):\n",
    "    _set = {el: True for el in nums1}\n",
    "    for num in nums2:\n",
    "        if num not in _set:\n",
    "            return False\n",
    "    return True\n",
    "\n",
    "# testing\n",
    "is_subset([11, 1, 13, 21, 3, 7], [11, 3, 7, 1])"
   ]
  },
  {
   "cell_type": "code",
   "execution_count": 39,
   "metadata": {},
   "outputs": [
    {
     "output_type": "execute_result",
     "data": {
      "text/plain": [
       "(3, 9, 12)"
      ]
     },
     "metadata": {},
     "execution_count": 39
    }
   ],
   "source": [
    "def tripple_sum_sort(nums, value):\n",
    "    nums.sort()\n",
    "    for (i, num) in enumerate(nums):\n",
    "        left = i + 1\n",
    "        right = len(nums) - 1\n",
    "        find = value - num\n",
    "        while left < right:\n",
    "            lr_sum = nums[left] + nums[right]\n",
    "            if find == lr_sum:\n",
    "                return (num, nums[left], nums[right])\n",
    "            elif find < lr_sum:\n",
    "                right -= 1\n",
    "            else:\n",
    "                left += 1\n",
    "    return None\n",
    "\n",
    "# testing\n",
    "tripple_sum_sort([12, 3, 4, 1, 6, 9], 24)"
   ]
  },
  {
   "cell_type": "code",
   "execution_count": 44,
   "metadata": {},
   "outputs": [
    {
     "output_type": "execute_result",
     "data": {
      "text/plain": [
       "(12, 9, 3)"
      ]
     },
     "metadata": {},
     "execution_count": 44
    }
   ],
   "source": [
    "def tripple_sum_hash(nums, value):\n",
    "    for (i, num) in enumerate(nums):\n",
    "        find = value - num\n",
    "        _set = dict()\n",
    "        for i_num in nums[i + 1:]:\n",
    "            remaining = find - i_num\n",
    "            if remaining in _set:\n",
    "                return (num, i_num, remaining)\n",
    "            else:\n",
    "                _set[i_num] = True\n",
    "    return None\n",
    "\n",
    "# testing\n",
    "tripple_sum_hash([12, 3, 4, 1, 6, 9], 24)"
   ]
  },
  {
   "source": [
    "## Trapping Rain water problem "
   ],
   "cell_type": "markdown",
   "metadata": {}
  },
  {
   "cell_type": "code",
   "execution_count": 53,
   "metadata": {},
   "outputs": [
    {
     "output_type": "execute_result",
     "data": {
      "text/plain": [
       "2"
      ]
     },
     "metadata": {},
     "execution_count": 53
    }
   ],
   "source": [
    "def trapping_rain_water(towers):\n",
    "    left = [None] * len(towers)\n",
    "    left[0] = towers[0]\n",
    "    max_left = towers[0]\n",
    "    for i in range(1, len(towers)):\n",
    "        left[i] = max(max_left, towers[i])\n",
    "\n",
    "    right = [None] * len(towers)\n",
    "    right[-1] = towers[-1]\n",
    "    max_right = towers[-1]\n",
    "    for i in range(len(towers) - 2, -1, -1):\n",
    "        right[i] = max(max_right, towers[i])\n",
    "    \n",
    "    total_flood = 0\n",
    "    for i in range(0, len(towers)):\n",
    "        total_flood += (min(left[i], right[i]) - towers[i])\n",
    "    \n",
    "    return total_flood\n",
    "\n",
    "# testing\n",
    "trapping_rain_water([2, 0, 2])"
   ]
  },
  {
   "source": [
    "## Chocolate Distribution Problem"
   ],
   "cell_type": "markdown",
   "metadata": {}
  },
  {
   "cell_type": "code",
   "execution_count": 63,
   "metadata": {},
   "outputs": [
    {
     "output_type": "execute_result",
     "data": {
      "text/plain": [
       "2"
      ]
     },
     "metadata": {},
     "execution_count": 63
    }
   ],
   "source": [
    "def choco_distri(chocos, studs):\n",
    "    if len(chocos) == 0 or studs == 0:\n",
    "        return None\n",
    "    if studs > len(chocos):\n",
    "        return None\n",
    "    # sort the chocolates\n",
    "    chocos.sort()\n",
    "    min_difference = float('inf')\n",
    "    for i in range(len(chocos) - studs + 1):\n",
    "        cur_min_diff = chocos[i + studs - 1] - chocos[i]\n",
    "        if cur_min_diff < min_difference:\n",
    "            min_difference = cur_min_diff\n",
    "    return min_difference\n",
    "\n",
    "# testing\n",
    "choco_distri([2, 3, 4, 7, 9, 12, 56], 3)"
   ]
  },
  {
   "source": [
    "## Smallest subarray exceeding a given sum"
   ],
   "cell_type": "markdown",
   "metadata": {}
  },
  {
   "cell_type": "code",
   "execution_count": 76,
   "metadata": {},
   "outputs": [
    {
     "output_type": "execute_result",
     "data": {
      "text/plain": [
       "3"
      ]
     },
     "metadata": {},
     "execution_count": 76
    }
   ],
   "source": [
    "def sub_exceed_sum(nums, _sum):\n",
    "    start = 0\n",
    "    cur_sum = nums[start]\n",
    "    cur_index = start + 1\n",
    "    min_length = float('inf')\n",
    "    while cur_index < len(nums):\n",
    "        # if the cur_sum has value greater than _sum\n",
    "        while cur_sum > _sum and start < cur_index:\n",
    "            cur_sum -= nums[start]\n",
    "            start += 1\n",
    "        \n",
    "        # increment cur_index and add el to cur_sum\n",
    "        cur_sum += nums[cur_index]\n",
    "        if cur_sum > _sum:\n",
    "            min_length = min(min_length, cur_index - start)\n",
    "\n",
    "        cur_index += 1\n",
    "    return min_length\n",
    "\n",
    "# testing\n",
    "sub_exceed_sum([1, 4, 45, 6, 0, 19], 51)"
   ]
  },
  {
   "source": [
    "## Three way partitioning of an array"
   ],
   "cell_type": "markdown",
   "metadata": {}
  },
  {
   "cell_type": "code",
   "execution_count": 94,
   "metadata": {},
   "outputs": [
    {
     "output_type": "execute_result",
     "data": {
      "text/plain": [
       "[1, 5, 4, 2, 1, 3, 14, 20, 98, 20, 87, 32, 54]"
      ]
     },
     "metadata": {},
     "execution_count": 94
    }
   ],
   "source": [
    "def three_way_part(nums, left, right):\n",
    "    start = -1\n",
    "    end = len(nums)\n",
    "    i = 0\n",
    "    while i <= end:\n",
    "        if nums[i] < left:\n",
    "            start += 1\n",
    "            nums[i], nums[start] = nums[start], nums[i]\n",
    "            i += 1\n",
    "        elif nums[i] > right:\n",
    "            end -= 1\n",
    "            nums[i], nums[end] = nums[end], nums[i]\n",
    "        else:\n",
    "            i += 1\n",
    "    return nums\n",
    "\n",
    "# testing\n",
    "three_way_part([1, 14, 5, 20, 4, 2, 54, 20, 87, 98, 3, 1, 32], 14, 20)"
   ]
  },
  {
   "cell_type": "code",
   "execution_count": null,
   "metadata": {},
   "outputs": [],
   "source": []
  }
 ]
}