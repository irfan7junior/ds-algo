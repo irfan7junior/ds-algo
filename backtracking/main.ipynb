{
 "metadata": {
  "language_info": {
   "codemirror_mode": {
    "name": "ipython",
    "version": 3
   },
   "file_extension": ".py",
   "mimetype": "text/x-python",
   "name": "python",
   "nbconvert_exporter": "python",
   "pygments_lexer": "ipython3",
   "version": "3.8.5-final"
  },
  "orig_nbformat": 2,
  "kernelspec": {
   "name": "python3",
   "display_name": "Python 3.8.5 32-bit",
   "metadata": {
    "interpreter": {
     "hash": "b3ddf538fb3a42f9fbfe7f11c6dede3ea7130c83f3ba063cba8ec84a42ce8ea2"
    }
   }
  }
 },
 "nbformat": 4,
 "nbformat_minor": 2,
 "cells": [
  {
   "source": [
    "# Backtracking"
   ],
   "cell_type": "markdown",
   "metadata": {}
  },
  {
   "source": [
    "## Rat in a Maze"
   ],
   "cell_type": "markdown",
   "metadata": {}
  },
  {
   "cell_type": "code",
   "execution_count": 29,
   "metadata": {},
   "outputs": [],
   "source": [
    "from typing import List\n",
    "\n",
    "# check whether the cells are valid and not visited\n",
    "def is_safe(matrix, rows, cols, i, j, visited):\n",
    "    if i < 0 or i >= rows:\n",
    "        return False\n",
    "    if j < 0 or j >= cols:\n",
    "        return False\n",
    "    if matrix[i][j] == True and visited[i][j] == False:\n",
    "        return True\n",
    "    return False\n",
    "\n",
    "def util_maze(matrix, rows, cols, i, j, paths, path, visited):\n",
    "    # check top left cell\n",
    "    if i == 0 and j == 0 and not is_safe(matrix, rows, cols, 0, 0, visited):\n",
    "        return paths\n",
    "    \n",
    "    # mark i, j as visited\n",
    "    visited[i][j] = True\n",
    "\n",
    "    # at the bottom right of the grid\n",
    "    if i == rows - 1 and j == cols - 1:\n",
    "        paths.append(path)\n",
    "        return\n",
    "\n",
    "    # check down movement\n",
    "    if is_safe(matrix, rows, cols, i + 1, j, visited):\n",
    "        path += \"D\"\n",
    "        util_maze(matrix, rows, cols, i + 1, j, paths, path, visited)\n",
    "    \n",
    "    # check left movement\n",
    "    if is_safe(matrix, rows, cols, i, j - 1, visited):\n",
    "        path += \"L\"\n",
    "        util_maze(matrix, rows, cols, i, j - 1, paths, path, visited)\n",
    "    \n",
    "    # check right movement\n",
    "    if is_safe(matrix, rows, cols, i, j + 1, visited):\n",
    "        path += \"R\"\n",
    "        util_maze(matrix, rows, cols, i, j + 1, paths, path, visited)\n",
    "    \n",
    "    # check top movement\n",
    "    if is_safe(matrix, rows, cols, i - 1, j, visited):\n",
    "        path += \"U\"\n",
    "        util_maze(matrix, rows, cols, i - 1, j, paths, path, visited)\n",
    "\n",
    "\n",
    "    # unmark i, j as visited to let other route visit it\n",
    "    visited[i][j] = False\n",
    "\n",
    "def rat_in_maze():\n",
    "    matrix = [[1, 0, 0, 0], [1, 1, 0, 1], [0, 1, 0, 0], [0, 1, 1, 1]]\n",
    "    grid = [[True if el == 1 else False for el in array] for array in matrix]\n",
    "    visited = [[False for _ in range(4)] for _ in range(4)]\n",
    "    paths: List[str] = []\n",
    "    util_maze(grid, 4, 4, 0, 0, paths, \"\", visited)\n",
    "    return paths"
   ]
  }
 ]
}