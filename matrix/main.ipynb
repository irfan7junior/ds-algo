{
 "metadata": {
  "language_info": {
   "codemirror_mode": {
    "name": "ipython",
    "version": 3
   },
   "file_extension": ".py",
   "mimetype": "text/x-python",
   "name": "python",
   "nbconvert_exporter": "python",
   "pygments_lexer": "ipython3",
   "version": "3.8.5-final"
  },
  "orig_nbformat": 2,
  "kernelspec": {
   "name": "python3",
   "display_name": "Python 3.8.5 32-bit",
   "metadata": {
    "interpreter": {
     "hash": "b3ddf538fb3a42f9fbfe7f11c6dede3ea7130c83f3ba063cba8ec84a42ce8ea2"
    }
   }
  }
 },
 "nbformat": 4,
 "nbformat_minor": 2,
 "cells": [
  {
   "source": [
    "# Matrix"
   ],
   "cell_type": "markdown",
   "metadata": {}
  },
  {
   "source": [
    "## Spiral Traversal Matrix"
   ],
   "cell_type": "markdown",
   "metadata": {}
  },
  {
   "cell_type": "code",
   "execution_count": 2,
   "metadata": {},
   "outputs": [],
   "source": [
    "from typing import List\n",
    "# Clock wise simulation\n",
    "def spiral_traversal(matrix: List[List[int]], rows: int, cols: int) -> None:\n",
    "    seen_matrix = [[False] * cols for _ in range(rows)]\n",
    "\n",
    "    horizontal = (1, 0, -1, 0)\n",
    "    vertical = (0, 1, 0, -1)\n",
    "\n",
    "    row = 0\n",
    "    col = 0\n",
    "    i = 0\n",
    "\n",
    "    result: List[int] = []\n",
    "\n",
    "    for _ in range(rows * cols):\n",
    "        result.append(matrix[row][col])\n",
    "        seen_matrix[row][col] = True\n",
    "        \n",
    "        current_row = row + vertical[i]\n",
    "        current_col = col + horizontal[i]\n",
    "\n",
    "\n",
    "        if 0 <= current_row < rows \\\n",
    "                and 0 <= current_col < cols \\\n",
    "                and seen_matrix[current_row][current_col] is False:\n",
    "            row = current_row\n",
    "            col = current_col\n",
    "\n",
    "        else:\n",
    "            i = (i + 1) % 4\n",
    "            row += vertical[i]\n",
    "            col += horizontal[i]\n",
    "    return result\n",
    "\n",
    "# Four loops iterative\n",
    "def spiral_traversal_iterative(matrix: List[List[int]], rows: int, cols: int):\n",
    "    start_row, end_row = 0, rows - 1\n",
    "    start_col, end_col = 0, cols - 1\n",
    "\n",
    "    result: List[int] = []\n",
    "\n",
    "    while (start_row < end_row and start_col < end_col):\n",
    "        # traversing the top row and incrementing start_row\n",
    "        for col in range(start_col, end_col + 1):\n",
    "            result.append(matrix[start_row][col])\n",
    "        start_row += 1\n",
    "    \n",
    "        # traversing the right column and decrementing end_col\n",
    "        for row in range(start_row, end_row + 1):\n",
    "            result.append(matrix[row][end_col])\n",
    "        end_col -= 1\n",
    "\n",
    "        # traversing the bottom row and decrementing end_row\n",
    "        for col in range(end_col, start_col - 1, -1):\n",
    "            result.append(matrix[end_row][col])\n",
    "        end_row -= 1\n",
    "\n",
    "        # traversing the left column and increment start_col\n",
    "        for row in range(end_row, start_row - 1, -1):\n",
    "            result.append(matrix[row][start_col])\n",
    "        start_col += 1\n",
    "\n",
    "    return result\n",
    "\n",
    "# Four loops Recursive\n",
    "def spiral_matrix_recursive(matrix: List[List[int]], rows: int, cols: int, start_row: int = None, end_row: int = None, start_col: int = None, end_col: int = None, result: List[int] = []) -> List[int]:\n",
    "    if any([start_col == None, end_col == None, start_row == None, end_row == None]) is True:\n",
    "        start_row = 0\n",
    "        end_row = rows - 1\n",
    "        start_col = 0\n",
    "        end_col = cols - 1\n",
    "    \n",
    "    if start_row >= end_row or start_col >= end_col:\n",
    "        return result\n",
    "    \n",
    "    for col in range(start_col, end_col + 1):\n",
    "        result.append(matrix[start_row][col])\n",
    "    start_row += 1\n",
    "    \n",
    "    for row in range(start_row, end_row + 1):\n",
    "        result.append(matrix[row][end_col])\n",
    "    end_col -= 1\n",
    "\n",
    "    for col in range(end_col, start_col - 1, -1):\n",
    "        result.append(matrix[end_row][col])\n",
    "    end_row -= 1\n",
    "\n",
    "    for row in range(end_row, start_row - 1, -1):\n",
    "        result.append(matrix[row][start_col])\n",
    "    start_col += 1\n",
    "\n",
    "    return spiral_matrix_recursive(matrix, rows, cols, start_row, end_row, start_col, end_col, result)\n",
    "\n",
    "# helper function returning whether the node at i, j has been visited yet.\n",
    "def not_valid(valid: List[List[int]], rows: int, cols: int, i: int, j: int):\n",
    "    if i < 0 or i >= rows:\n",
    "        return True\n",
    "    if j < 0 or j >= cols:\n",
    "        return True\n",
    "    if valid[i][j] == False:\n",
    "        return False\n",
    "\n",
    "# DFS method\n",
    "def spiral_matrix_dfs(matrix: List[List[int]], rows: int, cols: int, i: int = None, j: int = None, direction: str = None, valid: List[List[int]] = None, result: List[int] = None):\n",
    "    if any([i == None, j == None, direction == None, valid == None, result == None]) is True:\n",
    "        i = 0\n",
    "        j = 0\n",
    "        direction = 'right'\n",
    "        valid = [[True] * cols for _ in range(rows)]\n",
    "        result: List[int] = []\n",
    "    \n",
    "    if not_valid(valid, rows, cols, i, j):\n",
    "        return result\n",
    "    \n",
    "    blocked = True\n",
    "    for k in [-1, 1]:\n",
    "        blocked = blocked and not_valid(valid, rows, cols, i + k, j) and not_valid(valid, rows, cols, i, j + k)\n",
    "    \n",
    "    result.append(matrix[i][j])\n",
    "    valid[i][j] = False\n",
    "    if blocked:\n",
    "        return result\n",
    "    \n",
    "    next_i = i\n",
    "    next_j = j\n",
    "    next_direction = direction\n",
    "\n",
    "    if direction == 'right':\n",
    "        if not not_valid(valid, rows, cols, i, j + 1):\n",
    "            next_j += 1\n",
    "        else:\n",
    "            next_direction = 'down'\n",
    "            next_i += 1\n",
    "    elif direction == 'down':\n",
    "        if not not_valid(valid, rows, cols, i + 1, j):\n",
    "            next_i += 1\n",
    "        else:\n",
    "            next_direction = 'left'\n",
    "            next_j -= 1\n",
    "    elif direction == 'left':\n",
    "        if not not_valid(valid, rows, cols, i, j - 1):\n",
    "            next_j -= 1\n",
    "        else:\n",
    "            next_direction = 'up'\n",
    "            next_i -= 1\n",
    "    elif direction == 'up':\n",
    "        if not not_valid(valid, rows, cols, i - 1, j):\n",
    "            next_i -= 1\n",
    "        else:\n",
    "            next_direction = 'right'\n",
    "            next_j += 1\n",
    "    return spiral_matrix_dfs(matrix, rows, cols, next_i, next_j, next_direction, valid, result)"
   ]
  },
  {
   "cell_type": "code",
   "execution_count": 3,
   "metadata": {},
   "outputs": [
    {
     "output_type": "stream",
     "name": "stdout",
     "text": [
      "Passed all tests!\nPassed all tests!\nPassed all tests!\n"
     ]
    },
    {
     "output_type": "error",
     "ename": "RecursionError",
     "evalue": "maximum recursion depth exceeded in comparison",
     "traceback": [
      "\u001b[1;31m---------------------------------------------------------------------------\u001b[0m",
      "\u001b[1;31mRecursionError\u001b[0m                            Traceback (most recent call last)",
      "\u001b[1;32m<ipython-input-3-17dc41bb3c03>\u001b[0m in \u001b[0;36m<module>\u001b[1;34m\u001b[0m\n\u001b[0;32m     13\u001b[0m \u001b[0mTest\u001b[0m\u001b[1;33m(\u001b[0m\u001b[1;33m)\u001b[0m\u001b[1;33m.\u001b[0m\u001b[0mtest\u001b[0m\u001b[1;33m(\u001b[0m\u001b[0mspiral_traversal_iterative\u001b[0m\u001b[1;33m)\u001b[0m\u001b[1;33m\u001b[0m\u001b[1;33m\u001b[0m\u001b[0m\n\u001b[0;32m     14\u001b[0m \u001b[0mTest\u001b[0m\u001b[1;33m(\u001b[0m\u001b[1;33m)\u001b[0m\u001b[1;33m.\u001b[0m\u001b[0mtest\u001b[0m\u001b[1;33m(\u001b[0m\u001b[0mspiral_matrix_recursive\u001b[0m\u001b[1;33m)\u001b[0m\u001b[1;33m\u001b[0m\u001b[1;33m\u001b[0m\u001b[0m\n\u001b[1;32m---> 15\u001b[1;33m \u001b[0mTest\u001b[0m\u001b[1;33m(\u001b[0m\u001b[1;33m)\u001b[0m\u001b[1;33m.\u001b[0m\u001b[0mtest\u001b[0m\u001b[1;33m(\u001b[0m\u001b[0mspiral_matrix_dfs\u001b[0m\u001b[1;33m)\u001b[0m\u001b[1;33m\u001b[0m\u001b[1;33m\u001b[0m\u001b[0m\n\u001b[0m",
      "\u001b[1;32m<ipython-input-3-17dc41bb3c03>\u001b[0m in \u001b[0;36mtest\u001b[1;34m(self, sol)\u001b[0m\n\u001b[0;32m      8\u001b[0m \u001b[1;32mclass\u001b[0m \u001b[0mTest\u001b[0m\u001b[1;33m(\u001b[0m\u001b[0mobject\u001b[0m\u001b[1;33m)\u001b[0m\u001b[1;33m:\u001b[0m\u001b[1;33m\u001b[0m\u001b[1;33m\u001b[0m\u001b[0m\n\u001b[0;32m      9\u001b[0m     \u001b[1;32mdef\u001b[0m \u001b[0mtest\u001b[0m\u001b[1;33m(\u001b[0m\u001b[0mself\u001b[0m\u001b[1;33m,\u001b[0m \u001b[0msol\u001b[0m\u001b[1;33m)\u001b[0m\u001b[1;33m:\u001b[0m\u001b[1;33m\u001b[0m\u001b[1;33m\u001b[0m\u001b[0m\n\u001b[1;32m---> 10\u001b[1;33m         \u001b[0massert_equal\u001b[0m\u001b[1;33m(\u001b[0m\u001b[0msol\u001b[0m\u001b[1;33m(\u001b[0m\u001b[0mmatrix\u001b[0m\u001b[1;33m,\u001b[0m \u001b[1;36m4\u001b[0m\u001b[1;33m,\u001b[0m \u001b[1;36m4\u001b[0m\u001b[1;33m)\u001b[0m\u001b[1;33m,\u001b[0m \u001b[1;33m[\u001b[0m\u001b[1;36m1\u001b[0m\u001b[1;33m,\u001b[0m \u001b[1;36m2\u001b[0m\u001b[1;33m,\u001b[0m \u001b[1;36m3\u001b[0m\u001b[1;33m,\u001b[0m \u001b[1;36m4\u001b[0m\u001b[1;33m,\u001b[0m \u001b[1;36m8\u001b[0m\u001b[1;33m,\u001b[0m \u001b[1;36m12\u001b[0m\u001b[1;33m,\u001b[0m \u001b[1;36m16\u001b[0m\u001b[1;33m,\u001b[0m \u001b[1;36m15\u001b[0m\u001b[1;33m,\u001b[0m \u001b[1;36m14\u001b[0m\u001b[1;33m,\u001b[0m \u001b[1;36m13\u001b[0m\u001b[1;33m,\u001b[0m \u001b[1;36m9\u001b[0m\u001b[1;33m,\u001b[0m \u001b[1;36m5\u001b[0m\u001b[1;33m,\u001b[0m \u001b[1;36m6\u001b[0m\u001b[1;33m,\u001b[0m \u001b[1;36m7\u001b[0m\u001b[1;33m,\u001b[0m \u001b[1;36m11\u001b[0m\u001b[1;33m,\u001b[0m \u001b[1;36m10\u001b[0m\u001b[1;33m]\u001b[0m\u001b[1;33m)\u001b[0m\u001b[1;33m\u001b[0m\u001b[1;33m\u001b[0m\u001b[0m\n\u001b[0m\u001b[0;32m     11\u001b[0m         \u001b[0mprint\u001b[0m\u001b[1;33m(\u001b[0m\u001b[1;34m'Passed all tests!'\u001b[0m\u001b[1;33m)\u001b[0m\u001b[1;33m\u001b[0m\u001b[1;33m\u001b[0m\u001b[0m\n\u001b[0;32m     12\u001b[0m \u001b[0mTest\u001b[0m\u001b[1;33m(\u001b[0m\u001b[1;33m)\u001b[0m\u001b[1;33m.\u001b[0m\u001b[0mtest\u001b[0m\u001b[1;33m(\u001b[0m\u001b[0mspiral_traversal\u001b[0m\u001b[1;33m)\u001b[0m\u001b[1;33m\u001b[0m\u001b[1;33m\u001b[0m\u001b[0m\n",
      "\u001b[1;32m<ipython-input-2-092487b8587d>\u001b[0m in \u001b[0;36mspiral_matrix_dfs\u001b[1;34m(matrix, rows, cols, i, j, direction, valid, result)\u001b[0m\n\u001b[0;32m    150\u001b[0m             \u001b[0mnext_direction\u001b[0m \u001b[1;33m=\u001b[0m \u001b[1;34m'right'\u001b[0m\u001b[1;33m\u001b[0m\u001b[1;33m\u001b[0m\u001b[0m\n\u001b[0;32m    151\u001b[0m             \u001b[0mnext_j\u001b[0m \u001b[1;33m+=\u001b[0m \u001b[1;36m1\u001b[0m\u001b[1;33m\u001b[0m\u001b[1;33m\u001b[0m\u001b[0m\n\u001b[1;32m--> 152\u001b[1;33m     \u001b[1;32mreturn\u001b[0m \u001b[0mspiral_matrix_dfs\u001b[0m\u001b[1;33m(\u001b[0m\u001b[0mmatrix\u001b[0m\u001b[1;33m,\u001b[0m \u001b[0mrows\u001b[0m\u001b[1;33m,\u001b[0m \u001b[0mcols\u001b[0m\u001b[1;33m,\u001b[0m \u001b[0mnext_i\u001b[0m\u001b[1;33m,\u001b[0m \u001b[0mnext_j\u001b[0m\u001b[1;33m,\u001b[0m \u001b[0mnext_direction\u001b[0m\u001b[1;33m,\u001b[0m \u001b[0mvalid\u001b[0m\u001b[1;33m,\u001b[0m \u001b[0mresult\u001b[0m\u001b[1;33m)\u001b[0m\u001b[1;33m\u001b[0m\u001b[1;33m\u001b[0m\u001b[0m\n\u001b[0m",
      "... last 1 frames repeated, from the frame below ...\n",
      "\u001b[1;32m<ipython-input-2-092487b8587d>\u001b[0m in \u001b[0;36mspiral_matrix_dfs\u001b[1;34m(matrix, rows, cols, i, j, direction, valid, result)\u001b[0m\n\u001b[0;32m    150\u001b[0m             \u001b[0mnext_direction\u001b[0m \u001b[1;33m=\u001b[0m \u001b[1;34m'right'\u001b[0m\u001b[1;33m\u001b[0m\u001b[1;33m\u001b[0m\u001b[0m\n\u001b[0;32m    151\u001b[0m             \u001b[0mnext_j\u001b[0m \u001b[1;33m+=\u001b[0m \u001b[1;36m1\u001b[0m\u001b[1;33m\u001b[0m\u001b[1;33m\u001b[0m\u001b[0m\n\u001b[1;32m--> 152\u001b[1;33m     \u001b[1;32mreturn\u001b[0m \u001b[0mspiral_matrix_dfs\u001b[0m\u001b[1;33m(\u001b[0m\u001b[0mmatrix\u001b[0m\u001b[1;33m,\u001b[0m \u001b[0mrows\u001b[0m\u001b[1;33m,\u001b[0m \u001b[0mcols\u001b[0m\u001b[1;33m,\u001b[0m \u001b[0mnext_i\u001b[0m\u001b[1;33m,\u001b[0m \u001b[0mnext_j\u001b[0m\u001b[1;33m,\u001b[0m \u001b[0mnext_direction\u001b[0m\u001b[1;33m,\u001b[0m \u001b[0mvalid\u001b[0m\u001b[1;33m,\u001b[0m \u001b[0mresult\u001b[0m\u001b[1;33m)\u001b[0m\u001b[1;33m\u001b[0m\u001b[1;33m\u001b[0m\u001b[0m\n\u001b[0m",
      "\u001b[1;31mRecursionError\u001b[0m: maximum recursion depth exceeded in comparison"
     ]
    }
   ],
   "source": [
    "from nose.tools import assert_equal\n",
    "matrix = [\n",
    "    [1, 2, 3, 4],\n",
    "    [5, 6, 7, 8],\n",
    "    [9, 10, 11, 12],\n",
    "    [13, 14, 15, 16]\n",
    "]\n",
    "class Test(object):\n",
    "    def test(self, sol):\n",
    "        assert_equal(sol(matrix, 4, 4), [1, 2, 3, 4, 8, 12, 16, 15, 14, 13, 9, 5, 6, 7, 11, 10])\n",
    "        print('Passed all tests!')\n",
    "Test().test(spiral_traversal)\n",
    "Test().test(spiral_traversal_iterative)\n",
    "Test().test(spiral_matrix_recursive)\n",
    "Test().test(spiral_matrix_dfs)"
   ]
  },
  {
   "source": [
    "## Search element in a sorted matrix "
   ],
   "cell_type": "markdown",
   "metadata": {}
  },
  {
   "cell_type": "code",
   "execution_count": 23,
   "metadata": {},
   "outputs": [
    {
     "output_type": "execute_result",
     "data": {
      "text/plain": [
       "(1, 1)"
      ]
     },
     "metadata": {},
     "execution_count": 23
    }
   ],
   "source": [
    "def search_sorted(matrix, rows, cols, target):\n",
    "    i = 0\n",
    "    j = cols - 1\n",
    "    while i >= 0 and j >= 0 and i < rows and j < cols:\n",
    "        if matrix[i][j] == target:\n",
    "            return (i, j)\n",
    "        elif matrix[i][j] > target:\n",
    "            j -= 1\n",
    "        else:\n",
    "            i += 1\n",
    "    return None\n",
    "\n",
    "# testing\n",
    "matrix = [[1, 3, 5, 7], [10, 11, 16, 20], [23, 30, 34, 60]]\n",
    "search_sorted(matrix, 3, 4, 11)"
   ]
  },
  {
   "source": [
    "## Find median in a row wise sorted matrix "
   ],
   "cell_type": "markdown",
   "metadata": {}
  },
  {
   "cell_type": "code",
   "execution_count": 31,
   "metadata": {},
   "outputs": [
    {
     "output_type": "execute_result",
     "data": {
      "text/plain": [
       "5"
      ]
     },
     "metadata": {},
     "execution_count": 31
    }
   ],
   "source": [
    "from bisect import bisect_right\n",
    "def median_sorted(matrix, rows, cols):\n",
    "    _min = float('inf')\n",
    "    _max = float('-inf')\n",
    "    for i in range(rows):\n",
    "        _min = min(_min, matrix[i][0])\n",
    "        _max = max(_max, matrix[i][cols - 1])\n",
    "    \n",
    "    desired = (rows * cols + 1) // 2\n",
    "    while _min < _max:\n",
    "        _mid = _min + (_max - _min) // 2\n",
    "        place = 0\n",
    "        for i in range(rows):\n",
    "            place += bisect_right(matrix[i], _mid)\n",
    "        if place < desired:\n",
    "            _min = _mid + 1\n",
    "        else:\n",
    "            _max = _mid\n",
    "    return _min\n",
    "\n",
    "# testing\n",
    "matrix = [[1, 3, 5],[2, 6, 9], [3, 6, 9]]\n",
    "median_sorted(matrix, 3, 3)"
   ]
  },
  {
   "source": [
    "## Row with max number of 1s"
   ],
   "cell_type": "markdown",
   "metadata": {}
  },
  {
   "cell_type": "code",
   "execution_count": 53,
   "metadata": {},
   "outputs": [
    {
     "output_type": "execute_result",
     "data": {
      "text/plain": [
       "2"
      ]
     },
     "metadata": {},
     "execution_count": 53
    }
   ],
   "source": [
    "from bisect import bisect_left\n",
    "def rows_with_1s(matrix, rows, cols):\n",
    "    i_row = None\n",
    "    max_1s = float('-inf')\n",
    "    for i in range(rows):\n",
    "        cur_max = cols - bisect_left(matrix[i], 1)\n",
    "        if cur_max > max_1s:\n",
    "            max_1s = cur_max\n",
    "            i_row = i\n",
    "    return i_row\n",
    "\n",
    "# testing\n",
    "matrix = [[0, 1, 1, 1], [0, 0, 1, 1], [1, 1, 1, 1], [0, 0, 0, 0]]\n",
    "rows_with_1s(matrix, 4, 4)"
   ]
  },
  {
   "cell_type": "code",
   "execution_count": 57,
   "metadata": {},
   "outputs": [
    {
     "output_type": "execute_result",
     "data": {
      "text/plain": [
       "[[0, 0, 0, 0], [0, 0, 0, 1], [1, 1, 1, 1], [1, 1, 1, 1]]"
      ]
     },
     "metadata": {},
     "execution_count": 57
    }
   ],
   "source": [
    "def print_sorted(matrix, rows, cols):\n",
    "    array = [el for arr in matrix for el in arr]\n",
    "    array.sort()\n",
    "    k = 0\n",
    "    for i in range(rows):\n",
    "        for j in range(cols):\n",
    "            matrix[i][j] = array[k]\n",
    "            k += 1\n",
    "    return matrix\n",
    "\n",
    "# testing\n",
    "matrix = [[0, 1, 1, 1], [0, 0, 1, 1], [1, 1, 1, 1], [0, 0, 0, 0]]\n",
    "print_sorted(matrix, 4, 4)"
   ]
  },
  {
   "source": [
    "## Max area under histogram"
   ],
   "cell_type": "markdown",
   "metadata": {}
  },
  {
   "cell_type": "code",
   "execution_count": 31,
   "metadata": {},
   "outputs": [
    {
     "output_type": "execute_result",
     "data": {
      "text/plain": [
       "5"
      ]
     },
     "metadata": {},
     "execution_count": 31
    }
   ],
   "source": [
    "from collections import deque\n",
    "def max_area_rect(heights):\n",
    "    stack = deque()\n",
    "    max_area = float('-inf')\n",
    "    i = 0\n",
    "    while i < len(heights):\n",
    "        if len(stack) == 0 or heights[i] >= heights[stack[-1]]:\n",
    "            stack.append(i)\n",
    "            i += 1\n",
    "        else:\n",
    "            top_position = stack.pop()\n",
    "            if len(stack) == 0:\n",
    "                max_area = max(max_area, i * heights[top_position])\n",
    "            else:\n",
    "                cur_area = heights[top_position] * (i - stack[-1] - 1)\n",
    "                max_area = max(max_area, cur_area)\n",
    "    while len(stack) != 0:\n",
    "        top_position = stack.pop()\n",
    "        if len(stack) == 0:\n",
    "            max_area = max(max_area, i * heights[top_position])\n",
    "        else:\n",
    "            cur_area = heights[top_position] * (i - stack[-1] - 1)\n",
    "            max_area = max(max_area, cur_area)\n",
    "    return max_area\n",
    "\n",
    "# testing\n",
    "max_area_histogram([6, 2, 5, 4, 5, 1, 6])\n",
    "max_area_histogram([2, 1, 2, 3, 1])"
   ]
  },
  {
   "source": [
    "## Max Area Rectangle"
   ],
   "cell_type": "markdown",
   "metadata": {}
  },
  {
   "cell_type": "code",
   "execution_count": 44,
   "metadata": {},
   "outputs": [
    {
     "output_type": "execute_result",
     "data": {
      "text/plain": [
       "8"
      ]
     },
     "metadata": {},
     "execution_count": 44
    }
   ],
   "source": [
    "def max_area_rect(matrix, rows, cols):\n",
    "    max_area = float('-inf')\n",
    "    for i in range(rows):\n",
    "        for j in range(cols):\n",
    "            if i >= 0:\n",
    "                cur = matrix[i][j]\n",
    "                matrix[i][j] = matrix[i - 1][j] + cur if cur == 1 else cur\n",
    "        max_area = max(max_area, max_area_histogram(matrix[i]))\n",
    "    return max_area\n",
    "\n",
    "# testing\n",
    "matrix = [[0, 1, 1, 0], [1, 1, 1, 1], [1, 1, 1, 1], [1, 1, 0, 0]]\n",
    "max_area_rect(matrix, 4, 4)"
   ]
  },
  {
   "source": [
    "## Find a specific pair in matrix"
   ],
   "cell_type": "markdown",
   "metadata": {}
  },
  {
   "cell_type": "code",
   "execution_count": 82,
   "metadata": {},
   "outputs": [
    {
     "output_type": "execute_result",
     "data": {
      "text/plain": [
       "18"
      ]
     },
     "metadata": {},
     "execution_count": 82
    }
   ],
   "source": [
    "def max_pair_val(matrix, rows, cols):\n",
    "    max_mat = [[0 for el in array] for array in matrix]\n",
    "    max_mat[rows - 1][cols - 1] = matrix[rows - 1][cols - 1]\n",
    "\n",
    "    max_value = matrix[rows - 1][cols - 1]\n",
    "    for i in range(rows - 2, -1, -1):\n",
    "        if matrix[i][cols - 1] > max_value:\n",
    "            max_value = matrix[i][cols - 1]\n",
    "        max_mat[i][cols - 1] = max_value\n",
    "    \n",
    "    max_value = matrix[rows - 1][cols - 1]\n",
    "    for i in range(cols - 1, -1, -1):\n",
    "        if matrix[rows - 1][i] > max_value:\n",
    "            max_value = matrix[rows - 1][i]\n",
    "        max_mat[rows - 1][i] = max_value\n",
    "    \n",
    "    max_value = matrix[rows - 1][cols - 1]\n",
    "    for i in range(rows - 2, -1, -1):\n",
    "        for j in range(cols - 2, -1, -1):\n",
    "            max_value = max(max_value, max_mat[i + 1][j + 1] - matrix[i][j])\n",
    "\n",
    "            max_mat[i][j] = max(matrix[i][j], max_mat[i + 1][j], max_mat[i][j + 1])\n",
    "\n",
    "    return max_value\n",
    "\n",
    "# testing\n",
    "matrix = [[1, 2, -1, -4, -20], [-8, -3, 4, 2, 1], [3, 8, 6, 1, 3], [-4, -1, 1, 7, -6], [0, -4, 10, -5, 1]]\n",
    "max_pair_val(matrix, 5, 5)"
   ]
  },
  {
   "source": [
    "## Rotate the matrix by 90deg"
   ],
   "cell_type": "markdown",
   "metadata": {}
  },
  {
   "cell_type": "code",
   "execution_count": 89,
   "metadata": {},
   "outputs": [
    {
     "output_type": "execute_result",
     "data": {
      "text/plain": [
       "[['*', '*', '*', '*'],\n",
       " ['*', '*', '*', '*'],\n",
       " ['*', '*', '*', '*'],\n",
       " ['|', '|', '|', '^'],\n",
       " ['*', '*', '*', '*'],\n",
       " ['*', '*', '*', '*'],\n",
       " ['*', '*', '*', '*']]"
      ]
     },
     "metadata": {},
     "execution_count": 89
    }
   ],
   "source": [
    "def rotate_matrix(matrix, rows, cols):\n",
    "    destination = [[0 for _ in range(rows)] for _ in range(cols)]\n",
    "    for i in range(rows):\n",
    "        for j in range(cols):\n",
    "            destination[j][rows - 1 - i] = matrix[i][j]\n",
    "    return destination\n",
    "# testing\n",
    "matrix = [\n",
    "    ['*', '*', '*', '^', '*', '*', '*'],\n",
    "    ['*', '*', '*', '|', '*', '*', '*'],\n",
    "    ['*', '*', '*', '|', '*', '*', '*'],\n",
    "    ['*', '*', '*', '|', '*', '*', '*'],\n",
    "]\n",
    "rotate_matrix(matrix, 4, 7)"
   ]
  },
  {
   "cell_type": "code",
   "execution_count": 98,
   "metadata": {},
   "outputs": [
    {
     "output_type": "execute_result",
     "data": {
      "text/plain": [
       "[[1, 2, 3, 4], [5, 6, 7, 8], [9, 10, 11, 12], [13, 14, 15, 16]]"
      ]
     },
     "metadata": {},
     "execution_count": 98
    }
   ],
   "source": [
    "def rotate_matrix_inplace_clock(matrix, size):\n",
    "    for i in range(size):\n",
    "        for j in range(i):\n",
    "            matrix[i][j], matrix[j][i] = matrix[j][i], matrix[i][j]\n",
    "    for i in range(size):\n",
    "        matrix[i].reverse()\n",
    "    return matrix\n",
    "\n",
    "def rotate_matrix_inplace_anti(matrix, size):\n",
    "    for i in range(size):\n",
    "        for j in range(i):\n",
    "            matrix[i][j], matrix[j][i] = matrix[j][i], matrix[i][j]\n",
    "    for i in range(size):\n",
    "        start = 0\n",
    "        end = size - 1\n",
    "        while start < end:\n",
    "            matrix[start][i], matrix[end][i] = matrix[end][i], matrix[start][i]\n",
    "            start += 1\n",
    "            end -= 1\n",
    "    return matrix\n",
    "\n",
    "# testing\n",
    "matrix = [[1, 2, 3, 4], [5, 6, 7, 8], [9, 10, 11, 12], [13, 14, 15, 16]]\n",
    "rotate_matrix_inplace_clock(matrix, 4)\n",
    "rotate_matrix_inplace_anti(matrix, 4)"
   ]
  },
  {
   "source": [
    "## "
   ],
   "cell_type": "markdown",
   "metadata": {}
  }
 ]
}