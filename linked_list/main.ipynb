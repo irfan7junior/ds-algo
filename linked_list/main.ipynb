{
 "metadata": {
  "language_info": {
   "codemirror_mode": {
    "name": "ipython",
    "version": 3
   },
   "file_extension": ".py",
   "mimetype": "text/x-python",
   "name": "python",
   "nbconvert_exporter": "python",
   "pygments_lexer": "ipython3",
   "version": "3.8.5-final"
  },
  "orig_nbformat": 2,
  "kernelspec": {
   "name": "python3",
   "display_name": "Python 3.8.5 32-bit",
   "metadata": {
    "interpreter": {
     "hash": "b3ddf538fb3a42f9fbfe7f11c6dede3ea7130c83f3ba063cba8ec84a42ce8ea2"
    }
   }
  }
 },
 "nbformat": 4,
 "nbformat_minor": 2,
 "cells": [
  {
   "source": [
    "# Linked List"
   ],
   "cell_type": "markdown",
   "metadata": {}
  },
  {
   "source": [
    "## Node and Linked List Class (Doubly Linked List)"
   ],
   "cell_type": "markdown",
   "metadata": {}
  },
  {
   "cell_type": "code",
   "execution_count": 4,
   "metadata": {},
   "outputs": [],
   "source": [
    "from typing import TypeVar, List\n",
    "T = TypeVar('T')\n",
    "\n",
    "class Node(object):\n",
    "    def __init__(self, value: T, left = None, right = None):\n",
    "        self.value = value\n",
    "        if isinstance(left, Node) and isinstance(left, None):\n",
    "            self.left = left\n",
    "            self.right = right\n",
    "        else:\n",
    "            self.left = None\n",
    "            self.right = None\n",
    "    \n",
    "    def __repr__(self):\n",
    "        result =  f'{self.value} <-> '\n",
    "        if self.right == None:\n",
    "            result += 'None'\n",
    "        else:\n",
    "            result += str(self.right)\n",
    "        return result\n",
    "\n",
    "class LinkedList(object):\n",
    "    def __init__(self, items: List[T] = None):\n",
    "        if items == None:\n",
    "            self.head = None\n",
    "        else:\n",
    "            self.head = None\n",
    "            self.make_ll(items)\n",
    "\n",
    "    def make_ll(self, items: List[T]) -> None:\n",
    "        for i in range(len(items)):\n",
    "            self.add_node(items[i])\n",
    "\n",
    "    def add_node(self, item: T):\n",
    "        new_node: Node = Node(item)\n",
    "        if self.head == None:\n",
    "            self.head = new_node\n",
    "            return\n",
    "        cur: Node = self.head\n",
    "        while cur.right != None:\n",
    "            cur = cur.right\n",
    "        \n",
    "        cur.right = new_node\n",
    "        new_node.prev = cur\n",
    "    \n",
    "    def __repr__(self):\n",
    "        if self.head == None:\n",
    "            return 'None'\n",
    "        return str(self.head)"
   ]
  },
  {
   "source": [
    "## Node and Linked List (Singly Linked List)"
   ],
   "cell_type": "markdown",
   "metadata": {}
  },
  {
   "cell_type": "code",
   "execution_count": 9,
   "metadata": {},
   "outputs": [],
   "source": [
    "class SinglyNode(object):\n",
    "    def __init__(self, value: T, right = None):\n",
    "        self.value = value\n",
    "        if isinstance(right, SinglyNode):\n",
    "            self.right = right\n",
    "        else:\n",
    "            self.right = None\n",
    "\n",
    "    def __repr__(self):\n",
    "        result = f'{self.value} -> '\n",
    "        if self.right is None:\n",
    "            result += 'None'\n",
    "        else:\n",
    "            result += str(self.right)\n",
    "        return result\n",
    "\n",
    "class SinglyLinkedList(object):\n",
    "    def __init__(self, items: List[T] = None):\n",
    "        self.head = None\n",
    "        if isinstance(items, list):\n",
    "            self.make_ll(items)\n",
    "    \n",
    "    def add_node(self, value):\n",
    "        new_node = SinglyNode(value)\n",
    "        if self.head == None:\n",
    "            self.head = new_node\n",
    "            return\n",
    "        cur = self.head\n",
    "        while cur.right != None:\n",
    "            cur = cur.right\n",
    "        cur.right = new_node\n",
    "    \n",
    "    def make_ll(self, items: List[T]):\n",
    "        for i in range(len(items)):\n",
    "            self.add_node(items[i])\n",
    "    \n",
    "    def __repr__(self):\n",
    "        return str(self.head)"
   ]
  },
  {
   "source": [
    "## Reverse a Linked List"
   ],
   "cell_type": "markdown",
   "metadata": {}
  },
  {
   "cell_type": "code",
   "execution_count": 31,
   "metadata": {},
   "outputs": [],
   "source": [
    "def reverse_ll(ll: SinglyLinkedList) -> str:\n",
    "    cur = ll.head\n",
    "    left, right = None, None\n",
    "    while cur != None:\n",
    "        # change right to cur.right\n",
    "        right = cur.right\n",
    "        # change cur.right to left\n",
    "        cur.right = left\n",
    "        # change left to current\n",
    "        left = cur\n",
    "        # change cur to right\n",
    "        cur = right\n",
    "    ll.head = left\n",
    "    return str(ll)\n",
    "\n",
    "def reverse_ll_recur(ll: SinglyLinkedList, cur: SinglyNode = None, left: SinglyNode = None, right: SinglyNode = None):\n",
    "    if cur is None and left is None and right is None:\n",
    "        cur = ll.head\n",
    "        \n",
    "    if cur is None:\n",
    "        ll.head = left\n",
    "        return str(left)\n",
    "\n",
    "    right = cur.right\n",
    "    cur.right = left\n",
    "    left = cur\n",
    "    cur = right\n",
    "\n",
    "    return reverse_ll_recur(ll, cur, left, right)    "
   ]
  },
  {
   "cell_type": "code",
   "execution_count": 32,
   "metadata": {},
   "outputs": [
    {
     "output_type": "stream",
     "name": "stdout",
     "text": [
      "Passed all tests\nPassed all tests\n"
     ]
    }
   ],
   "source": [
    "from nose.tools import assert_equal\n",
    "\n",
    "class Test(object):\n",
    "    def test(self, solution):\n",
    "        ll1 = SinglyLinkedList([1, 2, 3, 4, 5])\n",
    "        ll2 = SinglyLinkedList([5, 4, 3, 2, 1])\n",
    "        assert_equal(solution(ll1), str(ll2))\n",
    "        print('Passed all tests')\n",
    "\n",
    "Test().test(reverse_ll)\n",
    "Test().test(reverse_ll_recur)"
   ]
  },
  {
   "cell_type": "code",
   "execution_count": null,
   "metadata": {},
   "outputs": [],
   "source": []
  },
  {
   "cell_type": "code",
   "execution_count": null,
   "metadata": {},
   "outputs": [],
   "source": []
  }
 ]
}