{
 "metadata": {
  "language_info": {
   "codemirror_mode": {
    "name": "ipython",
    "version": 3
   },
   "file_extension": ".py",
   "mimetype": "text/x-python",
   "name": "python",
   "nbconvert_exporter": "python",
   "pygments_lexer": "ipython3",
   "version": "3.8.5-final"
  },
  "orig_nbformat": 2,
  "kernelspec": {
   "name": "python3",
   "display_name": "Python 3.8.5 32-bit",
   "metadata": {
    "interpreter": {
     "hash": "b3ddf538fb3a42f9fbfe7f11c6dede3ea7130c83f3ba063cba8ec84a42ce8ea2"
    }
   }
  }
 },
 "nbformat": 4,
 "nbformat_minor": 2,
 "cells": [
  {
   "source": [
    "# Linked List"
   ],
   "cell_type": "markdown",
   "metadata": {}
  },
  {
   "source": [
    "## Node and Linked List Class (Doubly Linked List)"
   ],
   "cell_type": "markdown",
   "metadata": {}
  },
  {
   "cell_type": "code",
   "execution_count": 2,
   "metadata": {},
   "outputs": [],
   "source": [
    "from typing import TypeVar, List\n",
    "T = TypeVar('T')\n",
    "\n",
    "class Node(object):\n",
    "    def __init__(self, value: T, left = None, right = None):\n",
    "        self.value = value\n",
    "        if isinstance(left, Node) and isinstance(left, None):\n",
    "            self.left = left\n",
    "            self.right = right\n",
    "        else:\n",
    "            self.left = None\n",
    "            self.right = None\n",
    "    \n",
    "    def __repr__(self):\n",
    "        result =  f'{self.value} <-> '\n",
    "        if self.right == None:\n",
    "            result += 'None'\n",
    "        else:\n",
    "            result += str(self.right)\n",
    "        return result\n",
    "\n",
    "class LinkedList(object):\n",
    "    def __init__(self, items: List[T] = None):\n",
    "        if items == None:\n",
    "            self.head = None\n",
    "        else:\n",
    "            self.head = None\n",
    "            self.make_ll(items)\n",
    "\n",
    "    def make_ll(self, items: List[T]) -> None:\n",
    "        for i in range(len(items)):\n",
    "            self.add_node(items[i])\n",
    "\n",
    "    def add_node(self, item: T):\n",
    "        new_node: Node = Node(item)\n",
    "        if self.head == None:\n",
    "            self.head = new_node\n",
    "            return\n",
    "        cur: Node = self.head\n",
    "        while cur.right != None:\n",
    "            cur = cur.right\n",
    "        \n",
    "        cur.right = new_node\n",
    "        new_node.prev = cur\n",
    "    \n",
    "    def __repr__(self):\n",
    "        if self.head == None:\n",
    "            return 'None'\n",
    "        return str(self.head)"
   ]
  },
  {
   "source": [
    "## Node and Linked List (Singly Linked List)"
   ],
   "cell_type": "markdown",
   "metadata": {}
  },
  {
   "cell_type": "code",
   "execution_count": 207,
   "metadata": {},
   "outputs": [],
   "source": [
    "class SinglyNode(object):\n",
    "    def __init__(self, value: T, right = None):\n",
    "        self.value = value\n",
    "        if isinstance(right, SinglyNode):\n",
    "            self.right = right\n",
    "        else:\n",
    "            self.right = None\n",
    "\n",
    "    def __repr__(self):\n",
    "        result = f'{self.value} -> '\n",
    "        if self.right is None:\n",
    "            result += 'None'\n",
    "        else:\n",
    "            result += str(self.right)\n",
    "        return result\n",
    "\n",
    "class SinglyLinkedList(object):\n",
    "    def __init__(self, items: List[T] = None):\n",
    "        self.head = None\n",
    "        if isinstance(items, list):\n",
    "            self.make_ll(items)\n",
    "    \n",
    "    def add_node(self, value):\n",
    "        new_node = SinglyNode(value)\n",
    "        if self.head == None:\n",
    "            self.head = new_node\n",
    "            return\n",
    "        cur = self.head\n",
    "        while cur.right != None:\n",
    "            cur = cur.right\n",
    "        cur.right = new_node\n",
    "    \n",
    "    def find_node(self, value):\n",
    "        current = self.head\n",
    "        while current and current.value != value:\n",
    "            current = current.right\n",
    "        return current\n",
    "    \n",
    "    def make_ll(self, items: List[T]):\n",
    "        for i in range(len(items)):\n",
    "            self.add_node(items[i])\n",
    "    \n",
    "    def __repr__(self):\n",
    "        return str(self.head)"
   ]
  },
  {
   "source": [
    "## Reverse a Linked List"
   ],
   "cell_type": "markdown",
   "metadata": {}
  },
  {
   "cell_type": "code",
   "execution_count": 4,
   "metadata": {},
   "outputs": [],
   "source": [
    "def reverse_ll(ll: SinglyLinkedList) -> str:\n",
    "    cur = ll.head\n",
    "    left, right = None, None\n",
    "    while cur != None:\n",
    "        # change right to cur.right\n",
    "        right = cur.right\n",
    "        # change cur.right to left\n",
    "        cur.right = left\n",
    "        # change left to current\n",
    "        left = cur\n",
    "        # change cur to right\n",
    "        cur = right\n",
    "    ll.head = left\n",
    "    return str(ll)\n",
    "\n",
    "def reverse_ll_recur(ll: SinglyLinkedList, cur: SinglyNode = None, left: SinglyNode = None, right: SinglyNode = None):\n",
    "    if cur is None and left is None and right is None:\n",
    "        cur = ll.head\n",
    "        \n",
    "    if cur is None:\n",
    "        ll.head = left\n",
    "        return str(left)\n",
    "\n",
    "    right = cur.right\n",
    "    cur.right = left\n",
    "    left = cur\n",
    "    cur = right\n",
    "\n",
    "    return reverse_ll_recur(ll, cur, left, right)    "
   ]
  },
  {
   "cell_type": "code",
   "execution_count": 5,
   "metadata": {},
   "outputs": [
    {
     "output_type": "stream",
     "name": "stdout",
     "text": [
      "Passed all tests\nPassed all tests\n"
     ]
    }
   ],
   "source": [
    "from nose.tools import assert_equal\n",
    "\n",
    "class Test(object):\n",
    "    def test(self, solution):\n",
    "        ll1 = SinglyLinkedList([1, 2, 3, 4, 5])\n",
    "        ll2 = SinglyLinkedList([5, 4, 3, 2, 1])\n",
    "        assert_equal(solution(ll1), str(ll2))\n",
    "        print('Passed all tests')\n",
    "\n",
    "Test().test(reverse_ll)\n",
    "Test().test(reverse_ll_recur)"
   ]
  },
  {
   "source": [
    "## Reverse a linked list in groups of given size"
   ],
   "cell_type": "markdown",
   "metadata": {}
  },
  {
   "cell_type": "code",
   "execution_count": 38,
   "metadata": {},
   "outputs": [],
   "source": [
    "ll = SinglyLinkedList([1, 2, 2, 4, 5, 6, 7, 8])"
   ]
  },
  {
   "cell_type": "code",
   "execution_count": 41,
   "metadata": {},
   "outputs": [
    {
     "output_type": "stream",
     "name": "stdout",
     "text": [
      "1 -> 2 -> 2 -> 4 -> 5 -> 6 -> 7 -> 8 -> None\n"
     ]
    }
   ],
   "source": [
    "from collections import deque\n",
    "def reverse_in_groups(ll, size):\n",
    "    stack = deque()\n",
    "    current = ll.head\n",
    "    prev = None\n",
    "\n",
    "    while current != None:\n",
    "        cur_size = 0\n",
    "        while cur_size < size and current != None:\n",
    "            stack.append(current)\n",
    "            current = current.right\n",
    "            cur_size += 1\n",
    "        \n",
    "        while len(stack) != 0:\n",
    "            if prev == None:\n",
    "                prev = stack.pop()\n",
    "                ll.head = prev\n",
    "            else:\n",
    "                prev.right = stack.pop()\n",
    "                prev = prev.right\n",
    "    prev.right = None\n",
    "    print(ll)\n",
    "\n",
    "# testing\n",
    "reverse_in_groups(ll, 4)"
   ]
  },
  {
   "source": [
    "## Detect a loop in a linked list"
   ],
   "cell_type": "markdown",
   "metadata": {}
  },
  {
   "cell_type": "code",
   "execution_count": 119,
   "metadata": {},
   "outputs": [
    {
     "output_type": "execute_result",
     "data": {
      "text/plain": [
       "True"
      ]
     },
     "metadata": {},
     "execution_count": 119
    }
   ],
   "source": [
    "def create_cycle_ll():\n",
    "    ll = SinglyLinkedList()\n",
    "\n",
    "    # nodes\n",
    "    a = SinglyNode('a')\n",
    "    b = SinglyNode('b')\n",
    "    c = SinglyNode('c')\n",
    "    d = SinglyNode('d')\n",
    "    e = SinglyNode('e')\n",
    "    \n",
    "    # cycle\n",
    "    a.right = b\n",
    "    b.right = c\n",
    "    c.right = d\n",
    "    d.right = e\n",
    "    e.right = b\n",
    "\n",
    "    ll.head = a\n",
    "    return ll\n",
    "\n",
    "def detect_loop(ll: SinglyLinkedList):\n",
    "    tortoise = ll.head\n",
    "    hare = ll.head\n",
    "\n",
    "    while tortoise != None and hare.right != None:\n",
    "        tortoise = tortoise.right\n",
    "        hare = hare.right.right\n",
    "        if tortoise == hare:\n",
    "            return True\n",
    "    return False\n",
    "\n",
    "# testing\n",
    "ll = create_cycle_ll()\n",
    "detect_loop(ll)"
   ]
  },
  {
   "source": [
    "## Delete a loop in a linked list"
   ],
   "cell_type": "markdown",
   "metadata": {}
  },
  {
   "cell_type": "code",
   "execution_count": 118,
   "metadata": {},
   "outputs": [
    {
     "output_type": "stream",
     "name": "stdout",
     "text": [
      "a -> b -> c -> d -> e -> None\n"
     ]
    }
   ],
   "source": [
    "def delete_loop(ll: SinglyLinkedList):\n",
    "    tortoise = ll.head\n",
    "    hare = ll.head\n",
    "\n",
    "    while tortoise != None and hare.right != None:\n",
    "        tortoise = tortoise.right\n",
    "        hare = hare.right.right\n",
    "        if hare == tortoise:\n",
    "            break\n",
    "\n",
    "    tortoise = ll.head\n",
    "    prev = None\n",
    "    while tortoise != hare:\n",
    "        prev = hare\n",
    "        tortoise = tortoise.right\n",
    "        hare = hare.right\n",
    "    \n",
    "    prev.right = None\n",
    "\n",
    "# testing\n",
    "ll = create_cycle_ll()\n",
    "delete_loop(ll)\n",
    "print(ll)"
   ]
  },
  {
   "source": [
    "## Starting point of a loop in a linked list"
   ],
   "cell_type": "markdown",
   "metadata": {}
  },
  {
   "cell_type": "code",
   "execution_count": 116,
   "metadata": {},
   "outputs": [
    {
     "output_type": "execute_result",
     "data": {
      "text/plain": [
       "'b'"
      ]
     },
     "metadata": {},
     "execution_count": 116
    }
   ],
   "source": [
    "def start_point_loop(ll: SinglyLinkedList):\n",
    "    tortoise = ll.head\n",
    "    hare = ll.head\n",
    "\n",
    "    while tortoise != None and hare.right != None:\n",
    "        tortoise = tortoise.right\n",
    "        hare = hare.right.right\n",
    "\n",
    "        if tortoise == hare:\n",
    "            break\n",
    "    \n",
    "    tortoise = ll.head\n",
    "\n",
    "    while tortoise != hare:\n",
    "        tortoise = tortoise.right\n",
    "        hare = hare.right\n",
    "\n",
    "    return tortoise.value\n",
    "\n",
    "# testing\n",
    "ll = create_cycle_ll()\n",
    "start_point_loop(ll)"
   ]
  },
  {
   "source": [
    "## Remove Duplicates in a sorted linked list"
   ],
   "cell_type": "markdown",
   "metadata": {}
  },
  {
   "cell_type": "code",
   "execution_count": 131,
   "metadata": {},
   "outputs": [
    {
     "output_type": "execute_result",
     "data": {
      "text/plain": [
       "1 -> 2 -> 3 -> 4 -> 5 -> 6 -> None"
      ]
     },
     "metadata": {},
     "execution_count": 131
    }
   ],
   "source": [
    "def remove_duplicates(ll):\n",
    "    first = ll.head\n",
    "\n",
    "    while first != None:\n",
    "        second = first.right\n",
    "        while second != None and second.value == first.value:\n",
    "            second = second.right\n",
    "        first.right = second\n",
    "        first = second\n",
    "        if first != None:\n",
    "            second = first.right\n",
    "\n",
    "ll = SinglyLinkedList([1, 1, 2, 3, 4, 5, 5, 5, 6])\n",
    "remove_duplicates(ll)\n",
    "ll"
   ]
  },
  {
   "source": [
    "## Remove Duplicates in an unsorted linked list"
   ],
   "cell_type": "markdown",
   "metadata": {}
  },
  {
   "cell_type": "code",
   "execution_count": 156,
   "metadata": {},
   "outputs": [
    {
     "output_type": "stream",
     "name": "stdout",
     "text": [
      "1 -> 3 -> 4 -> 5 -> 2 -> None\n"
     ]
    }
   ],
   "source": [
    "def remove_duplicates_unsorted(ll: SinglyLinkedList):\n",
    "    hash_set = set()\n",
    "\n",
    "    prev = None\n",
    "    current = ll.head\n",
    "\n",
    "    while current != None:\n",
    "        if current.value in hash_set:\n",
    "            prev.right = current.right\n",
    "        else:\n",
    "            hash_set.add(current.value)\n",
    "            prev = current\n",
    "        current = current.right\n",
    "\n",
    "ll = SinglyLinkedList([1, 3, 4, 5, 2, 1, 1, 2, 3, 5])\n",
    "remove_duplicates_unsorted(ll)\n",
    "print(ll)"
   ]
  },
  {
   "source": [
    "## Move the last element to front in a linked list"
   ],
   "cell_type": "markdown",
   "metadata": {}
  },
  {
   "cell_type": "code",
   "execution_count": 157,
   "metadata": {},
   "outputs": [
    {
     "output_type": "stream",
     "name": "stdout",
     "text": [
      "5 -> 1 -> 3 -> 4 -> 5 -> 2 -> 1 -> 1 -> 2 -> 3 -> None\n"
     ]
    }
   ],
   "source": [
    "def move_front(ll: SinglyLinkedList):\n",
    "    first = ll.head\n",
    "    last = ll.head\n",
    "    second_last = None\n",
    "    while last.right != None:\n",
    "        second_last = last\n",
    "        last = last.right\n",
    "    second_last.right = None\n",
    "    last.right = first\n",
    "    ll.head = last\n",
    "\n",
    "# testing\n",
    "ll = SinglyLinkedList([1, 3, 4, 5, 2, 1, 1, 2, 3, 5])\n",
    "move_front(ll)\n",
    "print(ll)"
   ]
  },
  {
   "source": [
    "## Add 1 to a number represented as a linked list"
   ],
   "cell_type": "markdown",
   "metadata": {}
  },
  {
   "cell_type": "code",
   "execution_count": 183,
   "metadata": {},
   "outputs": [
    {
     "output_type": "stream",
     "name": "stdout",
     "text": [
      "1 -> 0 -> 0 -> 0 -> None\n"
     ]
    }
   ],
   "source": [
    "def add_one_helper(ll: SinglyLinkedList):\n",
    "    left = None\n",
    "    right = None\n",
    "    current = ll.head\n",
    "    while current != None:\n",
    "        right = current.right\n",
    "        current.right = left\n",
    "        left = current\n",
    "        current = right\n",
    "    ll.head = left\n",
    "\n",
    "def add_one(ll: SinglyLinkedList):\n",
    "    add_one_helper(ll)\n",
    "\n",
    "    current = ll.head\n",
    "    carry = (current.value + 1) // 10\n",
    "    current.value = (current.value + 1) % 10\n",
    "    prev = current\n",
    "    current = current.right\n",
    "    while current != None and carry != 0:\n",
    "        digit_sum = (current.value + carry) % 10\n",
    "        carry = (current.value + carry) // 10\n",
    "        current.value = digit_sum\n",
    "        prev = current\n",
    "        current = current.right\n",
    "\n",
    "    if carry != 0:\n",
    "        new_node = SinglyNode(carry)\n",
    "        prev.right = new_node\n",
    "    \n",
    "    add_one_helper(ll)\n",
    "\n",
    "# testing\n",
    "ll = SinglyLinkedList([9, 9, 9])\n",
    "add_one(ll)\n",
    "print(ll)"
   ]
  },
  {
   "source": [
    "## Add two numbers represented by linked list"
   ],
   "cell_type": "markdown",
   "metadata": {}
  },
  {
   "cell_type": "code",
   "execution_count": 193,
   "metadata": {},
   "outputs": [
    {
     "output_type": "stream",
     "name": "stdout",
     "text": [
      "2 -> 5 -> 2 -> None\n"
     ]
    }
   ],
   "source": [
    "def add_nums_helper(ll: SinglyLinkedList):\n",
    "    left = None\n",
    "    right = None\n",
    "    current = ll.head\n",
    "    while current != None:\n",
    "        right = current.right\n",
    "        current.right = left\n",
    "        left = current\n",
    "        current = right\n",
    "    ll.head = left\n",
    "\n",
    "def add_nums(ll1: SinglyLinkedList, ll2: SinglyLinkedList):\n",
    "    add_nums_helper(ll1)\n",
    "    add_nums_helper(ll2)\n",
    "\n",
    "    carry = 0\n",
    "\n",
    "    cur_ll1 = ll1.head\n",
    "    cur_ll2 = ll2.head\n",
    "\n",
    "    result_ll = SinglyLinkedList()\n",
    "    current = result_ll.head\n",
    "\n",
    "    while cur_ll1 and cur_ll2:\n",
    "\n",
    "        digit_sum = carry\n",
    "        cur_carry = carry\n",
    "        if cur_ll1:\n",
    "            digit_sum += cur_ll1.value\n",
    "            cur_carry += cur_ll1.value\n",
    "        if cur_ll2:\n",
    "            digit_sum += cur_ll2.value\n",
    "            cur_carry += cur_ll2.value\n",
    "\n",
    "        digit_sum %= 10\n",
    "        cur_carry //= 10\n",
    "\n",
    "        carry = cur_carry\n",
    "\n",
    "        if current == None:\n",
    "            result_ll.add_node(digit_sum)\n",
    "            current = result_ll.head\n",
    "        else:\n",
    "            new_node = SinglyNode(digit_sum)\n",
    "            current.right = new_node\n",
    "            current = current.right\n",
    "    \n",
    "        cur_ll1 = cur_ll2.right\n",
    "        cur_ll2 = cur_ll2.right\n",
    "    \n",
    "    if carry != 0:\n",
    "        new_node = SinglyNode(carry)\n",
    "        current.right = new_node\n",
    "        current = new_node\n",
    "    \n",
    "    add_nums_helper(result_ll)\n",
    "    return result_ll\n",
    "\n",
    "# testing\n",
    "ll = add_nums(SinglyLinkedList([1, 2, 3]), SinglyLinkedList([1, 2, 9]))\n",
    "print(ll)"
   ]
  },
  {
   "source": [
    "## Intersection of two sorted linked list"
   ],
   "cell_type": "markdown",
   "metadata": {}
  },
  {
   "cell_type": "code",
   "execution_count": 204,
   "metadata": {},
   "outputs": [
    {
     "output_type": "stream",
     "name": "stdout",
     "text": [
      "2 -> 4 -> 6 -> None\n"
     ]
    }
   ],
   "source": [
    "def intersection_sorted(ll1: SinglyLinkedList, ll2: SinglyLinkedList):\n",
    "    current = None\n",
    "    result_ll = SinglyLinkedList()\n",
    "\n",
    "    ll1p = ll1.head\n",
    "    ll2p = ll2.head\n",
    "\n",
    "    while ll1p and ll2p:\n",
    "        if ll1p.value == ll2p.value:\n",
    "            if current == None:\n",
    "                result_ll.add_node(ll1p.value)\n",
    "                current = result_ll.head\n",
    "            else:\n",
    "                current.right = SinglyNode(ll1p.value)\n",
    "                current = current.right\n",
    "\n",
    "            ll1p = ll1p.right\n",
    "            ll2p = ll2p.right\n",
    "        elif ll1p.value < ll2p.value:\n",
    "            ll1p = ll1p.right\n",
    "\n",
    "        else:\n",
    "            ll2p = ll2p.right\n",
    "    \n",
    "    return result_ll\n",
    "\n",
    "# testing\n",
    "ll = intersection_sorted(SinglyLinkedList([1, 2, 3, 4, 6]), SinglyLinkedList([2, 4, 6, 8]))\n",
    "print(ll)"
   ]
  },
  {
   "source": [
    "## Intersection point of two joined linked list"
   ],
   "cell_type": "markdown",
   "metadata": {}
  },
  {
   "cell_type": "code",
   "execution_count": 220,
   "metadata": {},
   "outputs": [
    {
     "output_type": "execute_result",
     "data": {
      "text/plain": [
       "15 -> 30 -> None"
      ]
     },
     "metadata": {},
     "execution_count": 220
    }
   ],
   "source": [
    "def length_ll(ll):\n",
    "    count = 0\n",
    "    current = ll.head\n",
    "    while current:\n",
    "        count += 1\n",
    "        current = current.right\n",
    "    return count\n",
    "\n",
    "def intersection_point(ll1, ll2):\n",
    "    len1 = length_ll(ll1)\n",
    "    len2 = length_ll(ll2)\n",
    "\n",
    "    \n",
    "    times = abs(len1 - len2)\n",
    "    max_ll = ll1 if len1 > len2 else ll2\n",
    "    min_ll = ll1 if len1 < len2 else ll2\n",
    "\n",
    "    max_cur = max_ll.head\n",
    "    min_cur = min_ll.head\n",
    "\n",
    "    while times != 0:\n",
    "        max_cur = max_cur.right\n",
    "        times -= 1\n",
    "    \n",
    "    while max_cur and min_cur:\n",
    "        if max_cur == min_cur:\n",
    "            return max_cur\n",
    "        max_cur = max_cur.right\n",
    "        min_cur = min_cur.right\n",
    "    \n",
    "# testing\n",
    "ll1 = SinglyLinkedList([3, 6, 9, 15, 30])\n",
    "ll2 = SinglyLinkedList([10])\n",
    "point = ll1.find_node(15)\n",
    "ll2.head.right = point\n",
    "intersection_point(ll1, ll2)"
   ]
  },
  {
   "cell_type": "code",
   "execution_count": null,
   "metadata": {},
   "outputs": [],
   "source": []
  }
 ]
}