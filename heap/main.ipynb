{
 "metadata": {
  "language_info": {
   "codemirror_mode": {
    "name": "ipython",
    "version": 3
   },
   "file_extension": ".py",
   "mimetype": "text/x-python",
   "name": "python",
   "nbconvert_exporter": "python",
   "pygments_lexer": "ipython3",
   "version": "3.8.5-final"
  },
  "orig_nbformat": 2,
  "kernelspec": {
   "name": "python3",
   "display_name": "Python 3.8.5 32-bit",
   "metadata": {
    "interpreter": {
     "hash": "b3ddf538fb3a42f9fbfe7f11c6dede3ea7130c83f3ba063cba8ec84a42ce8ea2"
    }
   }
  }
 },
 "nbformat": 4,
 "nbformat_minor": 2,
 "cells": [
  {
   "source": [
    "# Heap"
   ],
   "cell_type": "markdown",
   "metadata": {}
  },
  {
   "source": [
    "## Implement a MaxHeap / MinHeap using arrays and recursion "
   ],
   "cell_type": "markdown",
   "metadata": {}
  },
  {
   "cell_type": "code",
   "execution_count": 23,
   "metadata": {},
   "outputs": [],
   "source": [
    "class Heap(object):\n",
    "    def __init__(self, items):\n",
    "        self.items = [None] + list(map(lambda item: item, items))\n",
    "    \n",
    "    def parent(self, index):\n",
    "        return index // 2\n",
    "    \n",
    "    def left(self, index):\n",
    "        return index * 2\n",
    "    \n",
    "    def right(self, index):\n",
    "        return index * 2 + 1\n",
    "    \n",
    "    def heapify(self, index):\n",
    "        largest = None\n",
    "        left = self.left(index)\n",
    "        right = self.right(index)\n",
    "        \n",
    "        if left > 0 and left < len(self.items):\n",
    "            if self.items[left] > self.items[index]:\n",
    "                largest = left\n",
    "            else:\n",
    "                largest = index\n",
    "        \n",
    "        if right > 0 and right < len(self.items):\n",
    "            if self.items[right] > self.items[largest]:\n",
    "                largest = right\n",
    "        \n",
    "        if largest != None and largest != index:\n",
    "            self.items[largest], self.items[index] = self.items[index], self.items[largest]\n",
    "            self.heapify(largest)\n",
    "    def build_max_heap(self):\n",
    "        for i in range((len(self.items) - 1) // 2, 0, -1):\n",
    "            self.heapify(i)"
   ]
  },
  {
   "cell_type": "code",
   "execution_count": 29,
   "metadata": {},
   "outputs": [
    {
     "output_type": "stream",
     "name": "stdout",
     "text": [
      "[None, 10, 8, 9, 7, 6, 1, 2, 3, 5, 4]\n"
     ]
    }
   ],
   "source": [
    "def test():\n",
    "    import random\n",
    "    items = [el for el in range(1, 11)]\n",
    "    random.shuffle(items)\n",
    "    heap = Heap(items)\n",
    "    heap.build_max_heap()\n",
    "    print(heap.items)\n",
    "test()"
   ]
  }
 ]
}