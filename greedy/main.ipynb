{
 "metadata": {
  "language_info": {
   "codemirror_mode": {
    "name": "ipython",
    "version": 3
   },
   "file_extension": ".py",
   "mimetype": "text/x-python",
   "name": "python",
   "nbconvert_exporter": "python",
   "pygments_lexer": "ipython3",
   "version": "3.8.5"
  },
  "orig_nbformat": 2,
  "kernelspec": {
   "name": "python3",
   "display_name": "Python 3.8.5 32-bit",
   "metadata": {
    "interpreter": {
     "hash": "b3ddf538fb3a42f9fbfe7f11c6dede3ea7130c83f3ba063cba8ec84a42ce8ea2"
    }
   }
  }
 },
 "nbformat": 4,
 "nbformat_minor": 2,
 "cells": [
  {
   "source": [
    "# Greedy"
   ],
   "cell_type": "markdown",
   "metadata": {}
  },
  {
   "cell_type": "code",
   "execution_count": 6,
   "metadata": {},
   "outputs": [],
   "source": [
    "## default impors\n",
    "import random\n",
    "from collections import deque\n",
    "import random\n",
    "import math\n",
    "from functools import reduce\n",
    "import heapq\n",
    "import datetime"
   ]
  },
  {
   "source": [
    "## Activity Selection Problem  "
   ],
   "cell_type": "markdown",
   "metadata": {}
  },
  {
   "cell_type": "code",
   "execution_count": 9,
   "metadata": {},
   "outputs": [],
   "source": [
    "from typing import List\n",
    "def activity_selection(start_times: List[int], end_times: List[int], duration: int) -> int:\n",
    "    jobs = list(zip(start_times, end_times))\n",
    "    jobs.sort(key=lambda el: el[1])\n",
    "    total_meetings = 0\n",
    "    prev_end_time = float('-inf')\n",
    "    for (start, end) in jobs:\n",
    "        if start > prev_end_time and end <= duration:\n",
    "            total_meetings += 1\n",
    "            prev_end_time = end\n",
    "    return total_meetings"
   ]
  },
  {
   "cell_type": "code",
   "execution_count": 12,
   "metadata": {},
   "outputs": [
    {
     "output_type": "stream",
     "name": "stdout",
     "text": [
      "All test cases passed\n"
     ]
    }
   ],
   "source": [
    "from nose.tools import assert_equal\n",
    "\n",
    "class Test(object):\n",
    "    def test(self, solution):\n",
    "        assert_equal(solution([1, 3, 0, 5, 8, 5], [2, 4, 6, 7, 9, 9], 8), 3)\n",
    "        print('All test cases passed')\n",
    "Test().test(activity_selection)"
   ]
  },
  {
   "source": [
    "## Job Sequencing Problem"
   ],
   "cell_type": "markdown",
   "metadata": {}
  },
  {
   "cell_type": "code",
   "execution_count": 9,
   "metadata": {},
   "outputs": [
    {
     "output_type": "execute_result",
     "data": {
      "text/plain": [
       "60"
      ]
     },
     "metadata": {},
     "execution_count": 9
    }
   ],
   "source": [
    "class Job(object):\n",
    "    def __init__(self, _id, deadline, profit):\n",
    "        self.id = _id\n",
    "        self.deadline = deadline\n",
    "        self.profit = profit\n",
    "    def __repr__(self):\n",
    "        return (f'profit: {self.profit}')\n",
    "\n",
    "def job_sequencing(jobs_tup):\n",
    "    jobs = [Job(job[0], job[1], job[2]) for job in jobs_tup]\n",
    "\n",
    "    jobs.sort(key=lambda job: job.profit, reverse=True)\n",
    "    gaant = [None] * max([job[1] for job in jobs_tup])\n",
    "\n",
    "    max_profit = 0\n",
    "    for job in jobs:\n",
    "        i = job.deadline - 1\n",
    "        while i >= 0 and gaant[i] == True:\n",
    "            i -= 1\n",
    "        if i >= 0:\n",
    "            gaant[i] = True\n",
    "            max_profit += job.profit\n",
    "    return max_profit\n",
    "\n",
    "# testing\n",
    "job_sequencing([('a', 4, 20), ('b', 1, 10), ('c', 1, 40), ('d', 1, 30)])"
   ]
  },
  {
   "source": [
    "## Huffman Tree coding"
   ],
   "cell_type": "markdown",
   "metadata": {}
  },
  {
   "cell_type": "code",
   "execution_count": 53,
   "metadata": {},
   "outputs": [
    {
     "output_type": "execute_result",
     "data": {
      "text/plain": [
       "{'f': '0', 'd': '1111', 'a': '1010', 'b': '1011', 'e': '110', 'c': '1110'}"
      ]
     },
     "metadata": {},
     "execution_count": 53
    }
   ],
   "source": [
    "class CharFreq(object):\n",
    "    def __init__(self, char, freq, left = None, right = None):\n",
    "        self.char = char\n",
    "        self.freq = freq\n",
    "        self.left = left\n",
    "        self.right = right\n",
    "    \n",
    "    def __lt__(self, other): return self.freq < other.freq\n",
    "    \n",
    "    def __repr__(self):\n",
    "        return f'char: {self.char}, freq: {self.freq}'\n",
    "\n",
    "def huffman_coding(chars_freq):\n",
    "    heap = [CharFreq(item[0], item[1]) for item in chars_freq]\n",
    "    heapq.heapify(heap)\n",
    "\n",
    "    root = None\n",
    "    while True:\n",
    "        left = heapq.heappop(heap)\n",
    "        if len(heap) == 0:\n",
    "            root = left\n",
    "            break\n",
    "        right = heapq.heappop(heap)\n",
    "        freq_node = CharFreq(None, left.freq + right.freq, left, right)\n",
    "        heapq.heappush(heap, freq_node)\n",
    "    return root\n",
    "\n",
    "# testing\n",
    "chars_freq = [('a', 5), ('b', 9), ('c', 12), ('d', 13), ('d', 13), ('e', 16), ('f', 45)]\n",
    "random.shuffle(chars_freq)\n",
    "root = huffman_coding(chars_freq)\n",
    "char_prefix = dict()\n",
    "\n",
    "def preorder_char(root, char_prefix, code):\n",
    "    if root == None:\n",
    "        return \n",
    "    if root.left == None and root.right == None:\n",
    "        char_prefix[root.char] = code\n",
    "    preorder_char(root.left, char_prefix, code+'0')\n",
    "    preorder_char(root.right, char_prefix, code+'1')\n",
    "\n",
    "preorder_char(root, char_prefix, '')\n",
    "char_prefix"
   ]
  },
  {
   "source": [
    "## Fractional Knapsack"
   ],
   "cell_type": "markdown",
   "metadata": {}
  },
  {
   "cell_type": "code",
   "execution_count": 58,
   "metadata": {},
   "outputs": [
    {
     "output_type": "execute_result",
     "data": {
      "text/plain": [
       "240.0"
      ]
     },
     "metadata": {},
     "execution_count": 58
    }
   ],
   "source": [
    "def fractional_knapsack(val_weight, weight):\n",
    "    items = [(item[0], item[1], item[0]/item[1]) for item in val_weight]\n",
    "    items.sort(key=lambda item: item[2], reverse=True)\n",
    "\n",
    "    cur_weight = 0\n",
    "    profit = 0\n",
    "    for item in items:\n",
    "        remaining = weight - cur_weight\n",
    "        if remaining > item[1]:\n",
    "            cur_weight += item[1]\n",
    "            profit += item[0]\n",
    "        else:\n",
    "            profit += item[2] * remaining\n",
    "            break\n",
    "    return profit\n",
    "\n",
    "# testing\n",
    "fractional_knapsack([(60, 10), (100, 20), (120, 30)], 50)"
   ]
  },
  {
   "source": [
    "## Permutation of a string"
   ],
   "cell_type": "markdown",
   "metadata": {}
  },
  {
   "cell_type": "code",
   "execution_count": 4,
   "metadata": {},
   "outputs": [
    {
     "output_type": "stream",
     "name": "stdout",
     "text": [
      "['abc', 'acb', 'bac', 'bca', 'cab', 'cba']\n"
     ]
    }
   ],
   "source": [
    "def permutation(remain, answer, current=''):\n",
    "    if remain == '':\n",
    "        answer.append(current)\n",
    "    for (i, char) in enumerate(remain):\n",
    "        permutation(remain[:i]+remain[i+1:], answer, current+char)\n",
    "\n",
    "# testing\n",
    "answer = []\n",
    "permutation('abc', answer)\n",
    "print(answer)"
   ]
  },
  {
   "source": [
    "## Maximum trains stoppage"
   ],
   "cell_type": "markdown",
   "metadata": {}
  },
  {
   "cell_type": "code",
   "execution_count": 16,
   "metadata": {},
   "outputs": [
    {
     "output_type": "execute_result",
     "data": {
      "text/plain": [
       "3"
      ]
     },
     "metadata": {},
     "execution_count": 16
    }
   ],
   "source": [
    "class Train(object):\n",
    "    def __init__(self, start, end, platform):\n",
    "        start = str(start)\n",
    "        end = str(end)\n",
    "        self.start = datetime.time(int(start[:2]), int(start[2:]))\n",
    "        self.end = datetime.time(int(end[:2]), int(end[2:]))\n",
    "        self.platform = platform\n",
    "\n",
    "def maximum_trains(trains_tup, num_plat):\n",
    "    trains = [Train(item[0], item[1], item[2]) for item in trains_tup]\n",
    "    trains.sort(key=lambda train: train.end)\n",
    "    occupied = [None] * (num_plat + 1)\n",
    "    count = 0\n",
    "    for train in trains:\n",
    "        if occupied[train.platform] == None:\n",
    "            occupied[train.platform] = train\n",
    "            count += 1\n",
    "        elif occupied[train.platform].end <= train.start:\n",
    "            occupied[train.platform] = train\n",
    "            count += 1\n",
    "    return count\n",
    "\n",
    "# testing\n",
    "maximum_trains([\n",
    "    (1000, 1030, 1),\n",
    "    (1010, 1020, 1),\n",
    "    (1025, 1040, 1),\n",
    "    (1130, 1145, 2),\n",
    "    (1130, 1140, 2)\n",
    "], 3)"
   ]
  },
  {
   "cell_type": "code",
   "execution_count": null,
   "metadata": {},
   "outputs": [],
   "source": []
  },
  {
   "cell_type": "code",
   "execution_count": null,
   "metadata": {},
   "outputs": [],
   "source": []
  }
 ]
}