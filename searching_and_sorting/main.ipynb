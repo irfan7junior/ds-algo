{
 "metadata": {
  "language_info": {
   "codemirror_mode": {
    "name": "ipython",
    "version": 3
   },
   "file_extension": ".py",
   "mimetype": "text/x-python",
   "name": "python",
   "nbconvert_exporter": "python",
   "pygments_lexer": "ipython3",
   "version": "3.8.5-final"
  },
  "orig_nbformat": 2,
  "kernelspec": {
   "name": "python3",
   "display_name": "Python 3.8.5 32-bit",
   "metadata": {
    "interpreter": {
     "hash": "b3ddf538fb3a42f9fbfe7f11c6dede3ea7130c83f3ba063cba8ec84a42ce8ea2"
    }
   }
  }
 },
 "nbformat": 4,
 "nbformat_minor": 2,
 "cells": [
  {
   "source": [
    "## Searching and Sorting"
   ],
   "cell_type": "markdown",
   "metadata": {}
  },
  {
   "source": [
    "## First and Last Occurence of X"
   ],
   "cell_type": "markdown",
   "metadata": {}
  },
  {
   "cell_type": "code",
   "execution_count": 1,
   "metadata": {},
   "outputs": [],
   "source": [
    "from typing import List\n",
    "\n",
    "def first_last_occur(items: List[int], value: int) -> (int, int):\n",
    "    index = binary_search(items, value)\n",
    "    if index == -1:\n",
    "        return (None, None)\n",
    "    left_index = None\n",
    "    right_index = None\n",
    "    \n",
    "    cur = index\n",
    "    while cur >= 0 and items[cur] == value:\n",
    "        cur -= 1\n",
    "    left_index = cur + 1\n",
    "\n",
    "    cur = index\n",
    "    while cur < len(items) and items[cur] == value:\n",
    "        cur += 1\n",
    "    right_index = cur - 1\n",
    "    return (left_index, right_index)\n",
    "\n",
    "def binary_search(items: List[int], value: int) -> int:\n",
    "    left = 0\n",
    "    right = len(items) - 1\n",
    "    while left <= right:\n",
    "        mid = (left + right) // 2\n",
    "        if items[mid] == value:\n",
    "            return mid\n",
    "        elif items[mid] >= value:\n",
    "            right = mid - 1\n",
    "        else:\n",
    "            left = mid + 1\n",
    "    return -1"
   ]
  },
  {
   "cell_type": "code",
   "execution_count": 3,
   "metadata": {},
   "outputs": [
    {
     "output_type": "stream",
     "name": "stdout",
     "text": [
      "All test cases passed\n"
     ]
    }
   ],
   "source": [
    "from nose.tools import assert_equal\n",
    "\n",
    "class Test(object):\n",
    "    def test(self, solution):\n",
    "        assert_equal(solution([1, 2, 2, 2, 8, 8, 9, 10], 2), (1, 3))\n",
    "        print('All test cases passed')\n",
    "Test().test(first_last_occur)"
   ]
  },
  {
   "cell_type": "code",
   "execution_count": null,
   "metadata": {},
   "outputs": [],
   "source": []
  }
 ]
}