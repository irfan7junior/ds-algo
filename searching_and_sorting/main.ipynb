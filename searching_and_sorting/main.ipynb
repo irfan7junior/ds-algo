{
 "metadata": {
  "language_info": {
   "codemirror_mode": {
    "name": "ipython",
    "version": 3
   },
   "file_extension": ".py",
   "mimetype": "text/x-python",
   "name": "python",
   "nbconvert_exporter": "python",
   "pygments_lexer": "ipython3",
   "version": "3.8.5-final"
  },
  "orig_nbformat": 2,
  "kernelspec": {
   "name": "python3",
   "display_name": "Python 3.8.5 32-bit",
   "metadata": {
    "interpreter": {
     "hash": "b3ddf538fb3a42f9fbfe7f11c6dede3ea7130c83f3ba063cba8ec84a42ce8ea2"
    }
   }
  }
 },
 "nbformat": 4,
 "nbformat_minor": 2,
 "cells": [
  {
   "source": [
    "## Searching and Sorting"
   ],
   "cell_type": "markdown",
   "metadata": {}
  },
  {
   "source": [
    "## First and Last Occurence of X"
   ],
   "cell_type": "markdown",
   "metadata": {}
  },
  {
   "cell_type": "code",
   "execution_count": 1,
   "metadata": {},
   "outputs": [],
   "source": [
    "from typing import List\n",
    "\n",
    "def first_last_occur(items: List[int], value: int) -> (int, int):\n",
    "    index = binary_search(items, value)\n",
    "    if index == -1:\n",
    "        return (None, None)\n",
    "    left_index = None\n",
    "    right_index = None\n",
    "    \n",
    "    cur = index\n",
    "    while cur >= 0 and items[cur] == value:\n",
    "        cur -= 1\n",
    "    left_index = cur + 1\n",
    "\n",
    "    cur = index\n",
    "    while cur < len(items) and items[cur] == value:\n",
    "        cur += 1\n",
    "    right_index = cur - 1\n",
    "    return (left_index, right_index)\n",
    "\n",
    "def binary_search(items: List[int], value: int) -> int:\n",
    "    left = 0\n",
    "    right = len(items) - 1\n",
    "    while left <= right:\n",
    "        mid = (left + right) // 2\n",
    "        if items[mid] == value:\n",
    "            return mid\n",
    "        elif items[mid] >= value:\n",
    "            right = mid - 1\n",
    "        else:\n",
    "            left = mid + 1\n",
    "    return -1"
   ]
  },
  {
   "cell_type": "code",
   "execution_count": 3,
   "metadata": {},
   "outputs": [
    {
     "output_type": "stream",
     "name": "stdout",
     "text": [
      "All test cases passed\n"
     ]
    }
   ],
   "source": [
    "from nose.tools import assert_equal\n",
    "\n",
    "class Test(object):\n",
    "    def test(self, solution):\n",
    "        assert_equal(solution([1, 2, 2, 2, 8, 8, 9, 10], 2), (1, 3))\n",
    "        print('All test cases passed')\n",
    "Test().test(first_last_occur)"
   ]
  },
  {
   "source": [
    "## Find a fixed point (value equal to index) in a given array"
   ],
   "cell_type": "markdown",
   "metadata": {}
  },
  {
   "cell_type": "code",
   "execution_count": 4,
   "metadata": {},
   "outputs": [
    {
     "output_type": "execute_result",
     "data": {
      "text/plain": [
       "2"
      ]
     },
     "metadata": {},
     "execution_count": 4
    }
   ],
   "source": [
    "def fixed_point(nums):\n",
    "    for (i, num) in enumerate(nums):\n",
    "        if i + 1 == num:\n",
    "            return num\n",
    "\n",
    "# testing\n",
    "fixed_point([15, 2, 45, 12, 7])"
   ]
  },
  {
   "source": [
    "## Search in a rotated sorted array"
   ],
   "cell_type": "markdown",
   "metadata": {}
  },
  {
   "cell_type": "code",
   "execution_count": 11,
   "metadata": {},
   "outputs": [
    {
     "output_type": "execute_result",
     "data": {
      "text/plain": [
       "4"
      ]
     },
     "metadata": {},
     "execution_count": 11
    }
   ],
   "source": [
    "def search_rot(nums, target):\n",
    "    left = 0\n",
    "    right = len(nums) - 1\n",
    "\n",
    "    while left <= right:\n",
    "        mid = (left + right) // 2\n",
    "        if nums[mid] == target:\n",
    "            return mid\n",
    "        \n",
    "        # check if you're at the left sorted array\n",
    "        if nums[left] <= nums[mid]:\n",
    "            if target > nums[mid] or target < nums[left]:\n",
    "                left = mid + 1\n",
    "            else:\n",
    "                right = mid - 1\n",
    "\n",
    "        # you're at the right sorted array\n",
    "        else:\n",
    "            if target < nums[mid] or target > nums[right]:\n",
    "                right = mid - 1\n",
    "            else:\n",
    "                left = mid + 1\n",
    "    \n",
    "    return -1\n",
    "\n",
    "# testing\n",
    "search_rot([4, 5, 6, 7, 0, 1, 2], 0)"
   ]
  },
  {
   "source": [
    "## Total count of numbers whose squares is less than the given number"
   ],
   "cell_type": "markdown",
   "metadata": {}
  },
  {
   "cell_type": "code",
   "execution_count": 34,
   "metadata": {},
   "outputs": [
    {
     "output_type": "execute_result",
     "data": {
      "text/plain": [
       "5"
      ]
     },
     "metadata": {},
     "execution_count": 34
    }
   ],
   "source": [
    "def square_root_less(num):\n",
    "    left = 0\n",
    "    right = num\n",
    "    answer = None\n",
    "\n",
    "    if num == 0 or num == 1:\n",
    "        return num\n",
    "\n",
    "    while left <= right:\n",
    "        mid = (left + right) // 2\n",
    "        cur = mid * mid\n",
    "        if cur == num:\n",
    "            return mid\n",
    "        \n",
    "        if cur < num:\n",
    "            left = mid + 1\n",
    "            answer = mid\n",
    "\n",
    "        else:\n",
    "            right = mid - 1\n",
    "\n",
    "    return answer\n",
    "\n",
    "# testing\n",
    "square_root_less(30)"
   ]
  },
  {
   "source": [
    "## Max and Min in an array with Min comparisions"
   ],
   "cell_type": "markdown",
   "metadata": {}
  },
  {
   "cell_type": "code",
   "execution_count": 39,
   "metadata": {},
   "outputs": [
    {
     "output_type": "execute_result",
     "data": {
      "text/plain": [
       "(1, 3000)"
      ]
     },
     "metadata": {},
     "execution_count": 39
    }
   ],
   "source": [
    "def max_min_comp(nums):\n",
    "    size = len(nums)\n",
    "\n",
    "    max_el = min_el = None\n",
    "    start = None\n",
    "\n",
    "    if size % 2 == 0:\n",
    "        start = 2\n",
    "        if nums[0] > nums[1]:\n",
    "            max_el = nums[0]\n",
    "            min_el = nums[1]\n",
    "        else:\n",
    "            max_el = num[1]\n",
    "            min_el = nums[0]\n",
    "    else:\n",
    "        start = 1\n",
    "        max_el = min_el = nums[0]\n",
    "    \n",
    "    for i in range(start, size - 1, 2):\n",
    "        if nums[i] > nums[i+1]:\n",
    "            max_el = max(max_el, nums[i])\n",
    "            min_el = min(min_el, nums[i+1])\n",
    "        else:\n",
    "            min_el = min(nums[i], min_el)\n",
    "            max_el = max(nums[i+1], max_el)\n",
    "    return (min_el, max_el)\n",
    "\n",
    "# testing\n",
    "max_min_comp([1000, 11, 445, 1, 330, 3000])"
   ]
  },
  {
   "source": [
    "## Optimum location of point to minimize total distance"
   ],
   "cell_type": "markdown",
   "metadata": {}
  },
  {
   "cell_type": "code",
   "execution_count": 60,
   "metadata": {},
   "outputs": [
    {
     "output_type": "execute_result",
     "data": {
      "text/plain": [
       "20.765235034641623"
      ]
     },
     "metadata": {},
     "execution_count": 60
    }
   ],
   "source": [
    "import math\n",
    "from typing import List\n",
    "\n",
    "class Point(object):\n",
    "    def __init__(self, x, y):\n",
    "        self.x = x\n",
    "        self.y = y\n",
    "    \n",
    "    def __repr__(self):\n",
    "        return f'x: {self.x}, y: {self.y}'\n",
    "\n",
    "class Line(object):\n",
    "    def __init__(self, a, b, c):\n",
    "        self.a = a\n",
    "        self.b = b\n",
    "        self.c = c\n",
    "    \n",
    "    def __repr__(self):\n",
    "        return f'{self.a}x + {self.b}y + {self.c} = 0'\n",
    "\n",
    "def calc_dist(x, y, point: Point):\n",
    "    return math.sqrt((x - point.x)**2 + (y - point.y)**2)\n",
    "\n",
    "def compute(points: List[Point], line: Line, X):\n",
    "    result = 0\n",
    "    Y = -1 * (line.c + line.a * X) / line.b\n",
    "    for point in points:\n",
    "        result += calc_dist(X, Y, point)\n",
    "    \n",
    "    return result\n",
    "\n",
    "def find_optimal_cost_util(points: List[Point], line: Line):\n",
    "    low = -10**6\n",
    "    high = 10**6\n",
    "\n",
    "    EPS = 10**(-6)\n",
    "\n",
    "    while (high - low) > EPS:\n",
    "        mid1 = low + (high - low) / 3\n",
    "        mid2 = high - (high - low) / 3\n",
    "\n",
    "        dist1 = compute(points, line, mid1)\n",
    "        dist2 = compute(points, line, mid2)\n",
    "\n",
    "        if (dist1 < dist2):\n",
    "            high = mid2\n",
    "        else:\n",
    "            low = mid1\n",
    "        \n",
    "    return compute(points, line, (low + high) / 2)\n",
    "\n",
    "def find_optimal_cost(points_, line: Line):\n",
    "    points = [Point(point[0], point[1]) for point in points_]\n",
    "    return find_optimal_cost_util(points, line)\n",
    "\n",
    "# testing\n",
    "find_optimal_cost([(-3, -2), (-1, 0), (-1, 2), (1, 2), (3, 4)], Line(1, -1, -3))"
   ]
  },
  {
   "source": [
    "## Find the repeating and the missing"
   ],
   "cell_type": "markdown",
   "metadata": {}
  },
  {
   "cell_type": "code",
   "execution_count": 67,
   "metadata": {},
   "outputs": [
    {
     "output_type": "execute_result",
     "data": {
      "text/plain": [
       "(3, 2)"
      ]
     },
     "metadata": {},
     "execution_count": 67
    }
   ],
   "source": [
    "def repeat_missing(nums):\n",
    "    visited = [-1] * (len(nums) + 1)\n",
    "\n",
    "    already = None\n",
    "    missing = None\n",
    "    for num in nums:\n",
    "        if visited[num] != -1:\n",
    "            already = num\n",
    "        else:\n",
    "            visited[num] = 1\n",
    "    \n",
    "    for i in range(1, len(visited)):\n",
    "        if visited[i] == -1:\n",
    "            missing = i\n",
    "            break\n",
    "    \n",
    "    return (missing, already)\n",
    "\n",
    "# testing\n",
    "repeat_missing([1, 2, 2])"
   ]
  },
  {
   "source": [
    "## Find majority Element"
   ],
   "cell_type": "markdown",
   "metadata": {}
  },
  {
   "cell_type": "code",
   "execution_count": 70,
   "metadata": {},
   "outputs": [
    {
     "output_type": "execute_result",
     "data": {
      "text/plain": [
       "1"
      ]
     },
     "metadata": {},
     "execution_count": 70
    }
   ],
   "source": [
    "from collections import defaultdict\n",
    "\n",
    "def majority_el(nums):\n",
    "    size = len(nums)\n",
    "\n",
    "    hash_map = defaultdict(lambda: 0)\n",
    "    result = None\n",
    "    for num in nums:\n",
    "        hash_map[num] += 1\n",
    "        if hash_map[num] > size / 2:\n",
    "            result = num\n",
    "    return result\n",
    "\n",
    "# testing\n",
    "majority_el([1, 1, 2, 1, 3, 5, 1])"
   ]
  },
  {
   "source": [
    "## Serching array adjacent differ k"
   ],
   "cell_type": "markdown",
   "metadata": {}
  },
  {
   "cell_type": "code",
   "execution_count": 75,
   "metadata": {},
   "outputs": [
    {
     "output_type": "execute_result",
     "data": {
      "text/plain": [
       "3"
      ]
     },
     "metadata": {},
     "execution_count": 75
    }
   ],
   "source": [
    "def searching_diff_k(nums, k, target):\n",
    "    i = 0\n",
    "    while i < len(nums):\n",
    "        if nums[i] == target:\n",
    "            return i\n",
    "        \n",
    "        next_pos = abs(target - nums[i]) // k\n",
    "        i = i + max(1, next_pos)\n",
    "    return -1\n",
    "\n",
    "# testing\n",
    "searching_diff_k([2, 4, 5, 7, 7, 6], 2, 7)"
   ]
  },
  {
   "source": [
    "## Find a pair with a given difference"
   ],
   "cell_type": "markdown",
   "metadata": {}
  },
  {
   "cell_type": "code",
   "execution_count": 79,
   "metadata": {},
   "outputs": [
    {
     "output_type": "execute_result",
     "data": {
      "text/plain": [
       "(80, 2)"
      ]
     },
     "metadata": {},
     "execution_count": 79
    }
   ],
   "source": [
    "def pair_diff(nums, diff):\n",
    "    nums.sort()\n",
    "    left = 0\n",
    "    right = len(nums) - 1\n",
    "    while left < right:\n",
    "        cur_diff = nums[right] - nums[left]\n",
    "        if cur_diff == diff:\n",
    "            return (nums[right], nums[left])\n",
    "        elif cur_diff < diff:\n",
    "            left += 1\n",
    "        else:\n",
    "            right -= 1\n",
    "    return None\n",
    "\n",
    "# testing\n",
    "pair_diff([5, 20, 3, 2, 5, 80], 78)"
   ]
  },
  {
   "source": [
    "## Find four elements that sum to a given value"
   ],
   "cell_type": "markdown",
   "metadata": {}
  },
  {
   "cell_type": "code",
   "execution_count": 82,
   "metadata": {},
   "outputs": [
    {
     "output_type": "execute_result",
     "data": {
      "text/plain": [
       "(2, 3, 8, 10)"
      ]
     },
     "metadata": {},
     "execution_count": 82
    }
   ],
   "source": [
    "def find_four(nums, target):\n",
    "    nums.sort()\n",
    "    for i in range(len(nums) - 3):\n",
    "        for j in range(i + 1, len(nums) - 2):\n",
    "            remaining = target - nums[i] - nums[j]\n",
    "            left = j + 1\n",
    "            right = len(nums) - 1\n",
    "            while left < right:\n",
    "                cur = nums[left] + nums[right]\n",
    "                if cur == remaining:\n",
    "                    return (nums[i], nums[j], nums[left], nums[right])\n",
    "                if cur < remaining:\n",
    "                    left += 1\n",
    "                elif cur > remaining:\n",
    "                    right -= 1\n",
    "    return None\n",
    "\n",
    "# testing\n",
    "find_four([10, 2, 3, 4, 5, 9, 7, 8], 23)"
   ]
  },
  {
   "source": [
    "## Max sum such that no two elements are adjacent"
   ],
   "cell_type": "markdown",
   "metadata": {}
  },
  {
   "cell_type": "code",
   "execution_count": 1,
   "metadata": {},
   "outputs": [
    {
     "output_type": "execute_result",
     "data": {
      "text/plain": [
       "80"
      ]
     },
     "metadata": {},
     "execution_count": 1
    }
   ],
   "source": [
    "def no_adjacent(nums):\n",
    "    including = nums[0]\n",
    "    excluding = 0\n",
    "    for num in nums[1:]:\n",
    "        including, excluding = (excluding + num), max(including, excluding)\n",
    "    return max(including, excluding)\n",
    "\n",
    "# testing\n",
    "no_adjacent([5, 5, 10, 40, 50, 35])"
   ]
  },
  {
   "source": [
    "## Count triplets smaller than X"
   ],
   "cell_type": "markdown",
   "metadata": {}
  },
  {
   "cell_type": "code",
   "execution_count": 10,
   "metadata": {},
   "outputs": [
    {
     "output_type": "execute_result",
     "data": {
      "text/plain": [
       "4"
      ]
     },
     "metadata": {},
     "execution_count": 10
    }
   ],
   "source": [
    "def count_small_triplets(nums, X):\n",
    "    nums.sort()\n",
    "    count = 0\n",
    "    for i in range(len(nums) - 2):\n",
    "        left = i + 1\n",
    "        right = len(nums) - 1\n",
    "        while left < right:\n",
    "            cur = nums[i] + nums[left] + nums[right]\n",
    "            if cur < X:\n",
    "                t_right = right\n",
    "                while t_right > left and nums[i] + nums[left] + nums[t_right] < X:\n",
    "                    count += 1\n",
    "                    t_right -= 1\n",
    "                left += 1\n",
    "            elif cur >= X:\n",
    "                right -= 1\n",
    "    return count\n",
    "\n",
    "# testing\n",
    "count_small_triplets([5, 1, 3, 4, 7], 12)"
   ]
  },
  {
   "source": [
    "## Merge without extra space"
   ],
   "cell_type": "markdown",
   "metadata": {}
  },
  {
   "cell_type": "code",
   "execution_count": 17,
   "metadata": {},
   "outputs": [
    {
     "output_type": "stream",
     "name": "stdout",
     "text": [
      "[0, 1, 2, 3, 6, 6, 8, 8, 9]\n"
     ]
    }
   ],
   "source": [
    "def merge_wo_space(array1, array2):\n",
    "    i = len(array1) - 1\n",
    "    j = 0\n",
    "\n",
    "    while i >= 0 and j < len(array2):\n",
    "        if array1[i] >= array2[j]:\n",
    "            array1[i], array2[j] = array2[j], array2[i]\n",
    "            i -= 1\n",
    "            j += 1\n",
    "        else:\n",
    "            break\n",
    "\n",
    "    array1.sort()\n",
    "    array2.sort()\n",
    "\n",
    "    print(array1 + array2)\n",
    "\n",
    "# testing\n",
    "merge_wo_space([1, 3, 5, 7], [0, 2, 6, 8, 9])"
   ]
  },
  {
   "source": [
    "## Print all subarrays with 0 sum"
   ],
   "cell_type": "markdown",
   "metadata": {}
  },
  {
   "cell_type": "code",
   "execution_count": 21,
   "metadata": {},
   "outputs": [
    {
     "output_type": "execute_result",
     "data": {
      "text/plain": [
       "[(2, 4), (2, 6), (5, 6)]"
      ]
     },
     "metadata": {},
     "execution_count": 21
    }
   ],
   "source": [
    "def subarrays_zero(nums):\n",
    "    hash_map = dict()\n",
    "    cur_sum = 0\n",
    "    results = []\n",
    "    for (i, num) in enumerate(nums):\n",
    "        cur_sum += num\n",
    "        if cur_sum in hash_map:\n",
    "            for index in hash_map[cur_sum]:\n",
    "                results.append((index + 1, i))\n",
    "            hash_map[cur_sum].append(i)\n",
    "        else:\n",
    "            hash_map[cur_sum] = [i]\n",
    "        \n",
    "    return results\n",
    "\n",
    "# testing\n",
    "subarrays_zero([6, 3, -1, -3, 4, -2, 2])"
   ]
  },
  {
   "source": [
    "## Sort array according to count of set bits"
   ],
   "cell_type": "markdown",
   "metadata": {}
  },
  {
   "cell_type": "code",
   "execution_count": 43,
   "metadata": {},
   "outputs": [
    {
     "output_type": "execute_result",
     "data": {
      "text/plain": [
       "[3, 5, 6, 1, 2, 4]"
      ]
     },
     "metadata": {},
     "execution_count": 43
    }
   ],
   "source": [
    "def count_bits(num):\n",
    "    count = 0\n",
    "    while num:\n",
    "        if num & 1:\n",
    "            count += 1\n",
    "        num = num >> 1\n",
    "    return count\n",
    "\n",
    "def sort_bits(nums):\n",
    "    nums.sort(key= lambda num: count_bits(num), reverse=True)\n",
    "    return nums\n",
    "\n",
    "# testing\n",
    "sort_bits([1, 2, 3, 4, 5, 6])"
   ]
  },
  {
   "source": [
    "## Product array puzzle"
   ],
   "cell_type": "markdown",
   "metadata": {}
  },
  {
   "cell_type": "code",
   "execution_count": 59,
   "metadata": {},
   "outputs": [
    {
     "output_type": "execute_result",
     "data": {
      "text/plain": [
       "[180, 600, 360, 300, 900]"
      ]
     },
     "metadata": {},
     "execution_count": 59
    }
   ],
   "source": [
    "import math\n",
    "def product_puzzle(nums):\n",
    "    total = 0\n",
    "    for num in nums:\n",
    "        total += math.log2(num)\n",
    "    \n",
    "    for (i, num) in enumerate(nums):\n",
    "        nums[i] = round(2**(total - math.log2(num)))\n",
    "    return nums\n",
    "\n",
    "# testing\n",
    "product_puzzle([10, 3, 5, 6, 2])"
   ]
  },
  {
   "source": [
    "## Minimum Swaps to sort"
   ],
   "cell_type": "markdown",
   "metadata": {}
  },
  {
   "cell_type": "code",
   "execution_count": 76,
   "metadata": {},
   "outputs": [
    {
     "output_type": "execute_result",
     "data": {
      "text/plain": [
       "5"
      ]
     },
     "metadata": {},
     "execution_count": 76
    }
   ],
   "source": [
    "def min_swaps(nums):\n",
    "    sorted_nums = sorted(nums)\n",
    "    hash_map = dict()\n",
    "\n",
    "    for (i, num) in enumerate(nums):\n",
    "        hash_map[num] = i\n",
    "\n",
    "    count = 0\n",
    "    for i in range(len(nums)):\n",
    "        s_num = sorted_nums[i]\n",
    "        o_num = nums[i]\n",
    "\n",
    "        if s_num == o_num:\n",
    "            continue\n",
    "\n",
    "        count += 1\n",
    "        pos = hash_map[s_num]\n",
    "        nums[i], nums[pos] = nums[pos], nums[i]\n",
    "        hash_map[o_num] = pos\n",
    "        hash_map[s_num] = i\n",
    "\n",
    "    return count\n",
    "\n",
    "# testing\n",
    "min_swaps([101, 758, 315, 730, 472, 619, 460, 479])"
   ]
  },
  {
   "source": [
    "## Bishu and Soldiers"
   ],
   "cell_type": "markdown",
   "metadata": {}
  },
  {
   "cell_type": "code",
   "execution_count": 97,
   "metadata": {},
   "outputs": [
    {
     "output_type": "execute_result",
     "data": {
      "text/plain": [
       "6"
      ]
     },
     "metadata": {},
     "execution_count": 97
    }
   ],
   "source": [
    "from bisect import bisect\n",
    "from functools import reduce\n",
    "\n",
    "def bishu_soldiers(powers, X):\n",
    "    return reduce(lambda prev, cur: prev + cur, powers[: bisect(powers, X)] , 0)\n",
    "\n",
    "# testing\n",
    "bishu_soldiers([1, 2, 3, 4, 5, 6, 7], 3)"
   ]
  },
  {
   "source": [
    "## Weighted Job Scheduling"
   ],
   "cell_type": "markdown",
   "metadata": {}
  },
  {
   "cell_type": "code",
   "execution_count": 103,
   "metadata": {},
   "outputs": [
    {
     "output_type": "execute_result",
     "data": {
      "text/plain": [
       "250"
      ]
     },
     "metadata": {},
     "execution_count": 103
    }
   ],
   "source": [
    "def find_non_conflict(jobs, i):\n",
    "    j = i - 1\n",
    "    while j >= 0:\n",
    "        if jobs[j][1] <= jobs[i][0]:\n",
    "            return j\n",
    "        j -= 1\n",
    "    return j\n",
    "\n",
    "def weighted_job(jobs):\n",
    "    jobs.sort(key=lambda job: job[1])\n",
    "\n",
    "    max_profit = [0] * len(jobs)\n",
    "    max_profit[0] = jobs[0][2]\n",
    "\n",
    "    for i in range(1, len(jobs)):\n",
    "        inclusive = jobs[i][2]\n",
    "\n",
    "        index = find_non_conflict(jobs, i)\n",
    "        if (index != -1):\n",
    "            inclusive += max_profit[index]\n",
    "        \n",
    "        max_profit[i] = max(inclusive, max_profit[i-1])\n",
    "\n",
    "    return max_profit[-1]\n",
    "\n",
    "# testing\n",
    "weighted_job([(1, 2, 50), (2, 100, 200), (3, 5, 20), (6, 19, 100)])"
   ]
  },
  {
   "source": [
    "## Find pivot element in sorted rotated array"
   ],
   "cell_type": "markdown",
   "metadata": {}
  },
  {
   "cell_type": "code",
   "execution_count": 108,
   "metadata": {},
   "outputs": [
    {
     "output_type": "execute_result",
     "data": {
      "text/plain": [
       "2"
      ]
     },
     "metadata": {},
     "execution_count": 108
    }
   ],
   "source": [
    "def find_pivot(nums):\n",
    "    if nums[0] < nums[-1]:\n",
    "        return 0\n",
    "    \n",
    "    left = 0\n",
    "    right = len(nums) - 1\n",
    "    while left <= right:\n",
    "        mid = (left + right) // 2\n",
    "\n",
    "        if nums[mid] > nums[mid + 1]:\n",
    "            return mid\n",
    "        \n",
    "        elif nums[left] <= nums[mid]:\n",
    "            left = mid + 1\n",
    "        else:\n",
    "            right = mid - 1\n",
    "    return -1\n",
    "\n",
    "# testing\n",
    "find_pivot([73, 85, 94, 21, 27, 34, 47, 54, 66])"
   ]
  },
  {
   "source": [
    "## Find the inversion count"
   ],
   "cell_type": "markdown",
   "metadata": {}
  },
  {
   "cell_type": "code",
   "execution_count": 133,
   "metadata": {},
   "outputs": [
    {
     "output_type": "execute_result",
     "data": {
      "text/plain": [
       "6"
      ]
     },
     "metadata": {},
     "execution_count": 133
    }
   ],
   "source": [
    "def inversion_count(nums, left, right):\n",
    "    count = 0\n",
    "    if left >= right:\n",
    "        return count\n",
    "    mid = (left + right) // 2\n",
    "    count += inversion_count(nums, left, mid)\n",
    "    count += inversion_count(nums, mid + 1, right)\n",
    "    count += merge_count(nums, left, mid, right)\n",
    "    return count\n",
    "\n",
    "def merge_count(nums, left, mid, right):\n",
    "    l_array = [num for num in nums[left: mid + 1]]\n",
    "    r_array = [num for num in nums[mid + 1: right + 1]]\n",
    "\n",
    "    i = 0\n",
    "    j = 0\n",
    "    k = left\n",
    "    count = 0\n",
    "    while i < len(l_array) and j < len(r_array):\n",
    "        if l_array[i] <= r_array[j]:\n",
    "            nums[k] = l_array[i]\n",
    "            i += 1\n",
    "            k += 1\n",
    "        else:\n",
    "            nums[k] = r_array[j]\n",
    "            j += 1\n",
    "            k += 1\n",
    "            count += (mid + 1) - (left + i)\n",
    "    while i < len(l_array):\n",
    "        nums[k] = l_array[i]\n",
    "        i += 1\n",
    "        k += 1\n",
    "\n",
    "    while j < len(r_array):\n",
    "        nums[k] = r_array[j]\n",
    "        j += 1\n",
    "        k += 1\n",
    "    return count\n",
    "\n",
    "# testing\n",
    "inversion_count([8, 4, 2, 1], 0, 3)"
   ]
  },
  {
   "source": [
    "## Implementation of merge sort in-place"
   ],
   "cell_type": "markdown",
   "metadata": {}
  },
  {
   "cell_type": "code",
   "execution_count": 4,
   "metadata": {},
   "outputs": [
    {
     "output_type": "stream",
     "name": "stdout",
     "text": [
      "[1, 2, 5, 6, 7, 9]\n"
     ]
    }
   ],
   "source": [
    "def rotate_right(nums, start, end):\n",
    "    element = nums[end]\n",
    "    for i in range(end, start, -1):\n",
    "        nums[i] = nums[i-1]\n",
    "    nums[start] = element\n",
    "\n",
    "def merge_sort_inplace(nums, start, end):\n",
    "    if start >= end:\n",
    "        return\n",
    "    mid = start + (end - start) // 2\n",
    "    merge_sort_inplace(nums, start, mid)\n",
    "    merge_sort_inplace(nums, mid + 1, end)\n",
    "    merge_inplace(nums, start, mid, end)\n",
    "\n",
    "def merge_inplace(nums, start, mid, end):\n",
    "    i = start\n",
    "    j = mid + 1\n",
    "\n",
    "    while i <= mid and j <= end:\n",
    "        if nums[i] <= nums[j]:\n",
    "            i += 1\n",
    "        else:\n",
    "            rotate_right(nums, i, j)\n",
    "            i += 1\n",
    "            j += 1\n",
    "            mid += 1\n",
    "\n",
    "# testing\n",
    "array = [1, 9, 7, 6, 2, 5]\n",
    "merge_sort_inplace(array, 0, len(array) - 1)\n",
    "print(array)"
   ]
  },
  {
   "cell_type": "code",
   "execution_count": null,
   "metadata": {},
   "outputs": [],
   "source": []
  }
 ]
}