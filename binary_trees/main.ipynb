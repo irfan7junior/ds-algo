{
 "metadata": {
  "language_info": {
   "codemirror_mode": {
    "name": "ipython",
    "version": 3
   },
   "file_extension": ".py",
   "mimetype": "text/x-python",
   "name": "python",
   "nbconvert_exporter": "python",
   "pygments_lexer": "ipython3",
   "version": "3.8.5-final"
  },
  "orig_nbformat": 2,
  "kernelspec": {
   "name": "python3",
   "display_name": "Python 3.8.5 32-bit",
   "metadata": {
    "interpreter": {
     "hash": "b3ddf538fb3a42f9fbfe7f11c6dede3ea7130c83f3ba063cba8ec84a42ce8ea2"
    }
   }
  }
 },
 "nbformat": 4,
 "nbformat_minor": 2,
 "cells": [
  {
   "source": [
    "# Binary Tree"
   ],
   "cell_type": "markdown",
   "metadata": {}
  },
  {
   "source": [
    "## Level Order Traversal"
   ],
   "cell_type": "markdown",
   "metadata": {}
  },
  {
   "cell_type": "code",
   "execution_count": 27,
   "metadata": {},
   "outputs": [],
   "source": [
    "from random import random\n",
    "from typing import List\n",
    "\n",
    "class BinaryTreeNode(object):\n",
    "    def __init__(self, value, left = None, right = None) -> None:\n",
    "        self.value = value\n",
    "        if isinstance(left, BinaryTreeNode) or left == None:\n",
    "            self.left = left\n",
    "        if isinstance(right, BinaryTreeNode) or right == None:\n",
    "            self.right = right\n",
    "\n",
    "class BinaryTree(object):\n",
    "    def __init__(self, items = None):\n",
    "        self.head = None\n",
    "        if items != None:\n",
    "            self.insert_many(items)\n",
    "    \n",
    "    def insert(self, value):\n",
    "        new_node = BinaryTreeNode(value)\n",
    "        if self.head == None:\n",
    "            self.head = new_node\n",
    "            return\n",
    "        cur = self.head\n",
    "        parent = None\n",
    "        while cur != None:\n",
    "            parent = cur\n",
    "            if random() < 0.5:\n",
    "                cur = cur.left\n",
    "            else:\n",
    "                cur = cur.right\n",
    "        if parent.right == None:\n",
    "            parent.right = new_node\n",
    "        else:\n",
    "            parent.left = new_node\n",
    "\n",
    "    def insert_many(self, items: List[int]):\n",
    "        for item in items:\n",
    "            self.insert(item)\n",
    "    \n",
    "    @staticmethod\n",
    "    def display_tree(node, level = 0):\n",
    "        if node is not None:\n",
    "            BinaryTree.display_tree(node.left, level + 1)\n",
    "            print(' ' * 4 * level + '->', node.value)\n",
    "            BinaryTree.display_tree(node.right, level + 1)"
   ]
  },
  {
   "source": [
    "## Level Order Traversal"
   ],
   "cell_type": "markdown",
   "metadata": {}
  },
  {
   "cell_type": "code",
   "execution_count": 28,
   "metadata": {},
   "outputs": [
    {
     "output_type": "stream",
     "name": "stdout",
     "text": [
      "    -> 4\n        -> 5\n            -> 7\n-> 1\n    -> 3\n        -> 8\n1 \n4 3 \n5 8 \n7 \n"
     ]
    }
   ],
   "source": [
    "from collections import deque\n",
    "\n",
    "def level_order():\n",
    "    bt = BinaryTree()\n",
    "    bt.insert_many([1, 3, 4, 5, 8, 7])\n",
    "    BinaryTree.display_tree(bt.head)\n",
    "\n",
    "    current = bt.head\n",
    "    queue = deque()\n",
    "    queue.append(current)\n",
    "\n",
    "    current_nodes = 1\n",
    "    next_nodes = 0\n",
    "\n",
    "    while len(queue):\n",
    "        current = queue.popleft()\n",
    "        print(current.value, end=' ')\n",
    "        current_nodes -= 1\n",
    "        \n",
    "        if current.left:\n",
    "            queue.append(current.left)\n",
    "            next_nodes += 1\n",
    "        \n",
    "        if current.right:\n",
    "            queue.append(current.right)\n",
    "            next_nodes += 1\n",
    "\n",
    "        if current_nodes == 0:\n",
    "            print()\n",
    "            current_nodes = next_nodes\n",
    "            next_nodes = 0\n",
    "\n",
    "level_order()"
   ]
  },
  {
   "source": [
    "## Reverse level order traversal"
   ],
   "cell_type": "markdown",
   "metadata": {}
  },
  {
   "cell_type": "code",
   "execution_count": 29,
   "metadata": {},
   "outputs": [
    {
     "output_type": "stream",
     "name": "stdout",
     "text": [
      "    -> 4\n-> 1\n    -> 2\n        -> 3\n            -> 5\n5 3 4 2 1 "
     ]
    }
   ],
   "source": [
    "from collections import deque\n",
    "\n",
    "def reverse_level(bst):\n",
    "    sq = deque()\n",
    "    sq.append(bst.head)\n",
    "    result = deque()\n",
    "    while len(sq) != 0:\n",
    "        current = sq.popleft()\n",
    "\n",
    "        if current.right:\n",
    "            sq.append(current.right)\n",
    "        if current.left:\n",
    "            sq.append(current.left)\n",
    "\n",
    "        result.append(current.value)\n",
    "\n",
    "    while len(result):\n",
    "        print(result.pop(), end=' ')\n",
    "    \n",
    "# testing\n",
    "bst = BinaryTree([1, 2, 3, 4, 5])\n",
    "bst.display_tree(bst.head)\n",
    "reverse_level(bst)"
   ]
  },
  {
   "source": [
    "## Height of a tree"
   ],
   "cell_type": "markdown",
   "metadata": {}
  },
  {
   "cell_type": "code",
   "execution_count": 30,
   "metadata": {},
   "outputs": [
    {
     "output_type": "stream",
     "name": "stdout",
     "text": [
      "    -> 4\n-> 1\n        -> 5\n    -> 2\n        -> 3\n"
     ]
    },
    {
     "output_type": "execute_result",
     "data": {
      "text/plain": [
       "3"
      ]
     },
     "metadata": {},
     "execution_count": 30
    }
   ],
   "source": [
    "def height(node):\n",
    "    if node == None:\n",
    "        return 0\n",
    "    left_height = height(node.left)\n",
    "    right_height = height(node.right)\n",
    "    return max(left_height, right_height) + 1\n",
    "\n",
    "# testing\n",
    "bst = BinaryTree([1, 2, 3, 4, 5])\n",
    "bst.display_tree(bst.head)\n",
    "height(bst.head)"
   ]
  },
  {
   "source": [
    "## Find the diamter of a tree"
   ],
   "cell_type": "markdown",
   "metadata": {}
  },
  {
   "cell_type": "code",
   "execution_count": 31,
   "metadata": {},
   "outputs": [
    {
     "output_type": "stream",
     "name": "stdout",
     "text": [
      "    -> 4\n-> 1\n        -> 5\n    -> 2\n        -> 3\n"
     ]
    },
    {
     "output_type": "execute_result",
     "data": {
      "text/plain": [
       "4"
      ]
     },
     "metadata": {},
     "execution_count": 31
    }
   ],
   "source": [
    "def diameter(node):\n",
    "    if node == None:\n",
    "        return 0\n",
    "\n",
    "    left_height = height(node.left)\n",
    "    right_height = height(node.right)\n",
    "\n",
    "    return max(diameter(node.left), diameter(node.right), left_height+right_height+1)\n",
    "\n",
    "# testing\n",
    "bst.display_tree(bst.head)\n",
    "diameter(bst.head)"
   ]
  },
  {
   "source": [
    "## Create a mirror tree"
   ],
   "cell_type": "markdown",
   "metadata": {}
  },
  {
   "cell_type": "code",
   "execution_count": 42,
   "metadata": {},
   "outputs": [
    {
     "output_type": "stream",
     "name": "stdout",
     "text": [
      "    -> 4\n-> 1\n        -> 5\n    -> 2\n        -> 3\n        -> 3\n    -> 2\n        -> 5\n-> 1\n    -> 4\n"
     ]
    }
   ],
   "source": [
    "def mirrorify(root, mirror = None):\n",
    "    if root == None:\n",
    "        return None\n",
    "    mirror = BinaryTreeNode(root.value)\n",
    "    mirror.right = mirrorify(root.left, mirror.right)\n",
    "    mirror.left = mirrorify(root.right, mirror.left)\n",
    "    return mirror\n",
    "\n",
    "# testing\n",
    "BinaryTree.display_tree(bst.head)\n",
    "mirror_bst = mirrorify(bst.head)\n",
    "BinaryTree.display_tree(mirror_bst)"
   ]
  },
  {
   "source": [
    "## Inorder Traversal"
   ],
   "cell_type": "markdown",
   "metadata": {}
  },
  {
   "cell_type": "code",
   "execution_count": 53,
   "metadata": {},
   "outputs": [
    {
     "output_type": "stream",
     "name": "stdout",
     "text": [
      "    -> 4\n-> 1\n        -> 5\n    -> 2\n        -> 3\n4 1 5 2 3 \n4 1 5 2 3 "
     ]
    }
   ],
   "source": [
    "def inorder_recursive(node: BinaryTreeNode):\n",
    "    if node == None:\n",
    "        return\n",
    "    \n",
    "    inorder_recursive(node.left)\n",
    "    print(node.value, end=' ')\n",
    "    inorder_recursive(node.right)\n",
    "\n",
    "from collections import deque\n",
    "def inorder_iterative(tree: BinaryTree):\n",
    "    stack = deque()\n",
    "    current = tree.head\n",
    "    \n",
    "    while len(stack) or current:\n",
    "        if current != None:\n",
    "            stack.append(current)\n",
    "            current = current.left\n",
    "        else:\n",
    "            current = stack.pop()\n",
    "            print(current.value, end=' ')\n",
    "            current = current.right\n",
    "\n",
    "# testing\n",
    "BinaryTree.display_tree(bst.head)\n",
    "inorder_recursive(bst.head)\n",
    "print()\n",
    "inorder_iterative(bst)"
   ]
  },
  {
   "source": [
    "## Preorder Traversal"
   ],
   "cell_type": "markdown",
   "metadata": {}
  },
  {
   "cell_type": "code",
   "execution_count": 57,
   "metadata": {},
   "outputs": [
    {
     "output_type": "stream",
     "name": "stdout",
     "text": [
      "    -> 4\n-> 1\n        -> 5\n    -> 2\n        -> 3\n1 4 2 5 3 \n1 4 2 5 3 "
     ]
    }
   ],
   "source": [
    "def preorder_recursion(node: BinaryTreeNode):\n",
    "    if node == None:\n",
    "        return\n",
    "    print(node.value, end = ' ')\n",
    "    preorder_recursion(node.left)\n",
    "    preorder_recursion(node.right)\n",
    "\n",
    "def preorder_iterative(bst: BinaryTree):\n",
    "    stack = deque()\n",
    "    stack.append(bst.head)\n",
    "\n",
    "    while len(stack):\n",
    "        current = stack.pop()\n",
    "        print(current.value, end = ' ')\n",
    "        if current.right:\n",
    "            stack.append(current.right)\n",
    "        if current.left:\n",
    "            stack.append(current.left)\n",
    "\n",
    "# testing\n",
    "BinaryTree.display_tree(bst.head)\n",
    "preorder_recursion(bst.head)\n",
    "print()\n",
    "preorder_iterative(bst)"
   ]
  },
  {
   "source": [
    "## Postorder Traversal"
   ],
   "cell_type": "markdown",
   "metadata": {}
  },
  {
   "cell_type": "code",
   "execution_count": 64,
   "metadata": {},
   "outputs": [
    {
     "output_type": "stream",
     "name": "stdout",
     "text": [
      "    -> 4\n-> 1\n        -> 5\n    -> 2\n        -> 3\n4 5 3 2 1 \n4 5 3 2 1 "
     ]
    }
   ],
   "source": [
    "def postorder_recursion(node: BinaryTreeNode):\n",
    "    if node == None:\n",
    "        return\n",
    "    postorder_recursion(node.left)\n",
    "    postorder_recursion(node.right)\n",
    "    print(node.value, end = ' ')\n",
    "\n",
    "def postorder_iterative(bst: BinaryTree):\n",
    "    stack = deque()\n",
    "    stack_p = deque()\n",
    "\n",
    "    stack.append(bst.head)\n",
    "    while len(stack):\n",
    "        current = stack.pop()\n",
    "        stack_p.append(current)\n",
    "        if current.left:\n",
    "            stack.append(current.left)\n",
    "        if current.right:\n",
    "            stack.append(current.right)\n",
    "    while len(stack_p):\n",
    "        print(stack_p.pop().value, end = ' ')\n",
    "\n",
    "# testing\n",
    "BinaryTree.display_tree(bst.head)\n",
    "postorder_recursion(bst.head)\n",
    "print()\n",
    "postorder_iterative(bst)"
   ]
  },
  {
   "source": [
    "## Left view of the Binary Tree"
   ],
   "cell_type": "markdown",
   "metadata": {}
  },
  {
   "cell_type": "code",
   "execution_count": null,
   "metadata": {},
   "outputs": [],
   "source": [
    "def left_view(bst: BinaryTree):\n",
    "    pass"
   ]
  }
 ]
}