{
 "metadata": {
  "language_info": {
   "codemirror_mode": {
    "name": "ipython",
    "version": 3
   },
   "file_extension": ".py",
   "mimetype": "text/x-python",
   "name": "python",
   "nbconvert_exporter": "python",
   "pygments_lexer": "ipython3",
   "version": "3.8.5-final"
  },
  "orig_nbformat": 2,
  "kernelspec": {
   "name": "python3",
   "display_name": "Python 3.8.5 32-bit",
   "metadata": {
    "interpreter": {
     "hash": "b3ddf538fb3a42f9fbfe7f11c6dede3ea7130c83f3ba063cba8ec84a42ce8ea2"
    }
   }
  }
 },
 "nbformat": 4,
 "nbformat_minor": 2,
 "cells": [
  {
   "source": [
    "# Binary Tree"
   ],
   "cell_type": "markdown",
   "metadata": {}
  },
  {
   "source": [
    "## Level Order Traversal"
   ],
   "cell_type": "markdown",
   "metadata": {}
  },
  {
   "cell_type": "code",
   "execution_count": 35,
   "metadata": {},
   "outputs": [],
   "source": [
    "from random import random\n",
    "from typing import List\n",
    "\n",
    "class BinaryTreeNode(object):\n",
    "    def __init__(self, value, left = None, right = None) -> None:\n",
    "        self.value = value\n",
    "        if isinstance(left, BinaryTreeNode) or left == None:\n",
    "            self.left = left\n",
    "        if isinstance(right, BinaryTreeNode) or right == None:\n",
    "            self.right = right\n",
    "\n",
    "class BinaryTree(object):\n",
    "    def __init__(self):\n",
    "        self.head = None\n",
    "    \n",
    "    def insert(self, value):\n",
    "        new_node = BinaryTreeNode(value)\n",
    "        if self.head == None:\n",
    "            self.head = new_node\n",
    "            return\n",
    "        cur = self.head\n",
    "        parent = None\n",
    "        while cur != None:\n",
    "            parent = cur\n",
    "            if random() < 0.5:\n",
    "                cur = cur.left\n",
    "            else:\n",
    "                cur = cur.right\n",
    "        if parent.right == None:\n",
    "            parent.right = new_node\n",
    "        else:\n",
    "            parent.left = new_node\n",
    "\n",
    "    def insert_many(self, items: List[int]):\n",
    "        for item in items:\n",
    "            self.insert(item)\n",
    "    \n",
    "    def display_tree(self, node, level = 0):\n",
    "        if node is not None:\n",
    "            self.display_tree(node.left, level + 1)\n",
    "            print(' ' * 4 * level + '->', node.value)\n",
    "            self.display_tree(node.right, level + 1)"
   ]
  },
  {
   "source": [
    "## Level Order Traversal"
   ],
   "cell_type": "markdown",
   "metadata": {}
  },
  {
   "cell_type": "code",
   "execution_count": 44,
   "metadata": {},
   "outputs": [
    {
     "output_type": "stream",
     "name": "stdout",
     "text": [
      "    -> 4\n-> 1\n    -> 3\n            -> 7\n        -> 5\n            -> 8\n1 \n4 3 \n5 \n7 8 \n"
     ]
    }
   ],
   "source": [
    "from collections import deque\n",
    "\n",
    "def level_order():\n",
    "    bt = BinaryTree()\n",
    "    bt.insert_many([1, 3, 4, 5, 8, 7])\n",
    "    bt.display_tree(bt.head)\n",
    "\n",
    "    current = bt.head\n",
    "    queue = deque()\n",
    "    queue.append(current)\n",
    "\n",
    "    current_nodes = 1\n",
    "    next_nodes = 0\n",
    "\n",
    "    while len(queue):\n",
    "        current = queue.popleft()\n",
    "        print(current.value, end=' ')\n",
    "        current_nodes -= 1\n",
    "        \n",
    "        if current.left:\n",
    "            queue.append(current.left)\n",
    "            next_nodes += 1\n",
    "        \n",
    "        if current.right:\n",
    "            queue.append(current.right)\n",
    "            next_nodes += 1\n",
    "\n",
    "        if current_nodes == 0:\n",
    "            print()\n",
    "            current_nodes = next_nodes\n",
    "            next_nodes = 0\n",
    "\n",
    "level_order()"
   ]
  }
 ]
}