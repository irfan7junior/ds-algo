{
 "metadata": {
  "language_info": {
   "codemirror_mode": {
    "name": "ipython",
    "version": 3
   },
   "file_extension": ".py",
   "mimetype": "text/x-python",
   "name": "python",
   "nbconvert_exporter": "python",
   "pygments_lexer": "ipython3",
   "version": "3.8.5-final"
  },
  "orig_nbformat": 2,
  "kernelspec": {
   "name": "python3",
   "display_name": "Python 3.8.5 32-bit",
   "metadata": {
    "interpreter": {
     "hash": "b3ddf538fb3a42f9fbfe7f11c6dede3ea7130c83f3ba063cba8ec84a42ce8ea2"
    }
   }
  }
 },
 "nbformat": 4,
 "nbformat_minor": 2,
 "cells": [
  {
   "source": [
    "## Graph"
   ],
   "cell_type": "markdown",
   "metadata": {}
  },
  {
   "source": [
    "## Create a Graph and Print It"
   ],
   "cell_type": "markdown",
   "metadata": {}
  },
  {
   "cell_type": "code",
   "execution_count": 101,
   "metadata": {},
   "outputs": [],
   "source": [
    "class Vertex(object):\n",
    "    def __init__(self, key, color = None, pred = None, level = None):\n",
    "        self.neighbors = dict()\n",
    "        self.key = key\n",
    "        self.color = color\n",
    "        self.pred = pred\n",
    "        self.level = level\n",
    "    \n",
    "    def add_neighbor(self, key, weight = None):\n",
    "        self.neighbors[key] = weight\n",
    "    \n",
    "    def remove_neighbor(self, key):\n",
    "        if key in self.neighbors:\n",
    "            del self.neighbors[key]\n",
    "    \n",
    "    def get_neighbors(self):\n",
    "        return self.neighbors\n",
    "    \n",
    "    def __repr__(self):\n",
    "        return f'connected to: {list(self.neighbors.keys())}'"
   ]
  },
  {
   "cell_type": "code",
   "execution_count": 102,
   "metadata": {},
   "outputs": [],
   "source": [
    "class Graph(object):\n",
    "    def __init__(self):\n",
    "        self.vertices = dict()\n",
    "    \n",
    "    def add_edge(self, from_vert, to_vert):\n",
    "        if from_vert not in self.vertices:\n",
    "            self.vertices[from_vert] = Vertex(from_vert)\n",
    "        if to_vert not in self.vertices:\n",
    "            self.vertices[to_vert] = Vertex(to_vert)\n",
    "        self.vertices[from_vert].add_neighbor(to_vert)"
   ]
  }
 ]
}